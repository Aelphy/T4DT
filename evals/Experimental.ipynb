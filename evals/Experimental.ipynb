{
 "cells": [
  {
   "cell_type": "code",
   "execution_count": 1,
   "id": "502e71fd",
   "metadata": {},
   "outputs": [],
   "source": [
    "import sys\n",
    "sys.path.append('..')\n",
    "import os\n",
    "import skimage\n",
    "import time\n",
    "import kaolin as kal\n",
    "import tntorch as tn\n",
    "import torch\n",
    "import trimesh\n",
    "import tqdm\n",
    "import os.path as osp\n",
    "import matplotlib.pyplot as plt\n",
    "from t4dt.metrics import compute_metrics, hausdorff, MSDM2\n",
    "from t4dt.utils import sdf2mesh\n",
    "from t4dt.t4dt import reduce_tucker"
   ]
  },
  {
   "cell_type": "markdown",
   "id": "987e455f",
   "metadata": {},
   "source": [
    "# Constant tsdf"
   ]
  },
  {
   "cell_type": "code",
   "execution_count": 2,
   "id": "e2467ce3",
   "metadata": {},
   "outputs": [],
   "source": [
    "min_tsdf, max_tsdf = -0.005, 0.005\n",
    "data_dir = '/scratch2/data/cape_release/'\n",
    "model = '00032'\n",
    "scene = 'longshort_flying_eagle'\n",
    "frames = []\n",
    "for frame in sorted(os.listdir(osp.join(data_dir, 'meshes', model, scene, 'posed'))):\n",
    "    if frame.startswith('sdf'):\n",
    "        frames.append(frame)"
   ]
  },
  {
   "cell_type": "code",
   "execution_count": 6,
   "id": "4a9b49c5",
   "metadata": {},
   "outputs": [],
   "source": [
    "folder = osp.join(data_dir, 'meshes', model, scene, 'posed')\n",
    "sdf0 = torch.load(osp.join(folder, frames[0]))\n",
    "sdf1 = torch.load(osp.join(folder, frames[142]))\n",
    "sdf2 = torch.load(osp.join(folder, frames[283]))\n",
    "\n",
    "files = [(osp.join(folder, frame), osp.join(folder, frame[4:-2] + 'obj'))\n",
    "            for frame in frames]"
   ]
  },
  {
   "cell_type": "code",
   "execution_count": 7,
   "id": "e893f282",
   "metadata": {},
   "outputs": [],
   "source": [
    "from typing import List\n",
    "def compute_metrics_constant(\n",
    "        frames: List[str],\n",
    "        sdf_pred: torch.Tensor,\n",
    "        min_tsdf: float,\n",
    "        max_tsdf: float,\n",
    "        num_sample_points: int,\n",
    "        sample_frames: List[int]):\n",
    "    res = torch.tensor(sdf_pred.shape)\n",
    "    result = {}\n",
    "    for i in tqdm.tqdm(sample_frames):\n",
    "        result[i] = {}\n",
    "        frame_pred = sdf_pred\n",
    "        frame_pred.clamp_min_(min_tsdf)\n",
    "        frame_pred.clamp_max_(max_tsdf)\n",
    "\n",
    "        sdf_w_coords = torch.load(frames[i][0])\n",
    "        sdf = sdf_w_coords['sdf']\n",
    "        coords = torch.tensor(sdf_w_coords['coords'])\n",
    "\n",
    "        tqdm.tqdm.write('Marching cube started')\n",
    "        t0 = time.time()\n",
    "        mesh_pred = sdf2mesh(frame_pred, coords, res)\n",
    "        tqdm.tqdm.write(f'Marching cube finished. Took: {time.time() - t0} s.')\n",
    "\n",
    "        tqdm.tqdm.write('Marching cube started')\n",
    "        t0 = time.time()\n",
    "        mesh_gt = sdf2mesh(sdf, coords, res)\n",
    "        tqdm.tqdm.write(f'Marching cube finished. Took: {time.time() - t0} s.')\n",
    "\n",
    "        tqdm.tqdm.write('Sampling points started')\n",
    "        t0 = time.time()\n",
    "        points_gt, _ = trimesh.sample.sample_surface(mesh_gt, num_sample_points)\n",
    "        points_pred, _ = trimesh.sample.sample_surface(mesh_pred, num_sample_points)\n",
    "        tqdm.tqdm.write(f'Sampling points finished. Took: {time.time() - t0} s.')\n",
    "\n",
    "        points_gt = torch.tensor(points_gt[None]).cuda()\n",
    "        points_pred = torch.tensor(points_pred[None]).cuda()\n",
    "\n",
    "        chamfer_distance_error = kal.metrics.pointcloud.chamfer_distance(points_gt, points_pred)[0].detach().cpu()\n",
    "        del points_gt\n",
    "        del points_pred\n",
    "\n",
    "        l2_error = torch.norm(frame_pred - sdf.clamp_min(min_tsdf).clamp_max(max_tsdf))\n",
    "\n",
    "        tqdm.tqdm.write('Voxelgrid conversion started')\n",
    "        t0 = time.time()\n",
    "        vg_pred = kal.ops.conversions.trianglemeshes_to_voxelgrids(\n",
    "            torch.tensor(mesh_pred.vertices[None]),\n",
    "            torch.tensor(mesh_pred.faces),\n",
    "            res.max().item())\n",
    "        vg_gt = kal.ops.conversions.trianglemeshes_to_voxelgrids(\n",
    "            torch.tensor(mesh_gt.vertices[None]),\n",
    "            torch.tensor(mesh_gt.faces),\n",
    "            res.max().item())\n",
    "        tqdm.tqdm.write(f'Voxelgrid conversion finished. Took: {time.time() - t0} s.')\n",
    "\n",
    "        IoU = kal.metrics.voxelgrid.iou(vg_pred, vg_gt)\n",
    "        del vg_pred\n",
    "        del vg_gt\n",
    "\n",
    "        tqdm.tqdm.write('hausdorff computation started')\n",
    "        t0 = time.time()\n",
    "        hausdorff_dist = hausdorff(\n",
    "            torch.tensor(mesh_gt.vertices), torch.tensor(mesh_gt.faces),\n",
    "            torch.tensor(mesh_pred.vertices), torch.tensor(mesh_pred.faces))\n",
    "        tqdm.tqdm.write(f'hausdorff computation finished. Took: {time.time() - t0} s.')\n",
    "\n",
    "        tqdm.tqdm.write('MSDM2 computation started')\n",
    "        t0 = time.time()\n",
    "        MSDM2_err = MSDM2(\n",
    "            torch.tensor(mesh_gt.vertices), torch.tensor(mesh_gt.faces),\n",
    "            torch.tensor(mesh_pred.vertices), torch.tensor(mesh_pred.faces))\n",
    "        tqdm.tqdm.write(f'MSDM2 computation finished. Took: {time.time() - t0} s.')\n",
    "        result[i] = {\n",
    "            'l2': l2_error,\n",
    "            'chamfer_distance': chamfer_distance_error,\n",
    "            'IoU': IoU[0],\n",
    "            'hausdorff': hausdorff_dist,\n",
    "            'MSDM2': MSDM2_err}\n",
    "    return result"
   ]
  },
  {
   "cell_type": "code",
   "execution_count": 8,
   "id": "f094ad80",
   "metadata": {},
   "outputs": [
    {
     "name": "stderr",
     "output_type": "stream",
     "text": [
      "  0%|                                                                                                                                                                                                                                 | 0/3 [00:00<?, ?it/s]"
     ]
    },
    {
     "name": "stdout",
     "output_type": "stream",
     "text": [
      "Marching cube started\n"
     ]
    },
    {
     "name": "stderr",
     "output_type": "stream",
     "text": [
      "  0%|                                                                                                                                                                                                                                 | 0/3 [00:01<?, ?it/s]"
     ]
    },
    {
     "name": "stdout",
     "output_type": "stream",
     "text": [
      "Marching cube finished. Took: 1.3789918422698975 s.\n",
      "Marching cube started\n"
     ]
    },
    {
     "name": "stderr",
     "output_type": "stream",
     "text": [
      "  0%|                                                                                                                                                                                                                                 | 0/3 [00:03<?, ?it/s]"
     ]
    },
    {
     "name": "stdout",
     "output_type": "stream",
     "text": [
      "Marching cube finished. Took: 1.3810975551605225 s.\n",
      "Sampling points started\n",
      "Sampling points finished. Took: 0.13541054725646973 s.\n"
     ]
    },
    {
     "name": "stderr",
     "output_type": "stream",
     "text": [
      "  0%|                                                                                                                                                                                                                                 | 0/3 [00:03<?, ?it/s]"
     ]
    },
    {
     "name": "stdout",
     "output_type": "stream",
     "text": [
      "Voxelgrid conversion started\n"
     ]
    },
    {
     "name": "stderr",
     "output_type": "stream",
     "text": [
      "  0%|                                                                                                                                                                                                                                 | 0/3 [00:11<?, ?it/s]"
     ]
    },
    {
     "name": "stdout",
     "output_type": "stream",
     "text": [
      "Voxelgrid conversion finished. Took: 7.789614200592041 s.\n"
     ]
    },
    {
     "name": "stderr",
     "output_type": "stream",
     "text": [
      "  0%|                                                                                                                                                                                                                                 | 0/3 [00:12<?, ?it/s]"
     ]
    },
    {
     "name": "stdout",
     "output_type": "stream",
     "text": [
      "hausdorff computation started\n"
     ]
    },
    {
     "name": "stderr",
     "output_type": "stream",
     "text": [
      "  0%|                                                                                                                                                                                                                                 | 0/3 [00:12<?, ?it/s]"
     ]
    },
    {
     "name": "stdout",
     "output_type": "stream",
     "text": [
      "hausdorff computation finished. Took: 0.753493070602417 s.\n",
      "MSDM2 computation started\n"
     ]
    },
    {
     "name": "stderr",
     "output_type": "stream",
     "text": [
      " 33%|████████████████████████████████████████████████████████████████████████                                                                                                                                                | 1/3 [04:31<09:03, 271.77s/it]"
     ]
    },
    {
     "name": "stdout",
     "output_type": "stream",
     "text": [
      "Asking to calculate curvature\n",
      "Asking to calculate curvature\n",
      "Asking to calculate curvature\n",
      "Asking to calculate curvature\n",
      "Asking to calculate curvature\n",
      "Asking to calculate curvature\n",
      "MSDM2 computation finished. Took: 258.8096902370453 s.\n"
     ]
    },
    {
     "name": "stderr",
     "output_type": "stream",
     "text": [
      " 33%|████████████████████████████████████████████████████████████████████████                                                                                                                                                | 1/3 [04:31<09:03, 271.77s/it]"
     ]
    },
    {
     "name": "stdout",
     "output_type": "stream",
     "text": [
      "Marching cube started\n"
     ]
    },
    {
     "name": "stderr",
     "output_type": "stream",
     "text": [
      " 33%|████████████████████████████████████████████████████████████████████████                                                                                                                                                | 1/3 [04:33<09:03, 271.77s/it]"
     ]
    },
    {
     "name": "stdout",
     "output_type": "stream",
     "text": [
      "Marching cube finished. Took: 1.3744697570800781 s.\n",
      "Marching cube started\n"
     ]
    },
    {
     "name": "stderr",
     "output_type": "stream",
     "text": [
      " 33%|████████████████████████████████████████████████████████████████████████                                                                                                                                                | 1/3 [04:34<09:03, 271.77s/it]"
     ]
    },
    {
     "name": "stdout",
     "output_type": "stream",
     "text": [
      "Marching cube finished. Took: 1.3788716793060303 s.\n",
      "Sampling points started\n",
      "Sampling points finished. Took: 0.13970375061035156 s.\n"
     ]
    },
    {
     "name": "stderr",
     "output_type": "stream",
     "text": [
      " 33%|████████████████████████████████████████████████████████████████████████                                                                                                                                                | 1/3 [04:35<09:03, 271.77s/it]"
     ]
    },
    {
     "name": "stdout",
     "output_type": "stream",
     "text": [
      "Voxelgrid conversion started\n"
     ]
    },
    {
     "name": "stderr",
     "output_type": "stream",
     "text": [
      " 33%|████████████████████████████████████████████████████████████████████████                                                                                                                                                | 1/3 [04:43<09:03, 271.77s/it]"
     ]
    },
    {
     "name": "stdout",
     "output_type": "stream",
     "text": [
      "Voxelgrid conversion finished. Took: 7.992024660110474 s.\n"
     ]
    },
    {
     "name": "stderr",
     "output_type": "stream",
     "text": [
      " 33%|████████████████████████████████████████████████████████████████████████                                                                                                                                                | 1/3 [04:44<09:03, 271.77s/it]"
     ]
    },
    {
     "name": "stdout",
     "output_type": "stream",
     "text": [
      "hausdorff computation started\n"
     ]
    },
    {
     "name": "stderr",
     "output_type": "stream",
     "text": [
      " 33%|████████████████████████████████████████████████████████████████████████                                                                                                                                                | 1/3 [04:45<09:03, 271.77s/it]"
     ]
    },
    {
     "name": "stdout",
     "output_type": "stream",
     "text": [
      "hausdorff computation finished. Took: 1.5896661281585693 s.\n",
      "MSDM2 computation started\n"
     ]
    },
    {
     "name": "stderr",
     "output_type": "stream",
     "text": [
      " 67%|████████████████████████████████████████████████████████████████████████████████████████████████████████████████████████████████████████████████                                                                        | 2/3 [09:26<04:45, 285.12s/it]"
     ]
    },
    {
     "name": "stdout",
     "output_type": "stream",
     "text": [
      "Asking to calculate curvature\n",
      "Asking to calculate curvature\n",
      "Curvature warning: 2 isolated vertices were skipped.\n",
      "Asking to calculate curvature\n",
      "Asking to calculate curvature\n",
      "Curvature warning: 2 isolated vertices were skipped.\n",
      "Asking to calculate curvature\n",
      "Asking to calculate curvature\n",
      "Curvature warning: 2 isolated vertices were skipped.\n",
      "MSDM2 computation finished. Took: 280.50464272499084 s.\n"
     ]
    },
    {
     "name": "stderr",
     "output_type": "stream",
     "text": [
      " 67%|████████████████████████████████████████████████████████████████████████████████████████████████████████████████████████████████████████████████                                                                        | 2/3 [09:26<04:45, 285.12s/it]"
     ]
    },
    {
     "name": "stdout",
     "output_type": "stream",
     "text": [
      "Marching cube started\n"
     ]
    },
    {
     "name": "stderr",
     "output_type": "stream",
     "text": [
      " 67%|████████████████████████████████████████████████████████████████████████████████████████████████████████████████████████████████████████████████                                                                        | 2/3 [09:27<04:45, 285.12s/it]"
     ]
    },
    {
     "name": "stdout",
     "output_type": "stream",
     "text": [
      "Marching cube finished. Took: 1.3711464405059814 s.\n",
      "Marching cube started\n"
     ]
    },
    {
     "name": "stderr",
     "output_type": "stream",
     "text": [
      " 67%|████████████████████████████████████████████████████████████████████████████████████████████████████████████████████████████████████████████████                                                                        | 2/3 [09:29<04:45, 285.12s/it]"
     ]
    },
    {
     "name": "stdout",
     "output_type": "stream",
     "text": [
      "Marching cube finished. Took: 1.3747434616088867 s.\n",
      "Sampling points started\n",
      "Sampling points finished. Took: 0.13660573959350586 s.\n"
     ]
    },
    {
     "name": "stderr",
     "output_type": "stream",
     "text": [
      " 67%|████████████████████████████████████████████████████████████████████████████████████████████████████████████████████████████████████████████████                                                                        | 2/3 [09:30<04:45, 285.12s/it]"
     ]
    },
    {
     "name": "stdout",
     "output_type": "stream",
     "text": [
      "Voxelgrid conversion started\n"
     ]
    },
    {
     "name": "stderr",
     "output_type": "stream",
     "text": [
      " 67%|████████████████████████████████████████████████████████████████████████████████████████████████████████████████████████████████████████████████                                                                        | 2/3 [09:37<04:45, 285.12s/it]"
     ]
    },
    {
     "name": "stdout",
     "output_type": "stream",
     "text": [
      "Voxelgrid conversion finished. Took: 7.801785707473755 s.\n"
     ]
    },
    {
     "name": "stderr",
     "output_type": "stream",
     "text": [
      " 67%|████████████████████████████████████████████████████████████████████████████████████████████████████████████████████████████████████████████████                                                                        | 2/3 [09:38<04:45, 285.12s/it]"
     ]
    },
    {
     "name": "stdout",
     "output_type": "stream",
     "text": [
      "hausdorff computation started\n"
     ]
    },
    {
     "name": "stderr",
     "output_type": "stream",
     "text": [
      " 67%|████████████████████████████████████████████████████████████████████████████████████████████████████████████████████████████████████████████████                                                                        | 2/3 [09:39<04:45, 285.12s/it]"
     ]
    },
    {
     "name": "stdout",
     "output_type": "stream",
     "text": [
      "hausdorff computation finished. Took: 0.9312138557434082 s.\n",
      "MSDM2 computation started\n"
     ]
    },
    {
     "name": "stderr",
     "output_type": "stream",
     "text": [
      "100%|████████████████████████████████████████████████████████████████████████████████████████████████████████████████████████████████████████████████████████████████████████████████████████████████████████████████████████| 3/3 [14:02<00:00, 280.69s/it]"
     ]
    },
    {
     "name": "stdout",
     "output_type": "stream",
     "text": [
      "Asking to calculate curvature\n",
      "Asking to calculate curvature\n",
      "Asking to calculate curvature\n",
      "Asking to calculate curvature\n",
      "Asking to calculate curvature\n",
      "Asking to calculate curvature\n",
      "MSDM2 computation finished. Took: 262.7808926105499 s.\n"
     ]
    },
    {
     "name": "stderr",
     "output_type": "stream",
     "text": [
      "\n"
     ]
    },
    {
     "data": {
      "text/plain": [
       "{0: {'l2': tensor(0.),\n",
       "  'chamfer_distance': tensor(4.2841e-05, dtype=torch.float64),\n",
       "  'IoU': tensor(0.9999),\n",
       "  'hausdorff': 0.0005439726856382182,\n",
       "  'MSDM2': 0.004876062542257095},\n",
       " 142: {'l2': tensor(12.2017),\n",
       "  'chamfer_distance': tensor(0.0067, dtype=torch.float64),\n",
       "  'IoU': tensor(0.0072),\n",
       "  'hausdorff': 0.19801137616898737,\n",
       "  'MSDM2': 0.5154686371753484},\n",
       " 283: {'l2': tensor(4.1074),\n",
       "  'chamfer_distance': tensor(0.0002, dtype=torch.float64),\n",
       "  'IoU': tensor(0.0311),\n",
       "  'hausdorff': 0.06490128288537549,\n",
       "  'MSDM2': 0.3891190929040058}}"
      ]
     },
     "execution_count": 8,
     "metadata": {},
     "output_type": "execute_result"
    }
   ],
   "source": [
    "compute_metrics_constant(\n",
    "    files,\n",
    "    sdf0['sdf'],\n",
    "    min_tsdf, max_tsdf,\n",
    "    30000,\n",
    "    [0, len(frames) // 2, len(frames) - 1])"
   ]
  },
  {
   "cell_type": "code",
   "execution_count": 15,
   "id": "9fc83d26",
   "metadata": {},
   "outputs": [
    {
     "name": "stderr",
     "output_type": "stream",
     "text": [
      "  0%|                                                                                                                                                                                                                                 | 0/3 [00:00<?, ?it/s]"
     ]
    },
    {
     "name": "stdout",
     "output_type": "stream",
     "text": [
      "Marching cube started\n"
     ]
    },
    {
     "name": "stderr",
     "output_type": "stream",
     "text": [
      "  0%|                                                                                                                                                                                                                                 | 0/3 [00:01<?, ?it/s]"
     ]
    },
    {
     "name": "stdout",
     "output_type": "stream",
     "text": [
      "Marching cube finished. Took: 1.369436502456665 s.\n",
      "Marching cube started\n"
     ]
    },
    {
     "name": "stderr",
     "output_type": "stream",
     "text": [
      "  0%|                                                                                                                                                                                                                                 | 0/3 [00:03<?, ?it/s]"
     ]
    },
    {
     "name": "stdout",
     "output_type": "stream",
     "text": [
      "Marching cube finished. Took: 1.3688263893127441 s.\n",
      "Sampling points started\n",
      "Sampling points finished. Took: 0.1344602108001709 s.\n"
     ]
    },
    {
     "name": "stderr",
     "output_type": "stream",
     "text": [
      "  0%|                                                                                                                                                                                                                                 | 0/3 [00:03<?, ?it/s]"
     ]
    },
    {
     "name": "stdout",
     "output_type": "stream",
     "text": [
      "Voxelgrid conversion started\n"
     ]
    },
    {
     "name": "stderr",
     "output_type": "stream",
     "text": [
      "  0%|                                                                                                                                                                                                                                 | 0/3 [00:11<?, ?it/s]"
     ]
    },
    {
     "name": "stdout",
     "output_type": "stream",
     "text": [
      "Voxelgrid conversion finished. Took: 7.740429162979126 s.\n"
     ]
    },
    {
     "name": "stderr",
     "output_type": "stream",
     "text": [
      "  0%|                                                                                                                                                                                                                                 | 0/3 [00:11<?, ?it/s]"
     ]
    },
    {
     "name": "stdout",
     "output_type": "stream",
     "text": [
      "hausdorff computation started\n"
     ]
    },
    {
     "name": "stderr",
     "output_type": "stream",
     "text": [
      "  0%|                                                                                                                                                                                                                                 | 0/3 [00:13<?, ?it/s]"
     ]
    },
    {
     "name": "stdout",
     "output_type": "stream",
     "text": [
      "hausdorff computation finished. Took: 1.4946918487548828 s.\n",
      "MSDM2 computation started\n"
     ]
    },
    {
     "name": "stderr",
     "output_type": "stream",
     "text": [
      " 33%|████████████████████████████████████████████████████████████████████████                                                                                                                                                | 1/3 [04:22<08:45, 262.74s/it]"
     ]
    },
    {
     "name": "stdout",
     "output_type": "stream",
     "text": [
      "Asking to calculate curvature\n",
      "Asking to calculate curvature\n",
      "Asking to calculate curvature\n",
      "Asking to calculate curvature\n",
      "Asking to calculate curvature\n",
      "Asking to calculate curvature\n",
      "MSDM2 computation finished. Took: 249.25557374954224 s.\n"
     ]
    },
    {
     "name": "stderr",
     "output_type": "stream",
     "text": [
      " 33%|████████████████████████████████████████████████████████████████████████                                                                                                                                                | 1/3 [04:22<08:45, 262.74s/it]"
     ]
    },
    {
     "name": "stdout",
     "output_type": "stream",
     "text": [
      "Marching cube started\n"
     ]
    },
    {
     "name": "stderr",
     "output_type": "stream",
     "text": [
      " 33%|████████████████████████████████████████████████████████████████████████                                                                                                                                                | 1/3 [04:24<08:45, 262.74s/it]"
     ]
    },
    {
     "name": "stdout",
     "output_type": "stream",
     "text": [
      "Marching cube finished. Took: 1.3812518119812012 s.\n",
      "Marching cube started\n"
     ]
    },
    {
     "name": "stderr",
     "output_type": "stream",
     "text": [
      " 33%|████████████████████████████████████████████████████████████████████████                                                                                                                                                | 1/3 [04:25<08:45, 262.74s/it]"
     ]
    },
    {
     "name": "stdout",
     "output_type": "stream",
     "text": [
      "Marching cube finished. Took: 1.3923509120941162 s.\n",
      "Sampling points started\n",
      "Sampling points finished. Took: 0.13874220848083496 s.\n"
     ]
    },
    {
     "name": "stderr",
     "output_type": "stream",
     "text": [
      " 33%|████████████████████████████████████████████████████████████████████████                                                                                                                                                | 1/3 [04:26<08:45, 262.74s/it]"
     ]
    },
    {
     "name": "stdout",
     "output_type": "stream",
     "text": [
      "Voxelgrid conversion started\n"
     ]
    },
    {
     "name": "stderr",
     "output_type": "stream",
     "text": [
      " 33%|████████████████████████████████████████████████████████████████████████                                                                                                                                                | 1/3 [04:34<08:45, 262.74s/it]"
     ]
    },
    {
     "name": "stdout",
     "output_type": "stream",
     "text": [
      "Voxelgrid conversion finished. Took: 8.061902284622192 s.\n"
     ]
    },
    {
     "name": "stderr",
     "output_type": "stream",
     "text": [
      " 33%|████████████████████████████████████████████████████████████████████████                                                                                                                                                | 1/3 [04:35<08:45, 262.74s/it]"
     ]
    },
    {
     "name": "stdout",
     "output_type": "stream",
     "text": [
      "hausdorff computation started\n"
     ]
    },
    {
     "name": "stderr",
     "output_type": "stream",
     "text": [
      " 33%|████████████████████████████████████████████████████████████████████████                                                                                                                                                | 1/3 [04:36<08:45, 262.74s/it]"
     ]
    },
    {
     "name": "stdout",
     "output_type": "stream",
     "text": [
      "hausdorff computation finished. Took: 0.9936776161193848 s.\n",
      "MSDM2 computation started\n",
      "Asking to calculate curvature\n"
     ]
    },
    {
     "name": "stderr",
     "output_type": "stream",
     "text": [
      " 67%|████████████████████████████████████████████████████████████████████████████████████████████████████████████████████████████████████████████████                                                                        | 2/3 [08:33<04:15, 255.89s/it]"
     ]
    },
    {
     "name": "stdout",
     "output_type": "stream",
     "text": [
      "Asking to calculate curvature\n",
      "Curvature warning: 2 isolated vertices were skipped.\n",
      "Asking to calculate curvature\n",
      "Asking to calculate curvature\n",
      "Curvature warning: 2 isolated vertices were skipped.\n",
      "Asking to calculate curvature\n",
      "Asking to calculate curvature\n",
      "Curvature warning: 2 isolated vertices were skipped.\n",
      "MSDM2 computation finished. Took: 237.63420391082764 s.\n"
     ]
    },
    {
     "name": "stderr",
     "output_type": "stream",
     "text": [
      " 67%|████████████████████████████████████████████████████████████████████████████████████████████████████████████████████████████████████████████████                                                                        | 2/3 [08:34<04:15, 255.89s/it]"
     ]
    },
    {
     "name": "stdout",
     "output_type": "stream",
     "text": [
      "Marching cube started\n"
     ]
    },
    {
     "name": "stderr",
     "output_type": "stream",
     "text": [
      " 67%|████████████████████████████████████████████████████████████████████████████████████████████████████████████████████████████████████████████████                                                                        | 2/3 [08:35<04:15, 255.89s/it]"
     ]
    },
    {
     "name": "stdout",
     "output_type": "stream",
     "text": [
      "Marching cube finished. Took: 1.3711090087890625 s.\n",
      "Marching cube started\n"
     ]
    },
    {
     "name": "stderr",
     "output_type": "stream",
     "text": [
      " 67%|████████████████████████████████████████████████████████████████████████████████████████████████████████████████████████████████████████████████                                                                        | 2/3 [08:36<04:15, 255.89s/it]"
     ]
    },
    {
     "name": "stdout",
     "output_type": "stream",
     "text": [
      "Marching cube finished. Took: 1.3776323795318604 s.\n",
      "Sampling points started\n",
      "Sampling points finished. Took: 0.13610029220581055 s.\n"
     ]
    },
    {
     "name": "stderr",
     "output_type": "stream",
     "text": [
      " 67%|████████████████████████████████████████████████████████████████████████████████████████████████████████████████████████████████████████████████                                                                        | 2/3 [08:37<04:15, 255.89s/it]"
     ]
    },
    {
     "name": "stdout",
     "output_type": "stream",
     "text": [
      "Voxelgrid conversion started\n"
     ]
    },
    {
     "name": "stderr",
     "output_type": "stream",
     "text": [
      " 67%|████████████████████████████████████████████████████████████████████████████████████████████████████████████████████████████████████████████████                                                                        | 2/3 [08:45<04:15, 255.89s/it]"
     ]
    },
    {
     "name": "stdout",
     "output_type": "stream",
     "text": [
      "Voxelgrid conversion finished. Took: 7.927035331726074 s.\n"
     ]
    },
    {
     "name": "stderr",
     "output_type": "stream",
     "text": [
      " 67%|████████████████████████████████████████████████████████████████████████████████████████████████████████████████████████████████████████████████                                                                        | 2/3 [08:46<04:15, 255.89s/it]"
     ]
    },
    {
     "name": "stdout",
     "output_type": "stream",
     "text": [
      "hausdorff computation started\n"
     ]
    },
    {
     "name": "stderr",
     "output_type": "stream",
     "text": [
      " 67%|████████████████████████████████████████████████████████████████████████████████████████████████████████████████████████████████████████████████                                                                        | 2/3 [08:47<04:15, 255.89s/it]"
     ]
    },
    {
     "name": "stdout",
     "output_type": "stream",
     "text": [
      "hausdorff computation finished. Took: 1.5349617004394531 s.\n",
      "MSDM2 computation started\n",
      "Asking to calculate curvature\n",
      "Asking to calculate curvature\n",
      "Asking to calculate curvature\n",
      "Asking to calculate curvature\n",
      "Asking to calculate curvature\n",
      "Asking to calculate curvature\n"
     ]
    },
    {
     "name": "stderr",
     "output_type": "stream",
     "text": [
      "100%|████████████████████████████████████████████████████████████████████████████████████████████████████████████████████████████████████████████████████████████████████████████████████████████████████████████████████████| 3/3 [12:57<00:00, 259.11s/it]"
     ]
    },
    {
     "name": "stdout",
     "output_type": "stream",
     "text": [
      "MSDM2 computation finished. Took: 249.64593958854675 s.\n"
     ]
    },
    {
     "name": "stderr",
     "output_type": "stream",
     "text": [
      "\n"
     ]
    },
    {
     "data": {
      "text/plain": [
       "{0: {'l2': tensor(11.2982),\n",
       "  'chamfer_distance': tensor(0.0062, dtype=torch.float64),\n",
       "  'IoU': tensor(0.0080),\n",
       "  'hausdorff': 0.1682107862003486,\n",
       "  'MSDM2': 0.5376455052178554},\n",
       " 142: {'l2': tensor(3.8179),\n",
       "  'chamfer_distance': tensor(0.0002, dtype=torch.float64),\n",
       "  'IoU': tensor(0.0412),\n",
       "  'hausdorff': 0.03962373930620786,\n",
       "  'MSDM2': 0.4032762050864984},\n",
       " 283: {'l2': tensor(11.6279),\n",
       "  'chamfer_distance': tensor(0.0068, dtype=torch.float64),\n",
       "  'IoU': tensor(0.0060),\n",
       "  'hausdorff': 0.1900046183604913,\n",
       "  'MSDM2': 0.5454763465573684}}"
      ]
     },
     "execution_count": 15,
     "metadata": {},
     "output_type": "execute_result"
    }
   ],
   "source": [
    "compute_metrics_constant(\n",
    "    files,\n",
    "    (sdf0['sdf'] + sdf1['sdf']) / 2,\n",
    "    min_tsdf, max_tsdf,\n",
    "    30000,\n",
    "    [0, len(frames) // 2, len(frames) - 1])"
   ]
  },
  {
   "cell_type": "markdown",
   "id": "6f098cd6",
   "metadata": {},
   "source": [
    "# sequential round"
   ]
  },
  {
   "cell_type": "code",
   "execution_count": null,
   "id": "211e68b0",
   "metadata": {},
   "outputs": [],
   "source": [
    "rmax = 50\n",
    "TSDF_MIN = -0.005\n",
    "TSDF_MAX = 0.005\n",
    "t = tn.zeros((512, 512, 512, 284))\n",
    "for i, frame in enumerate(frames):\n",
    "    sdf = torch.load(osp.join(folder, frame))['sdf']\n",
    "    t[..., i] = sdf.clamp_min(TSDF_MIN).clamp_max(TSDF_MAX)\n",
    "    if i == 1:\n",
    "        break"
   ]
  },
  {
   "cell_type": "code",
   "execution_count": 23,
   "id": "c4e48d03",
   "metadata": {},
   "outputs": [],
   "source": [
    "t.round_tt(rmax=rmax)"
   ]
  },
  {
   "cell_type": "code",
   "execution_count": 24,
   "id": "fb040bd6",
   "metadata": {},
   "outputs": [
    {
     "data": {
      "text/plain": [
       "4D TT tensor:\n",
       "\n",
       " 512 512 512 284\n",
       "  |   |   |   |\n",
       " (0) (1) (2) (3)\n",
       " / \\ / \\ / \\ / \\\n",
       "1   50  50  1   1"
      ]
     },
     "execution_count": 24,
     "metadata": {},
     "output_type": "execute_result"
    }
   ],
   "source": [
    "t"
   ]
  },
  {
   "cell_type": "markdown",
   "id": "dbb45807",
   "metadata": {},
   "source": [
    "# Compression experiment"
   ]
  },
  {
   "cell_type": "code",
   "execution_count": 7,
   "id": "3024ca58",
   "metadata": {},
   "outputs": [],
   "source": [
    "tuckers = torch.load('../logs/sweeps/tt_tucker_00032_longshort_flying_eagle_high_ranks.pt')"
   ]
  },
  {
   "cell_type": "code",
   "execution_count": 8,
   "id": "3747662f",
   "metadata": {},
   "outputs": [],
   "source": [
    "rmax = 100\n",
    "\n",
    "[t.round_tucker(rmax=rmax) for t in tuckers]\n",
    "local_res_tucker = reduce_tucker(\n",
    "    [t[..., None] for t in tuckers],\n",
    "    eps=1e-16, rmax=1 * rmax, algorithm='svd')"
   ]
  },
  {
   "cell_type": "code",
   "execution_count": 9,
   "id": "327250f1",
   "metadata": {},
   "outputs": [
    {
     "data": {
      "text/plain": [
       "4D TT-Tucker tensor:\n",
       "\n",
       " 512 512 512 284\n",
       "  |   |   |   |\n",
       " 100 100 100 100\n",
       " (0) (1) (2) (3)\n",
       " / \\ / \\ / \\ / \\\n",
       "1   200 1000100 1"
      ]
     },
     "execution_count": 9,
     "metadata": {},
     "output_type": "execute_result"
    }
   ],
   "source": [
    "local_res_tucker"
   ]
  },
  {
   "cell_type": "code",
   "execution_count": null,
   "id": "002e99b3",
   "metadata": {},
   "outputs": [],
   "source": []
  },
  {
   "cell_type": "code",
   "execution_count": null,
   "id": "1269b427",
   "metadata": {},
   "outputs": [],
   "source": []
  },
  {
   "cell_type": "code",
   "execution_count": null,
   "id": "8d77097f",
   "metadata": {},
   "outputs": [],
   "source": []
  },
  {
   "cell_type": "code",
   "execution_count": null,
   "id": "299de6ae",
   "metadata": {},
   "outputs": [],
   "source": [
    "max_tt_rank = 15\n",
    "low_rank_tt = local_res_tucker.clone()\n",
    "low_rank_tt.round_tt(rmax=low_rank_tt.ranks_tt[1:-2].tolist() + [max_tt_rank])"
   ]
  },
  {
   "cell_type": "code",
   "execution_count": 18,
   "id": "8c5fe3b7",
   "metadata": {},
   "outputs": [],
   "source": []
  },
  {
   "cell_type": "code",
   "execution_count": null,
   "id": "bce35882",
   "metadata": {},
   "outputs": [],
   "source": [
    "low_rank_tt"
   ]
  },
  {
   "cell_type": "code",
   "execution_count": 6,
   "id": "c731e391",
   "metadata": {},
   "outputs": [],
   "source": [
    "coords = torch.tensor(\n",
    "    torch.load('/scratch2/data/cape_release/meshes/00032/longshort_flying_eagle/coords.pt')['coords'])"
   ]
  },
  {
   "cell_type": "code",
   "execution_count": 37,
   "id": "c43d1aec",
   "metadata": {},
   "outputs": [],
   "source": [
    "# mesh = sdf2mesh(tuckers[284 // 2].torch(), coords, 512)\n",
    "# mesh = sdf2mesh(local_res_tucker[..., 284 // 2].torch(), coords, 512)\n",
    "mesh = sdf2mesh(low_rank_tt[..., 284 // 2].torch(), coords, 512)\n",
    "obj = trimesh.exchange.obj.export_obj(mesh, include_texture=False)\n",
    "with open('./mesh_sdf.obj', 'w') as f:\n",
    "    f.write(obj)"
   ]
  },
  {
   "cell_type": "code",
   "execution_count": 6,
   "id": "6b43634c",
   "metadata": {},
   "outputs": [],
   "source": [
    "import torch\n",
    "\n",
    "def get_qtt3d_reshape_plan(dim_grid_log2):\n",
    "    dim_grid = 2 ** dim_grid_log2\n",
    "    num_factors = dim_grid_log2 * 3\n",
    "\n",
    "    shape_src = [dim_grid] * 3\n",
    "    shape_dst = [8] * dim_grid_log2\n",
    "    shape_factors = [2] * num_factors\n",
    "\n",
    "    factor_ids = torch.arange(num_factors)\n",
    "    permute_factors_src_to_dst = factor_ids.reshape(3, dim_grid_log2).T.reshape(-1).tolist()\n",
    "    permute_factors_dst_to_src = factor_ids.reshape(dim_grid_log2, 3).T.reshape(-1).tolist()\n",
    "\n",
    "    permute_factors_src_to_dst.append(num_factors)\n",
    "    permute_factors_dst_to_src.append(num_factors)\n",
    "\n",
    "    return {\n",
    "        'shape_factors': shape_factors,\n",
    "        'shape_src': shape_src,\n",
    "        'shape_dst': shape_dst,\n",
    "        'permute_factors_src_to_dst': permute_factors_src_to_dst,\n",
    "        'permute_factors_dst_to_src': permute_factors_dst_to_src,\n",
    "    }\n",
    "\n",
    "\n",
    "def tensor_order_to_qtt(x, plan):\n",
    "    x = x.reshape(plan['shape_factors'])\n",
    "    x = x.permute(plan['permute_factors_src_to_dst'])\n",
    "    x = x.reshape(plan['shape_dst'])\n",
    "    return x\n",
    "\n",
    "\n",
    "def tensor_order_from_qtt(x, plan):\n",
    "    x = x.reshape(plan['shape_factors'])\n",
    "    x = x.permute(plan['permute_factors_dst_to_src'])\n",
    "    x = x.reshape(plan['shape_src'])\n",
    "    return x"
   ]
  },
  {
   "cell_type": "code",
   "execution_count": 7,
   "id": "9ffa7e99",
   "metadata": {},
   "outputs": [
    {
     "data": {
      "text/plain": [
       "{'shape_factors': [2, 2, 2, 2, 2, 2],\n",
       " 'shape_src': [4, 4, 4],\n",
       " 'shape_dst': [8, 8],\n",
       " 'permute_factors_src_to_dst': [0, 2, 4, 1, 3, 5, 6],\n",
       " 'permute_factors_dst_to_src': [0, 3, 1, 4, 2, 5, 6]}"
      ]
     },
     "execution_count": 7,
     "metadata": {},
     "output_type": "execute_result"
    }
   ],
   "source": [
    "get_qtt3d_reshape_plan(2)"
   ]
  },
  {
   "cell_type": "code",
   "execution_count": 9,
   "id": "d3de8306",
   "metadata": {},
   "outputs": [
    {
     "data": {
      "text/plain": [
       "2.0"
      ]
     },
     "execution_count": 9,
     "metadata": {},
     "output_type": "execute_result"
    }
   ],
   "source": [
    "import numpy as np\n",
    "np.log(4) / np.log(2)"
   ]
  },
  {
   "cell_type": "code",
   "execution_count": 10,
   "id": "3913d476",
   "metadata": {},
   "outputs": [],
   "source": [
    "def is_pow2(n: int) -> bool:\n",
    "    logn = np.log(n) / np.log(2)\n",
    "    return (2**logn - 2**int(logn)) < 1e-8"
   ]
  },
  {
   "cell_type": "code",
   "execution_count": 18,
   "id": "51120aa9",
   "metadata": {},
   "outputs": [
    {
     "data": {
      "text/plain": [
       "True"
      ]
     },
     "execution_count": 18,
     "metadata": {},
     "output_type": "execute_result"
    }
   ],
   "source": [
    "is_pow2(1024)"
   ]
  },
  {
   "cell_type": "code",
   "execution_count": 19,
   "id": "9729b18a",
   "metadata": {},
   "outputs": [],
   "source": [
    "import itertools"
   ]
  },
  {
   "cell_type": "code",
   "execution_count": 20,
   "id": "9fe36755",
   "metadata": {},
   "outputs": [],
   "source": [
    "dimentions = np.arange(8)"
   ]
  },
  {
   "cell_type": "code",
   "execution_count": 33,
   "id": "813653ed",
   "metadata": {},
   "outputs": [
    {
     "data": {
      "text/plain": [
       "[0,\n",
       " 8,\n",
       " 16,\n",
       " 1,\n",
       " 9,\n",
       " 17,\n",
       " 2,\n",
       " 10,\n",
       " 18,\n",
       " 3,\n",
       " 11,\n",
       " 19,\n",
       " 4,\n",
       " 12,\n",
       " 20,\n",
       " 5,\n",
       " 13,\n",
       " 21,\n",
       " 6,\n",
       " 14,\n",
       " 22,\n",
       " 7,\n",
       " 15,\n",
       " 23]"
      ]
     },
     "execution_count": 33,
     "metadata": {},
     "output_type": "execute_result"
    }
   ],
   "source": []
  },
  {
   "cell_type": "code",
   "execution_count": 63,
   "id": "b566cc63",
   "metadata": {},
   "outputs": [],
   "source": [
    "def is_pow2(n: int) -> bool:\n",
    "    return n != 0 and ((n & (n - 1)) == 0)\n",
    "\n",
    "\n",
    "def tensor3d2qtt(t: torch.Tensor, checks: bool = True) -> torch.Tensor:\n",
    "    shape = t.shape\n",
    "    if checks:\n",
    "        assert len(shape) == 3\n",
    "        assert shape[0] == shape[1] == shape[2], f'Only tensors with all equal dimensions are supported'\n",
    "        assert is_pow2(shape[0])\n",
    "    dim_grid = int(np.log(shape[0]) / np.log(2))\n",
    "    num_dims = 3 * dim_grid\n",
    "    qtt = t.reshape([2] * num_dims)\n",
    "    dimentions = np.arange(num_dims)\n",
    "    dims = list(\n",
    "        itertools.chain.from_iterable(\n",
    "            zip(\n",
    "                dimentions[:dim_grid],\n",
    "                dimentions[dim_grid:2 * dim_grid],\n",
    "                dimentions[2 * dim_grid:])))\n",
    "    qtt = qtt.permute(dims)\n",
    "    return qtt\n",
    "\n",
    "\n",
    "def qtt2tensor3d(qtt: torch.Tensor, checks: bool = True) -> torch.Tensor:\n",
    "    shape = qtt.shape\n",
    "    if checks:\n",
    "        assert all([shape[0] == shape[i] == 2 for i in range(1, len(shape))]), f'Only qtt tensors are supported'\n",
    "        assert len(shape) // 3 == len(shape) / 3\n",
    "    num_dims = len(shape)\n",
    "    dimentions = np.arange(num_dims)\n",
    "    dims = list(np.concatenate([\n",
    "        dimentions[0::3],\n",
    "        dimentions[1::3],\n",
    "        dimentions[2::3]]))\n",
    "    t = qtt.permute(dims)\n",
    "    dim_grid = 2 ** (num_dims // 3)\n",
    "    return t.reshape([dim_grid] * 3)"
   ]
  },
  {
   "cell_type": "code",
   "execution_count": 64,
   "id": "85ca4fdb",
   "metadata": {},
   "outputs": [],
   "source": [
    "t = torch.rand((32,32,32))"
   ]
  },
  {
   "cell_type": "code",
   "execution_count": 65,
   "id": "37fcaca5",
   "metadata": {},
   "outputs": [
    {
     "data": {
      "text/plain": [
       "tensor(0.)"
      ]
     },
     "execution_count": 65,
     "metadata": {},
     "output_type": "execute_result"
    }
   ],
   "source": [
    "torch.norm(qtt2tensor3d(tensor3d2qtt(t, True)) - t)"
   ]
  },
  {
   "cell_type": "code",
   "execution_count": 55,
   "id": "729e4011",
   "metadata": {},
   "outputs": [
    {
     "data": {
      "text/plain": [
       "1.0"
      ]
     },
     "execution_count": 55,
     "metadata": {},
     "output_type": "execute_result"
    }
   ],
   "source": [
    "4096 / 16/ 16/ 16"
   ]
  },
  {
   "cell_type": "code",
   "execution_count": null,
   "id": "df1689e2",
   "metadata": {},
   "outputs": [],
   "source": []
  }
 ],
 "metadata": {
  "kernelspec": {
   "display_name": "Python 3 (ipykernel)",
   "language": "python",
   "name": "python3"
  },
  "language_info": {
   "codemirror_mode": {
    "name": "ipython",
    "version": 3
   },
   "file_extension": ".py",
   "mimetype": "text/x-python",
   "name": "python",
   "nbconvert_exporter": "python",
   "pygments_lexer": "ipython3",
   "version": "3.10.4"
  }
 },
 "nbformat": 4,
 "nbformat_minor": 5
}
