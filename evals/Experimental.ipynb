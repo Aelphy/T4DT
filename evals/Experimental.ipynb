{
 "cells": [
  {
   "cell_type": "code",
   "execution_count": 1,
   "id": "502e71fd",
   "metadata": {},
   "outputs": [],
   "source": [
    "%load_ext autoreload\n",
    "%autoreload 1\n",
    "\n",
    "import sys\n",
    "sys.path.append('..')\n",
    "import os\n",
    "import skimage\n",
    "import time\n",
    "import kaolin as kal\n",
    "import tntorch as tn\n",
    "import torch\n",
    "import trimesh\n",
    "import tqdm\n",
    "import os.path as osp\n",
    "import matplotlib.pyplot as plt\n",
    "from t4dt.metrics import compute_metrics, hausdorff, MSDM2\n",
    "from t4dt.utils import sdf2mesh\n",
    "from t4dt.t4dt import reduce_tucker, qtt_stack, qtt2tensor3d, get_qtt_frame"
   ]
  },
  {
   "cell_type": "markdown",
   "id": "987e455f",
   "metadata": {},
   "source": [
    "# Constant tsdf"
   ]
  },
  {
   "cell_type": "code",
   "execution_count": 2,
   "id": "e2467ce3",
   "metadata": {},
   "outputs": [],
   "source": [
    "min_tsdf, max_tsdf = -0.005, 0.005\n",
    "data_dir = '/scratch2/data/cape_release/'\n",
    "model = '00032'\n",
    "scene = 'longshort_flying_eagle'\n",
    "frames = []\n",
    "for frame in sorted(os.listdir(osp.join(data_dir, 'meshes', model, scene, 'posed'))):\n",
    "    if frame.startswith('sdf'):\n",
    "        frames.append(frame)"
   ]
  },
  {
   "cell_type": "code",
   "execution_count": 3,
   "id": "4a9b49c5",
   "metadata": {},
   "outputs": [],
   "source": [
    "folder = osp.join(data_dir, 'meshes', model, scene, 'posed')\n",
    "sdf0 = torch.load(osp.join(folder, frames[0]))\n",
    "sdf1 = torch.load(osp.join(folder, frames[142]))\n",
    "sdf2 = torch.load(osp.join(folder, frames[283]))\n",
    "\n",
    "files = [(osp.join(folder, frame), osp.join(folder, frame[4:-2] + 'obj'))\n",
    "            for frame in frames]"
   ]
  },
  {
   "cell_type": "code",
   "execution_count": 4,
   "id": "e893f282",
   "metadata": {},
   "outputs": [],
   "source": [
    "from typing import List\n",
    "def compute_metrics_constant(\n",
    "        frames: List[str],\n",
    "        sdf_pred: torch.Tensor,\n",
    "        min_tsdf: float,\n",
    "        max_tsdf: float,\n",
    "        num_sample_points: int,\n",
    "        sample_frames: List[int]):\n",
    "    res = torch.tensor(sdf_pred.shape)\n",
    "    result = {}\n",
    "    for i in tqdm.tqdm(sample_frames):\n",
    "        result[i] = {}\n",
    "        frame_pred = sdf_pred\n",
    "        frame_pred.clamp_min_(min_tsdf)\n",
    "        frame_pred.clamp_max_(max_tsdf)\n",
    "\n",
    "        sdf_w_coords = torch.load(frames[i][0])\n",
    "        sdf = sdf_w_coords['sdf']\n",
    "        coords = torch.tensor(sdf_w_coords['coords'])\n",
    "\n",
    "        tqdm.tqdm.write('Marching cube started')\n",
    "        t0 = time.time()\n",
    "        mesh_pred = sdf2mesh(frame_pred, coords, res)\n",
    "        tqdm.tqdm.write(f'Marching cube finished. Took: {time.time() - t0} s.')\n",
    "\n",
    "        tqdm.tqdm.write('Marching cube started')\n",
    "        t0 = time.time()\n",
    "        mesh_gt = sdf2mesh(sdf, coords, res)\n",
    "        tqdm.tqdm.write(f'Marching cube finished. Took: {time.time() - t0} s.')\n",
    "\n",
    "        tqdm.tqdm.write('Sampling points started')\n",
    "        t0 = time.time()\n",
    "        points_gt, _ = trimesh.sample.sample_surface(mesh_gt, num_sample_points)\n",
    "        points_pred, _ = trimesh.sample.sample_surface(mesh_pred, num_sample_points)\n",
    "        tqdm.tqdm.write(f'Sampling points finished. Took: {time.time() - t0} s.')\n",
    "\n",
    "        points_gt = torch.tensor(points_gt[None]).cuda()\n",
    "        points_pred = torch.tensor(points_pred[None]).cuda()\n",
    "\n",
    "        chamfer_distance_error = kal.metrics.pointcloud.chamfer_distance(points_gt, points_pred)[0].detach().cpu()\n",
    "        del points_gt\n",
    "        del points_pred\n",
    "\n",
    "        l2_error = torch.norm(frame_pred - sdf.clamp_min(min_tsdf).clamp_max(max_tsdf))\n",
    "\n",
    "        tqdm.tqdm.write('Voxelgrid conversion started')\n",
    "        t0 = time.time()\n",
    "        vg_pred = kal.ops.conversions.trianglemeshes_to_voxelgrids(\n",
    "            torch.tensor(mesh_pred.vertices[None]),\n",
    "            torch.tensor(mesh_pred.faces),\n",
    "            res.max().item())\n",
    "        vg_gt = kal.ops.conversions.trianglemeshes_to_voxelgrids(\n",
    "            torch.tensor(mesh_gt.vertices[None]),\n",
    "            torch.tensor(mesh_gt.faces),\n",
    "            res.max().item())\n",
    "        tqdm.tqdm.write(f'Voxelgrid conversion finished. Took: {time.time() - t0} s.')\n",
    "\n",
    "        IoU = kal.metrics.voxelgrid.iou(vg_pred, vg_gt)\n",
    "        del vg_pred\n",
    "        del vg_gt\n",
    "\n",
    "        tqdm.tqdm.write('hausdorff computation started')\n",
    "        t0 = time.time()\n",
    "        hausdorff_dist = hausdorff(\n",
    "            torch.tensor(mesh_gt.vertices), torch.tensor(mesh_gt.faces),\n",
    "            torch.tensor(mesh_pred.vertices), torch.tensor(mesh_pred.faces))\n",
    "        tqdm.tqdm.write(f'hausdorff computation finished. Took: {time.time() - t0} s.')\n",
    "\n",
    "        tqdm.tqdm.write('MSDM2 computation started')\n",
    "        t0 = time.time()\n",
    "        MSDM2_err = MSDM2(\n",
    "            torch.tensor(mesh_gt.vertices), torch.tensor(mesh_gt.faces),\n",
    "            torch.tensor(mesh_pred.vertices), torch.tensor(mesh_pred.faces))\n",
    "        tqdm.tqdm.write(f'MSDM2 computation finished. Took: {time.time() - t0} s.')\n",
    "        result[i] = {\n",
    "            'l2': l2_error,\n",
    "            'chamfer_distance': chamfer_distance_error,\n",
    "            'IoU': IoU[0],\n",
    "            'hausdorff': hausdorff_dist,\n",
    "            'MSDM2': MSDM2_err}\n",
    "    return result"
   ]
  },
  {
   "cell_type": "code",
   "execution_count": 8,
   "id": "f094ad80",
   "metadata": {},
   "outputs": [
    {
     "name": "stderr",
     "output_type": "stream",
     "text": [
      "  0%|                                                                                                                                                                                                                                 | 0/3 [00:00<?, ?it/s]"
     ]
    },
    {
     "name": "stdout",
     "output_type": "stream",
     "text": [
      "Marching cube started\n"
     ]
    },
    {
     "name": "stderr",
     "output_type": "stream",
     "text": [
      "  0%|                                                                                                                                                                                                                                 | 0/3 [00:01<?, ?it/s]"
     ]
    },
    {
     "name": "stdout",
     "output_type": "stream",
     "text": [
      "Marching cube finished. Took: 1.3789918422698975 s.\n",
      "Marching cube started\n"
     ]
    },
    {
     "name": "stderr",
     "output_type": "stream",
     "text": [
      "  0%|                                                                                                                                                                                                                                 | 0/3 [00:03<?, ?it/s]"
     ]
    },
    {
     "name": "stdout",
     "output_type": "stream",
     "text": [
      "Marching cube finished. Took: 1.3810975551605225 s.\n",
      "Sampling points started\n",
      "Sampling points finished. Took: 0.13541054725646973 s.\n"
     ]
    },
    {
     "name": "stderr",
     "output_type": "stream",
     "text": [
      "  0%|                                                                                                                                                                                                                                 | 0/3 [00:03<?, ?it/s]"
     ]
    },
    {
     "name": "stdout",
     "output_type": "stream",
     "text": [
      "Voxelgrid conversion started\n"
     ]
    },
    {
     "name": "stderr",
     "output_type": "stream",
     "text": [
      "  0%|                                                                                                                                                                                                                                 | 0/3 [00:11<?, ?it/s]"
     ]
    },
    {
     "name": "stdout",
     "output_type": "stream",
     "text": [
      "Voxelgrid conversion finished. Took: 7.789614200592041 s.\n"
     ]
    },
    {
     "name": "stderr",
     "output_type": "stream",
     "text": [
      "  0%|                                                                                                                                                                                                                                 | 0/3 [00:12<?, ?it/s]"
     ]
    },
    {
     "name": "stdout",
     "output_type": "stream",
     "text": [
      "hausdorff computation started\n"
     ]
    },
    {
     "name": "stderr",
     "output_type": "stream",
     "text": [
      "  0%|                                                                                                                                                                                                                                 | 0/3 [00:12<?, ?it/s]"
     ]
    },
    {
     "name": "stdout",
     "output_type": "stream",
     "text": [
      "hausdorff computation finished. Took: 0.753493070602417 s.\n",
      "MSDM2 computation started\n"
     ]
    },
    {
     "name": "stderr",
     "output_type": "stream",
     "text": [
      " 33%|████████████████████████████████████████████████████████████████████████                                                                                                                                                | 1/3 [04:31<09:03, 271.77s/it]"
     ]
    },
    {
     "name": "stdout",
     "output_type": "stream",
     "text": [
      "Asking to calculate curvature\n",
      "Asking to calculate curvature\n",
      "Asking to calculate curvature\n",
      "Asking to calculate curvature\n",
      "Asking to calculate curvature\n",
      "Asking to calculate curvature\n",
      "MSDM2 computation finished. Took: 258.8096902370453 s.\n"
     ]
    },
    {
     "name": "stderr",
     "output_type": "stream",
     "text": [
      " 33%|████████████████████████████████████████████████████████████████████████                                                                                                                                                | 1/3 [04:31<09:03, 271.77s/it]"
     ]
    },
    {
     "name": "stdout",
     "output_type": "stream",
     "text": [
      "Marching cube started\n"
     ]
    },
    {
     "name": "stderr",
     "output_type": "stream",
     "text": [
      " 33%|████████████████████████████████████████████████████████████████████████                                                                                                                                                | 1/3 [04:33<09:03, 271.77s/it]"
     ]
    },
    {
     "name": "stdout",
     "output_type": "stream",
     "text": [
      "Marching cube finished. Took: 1.3744697570800781 s.\n",
      "Marching cube started\n"
     ]
    },
    {
     "name": "stderr",
     "output_type": "stream",
     "text": [
      " 33%|████████████████████████████████████████████████████████████████████████                                                                                                                                                | 1/3 [04:34<09:03, 271.77s/it]"
     ]
    },
    {
     "name": "stdout",
     "output_type": "stream",
     "text": [
      "Marching cube finished. Took: 1.3788716793060303 s.\n",
      "Sampling points started\n",
      "Sampling points finished. Took: 0.13970375061035156 s.\n"
     ]
    },
    {
     "name": "stderr",
     "output_type": "stream",
     "text": [
      " 33%|████████████████████████████████████████████████████████████████████████                                                                                                                                                | 1/3 [04:35<09:03, 271.77s/it]"
     ]
    },
    {
     "name": "stdout",
     "output_type": "stream",
     "text": [
      "Voxelgrid conversion started\n"
     ]
    },
    {
     "name": "stderr",
     "output_type": "stream",
     "text": [
      " 33%|████████████████████████████████████████████████████████████████████████                                                                                                                                                | 1/3 [04:43<09:03, 271.77s/it]"
     ]
    },
    {
     "name": "stdout",
     "output_type": "stream",
     "text": [
      "Voxelgrid conversion finished. Took: 7.992024660110474 s.\n"
     ]
    },
    {
     "name": "stderr",
     "output_type": "stream",
     "text": [
      " 33%|████████████████████████████████████████████████████████████████████████                                                                                                                                                | 1/3 [04:44<09:03, 271.77s/it]"
     ]
    },
    {
     "name": "stdout",
     "output_type": "stream",
     "text": [
      "hausdorff computation started\n"
     ]
    },
    {
     "name": "stderr",
     "output_type": "stream",
     "text": [
      " 33%|████████████████████████████████████████████████████████████████████████                                                                                                                                                | 1/3 [04:45<09:03, 271.77s/it]"
     ]
    },
    {
     "name": "stdout",
     "output_type": "stream",
     "text": [
      "hausdorff computation finished. Took: 1.5896661281585693 s.\n",
      "MSDM2 computation started\n"
     ]
    },
    {
     "name": "stderr",
     "output_type": "stream",
     "text": [
      " 67%|████████████████████████████████████████████████████████████████████████████████████████████████████████████████████████████████████████████████                                                                        | 2/3 [09:26<04:45, 285.12s/it]"
     ]
    },
    {
     "name": "stdout",
     "output_type": "stream",
     "text": [
      "Asking to calculate curvature\n",
      "Asking to calculate curvature\n",
      "Curvature warning: 2 isolated vertices were skipped.\n",
      "Asking to calculate curvature\n",
      "Asking to calculate curvature\n",
      "Curvature warning: 2 isolated vertices were skipped.\n",
      "Asking to calculate curvature\n",
      "Asking to calculate curvature\n",
      "Curvature warning: 2 isolated vertices were skipped.\n",
      "MSDM2 computation finished. Took: 280.50464272499084 s.\n"
     ]
    },
    {
     "name": "stderr",
     "output_type": "stream",
     "text": [
      " 67%|████████████████████████████████████████████████████████████████████████████████████████████████████████████████████████████████████████████████                                                                        | 2/3 [09:26<04:45, 285.12s/it]"
     ]
    },
    {
     "name": "stdout",
     "output_type": "stream",
     "text": [
      "Marching cube started\n"
     ]
    },
    {
     "name": "stderr",
     "output_type": "stream",
     "text": [
      " 67%|████████████████████████████████████████████████████████████████████████████████████████████████████████████████████████████████████████████████                                                                        | 2/3 [09:27<04:45, 285.12s/it]"
     ]
    },
    {
     "name": "stdout",
     "output_type": "stream",
     "text": [
      "Marching cube finished. Took: 1.3711464405059814 s.\n",
      "Marching cube started\n"
     ]
    },
    {
     "name": "stderr",
     "output_type": "stream",
     "text": [
      " 67%|████████████████████████████████████████████████████████████████████████████████████████████████████████████████████████████████████████████████                                                                        | 2/3 [09:29<04:45, 285.12s/it]"
     ]
    },
    {
     "name": "stdout",
     "output_type": "stream",
     "text": [
      "Marching cube finished. Took: 1.3747434616088867 s.\n",
      "Sampling points started\n",
      "Sampling points finished. Took: 0.13660573959350586 s.\n"
     ]
    },
    {
     "name": "stderr",
     "output_type": "stream",
     "text": [
      " 67%|████████████████████████████████████████████████████████████████████████████████████████████████████████████████████████████████████████████████                                                                        | 2/3 [09:30<04:45, 285.12s/it]"
     ]
    },
    {
     "name": "stdout",
     "output_type": "stream",
     "text": [
      "Voxelgrid conversion started\n"
     ]
    },
    {
     "name": "stderr",
     "output_type": "stream",
     "text": [
      " 67%|████████████████████████████████████████████████████████████████████████████████████████████████████████████████████████████████████████████████                                                                        | 2/3 [09:37<04:45, 285.12s/it]"
     ]
    },
    {
     "name": "stdout",
     "output_type": "stream",
     "text": [
      "Voxelgrid conversion finished. Took: 7.801785707473755 s.\n"
     ]
    },
    {
     "name": "stderr",
     "output_type": "stream",
     "text": [
      " 67%|████████████████████████████████████████████████████████████████████████████████████████████████████████████████████████████████████████████████                                                                        | 2/3 [09:38<04:45, 285.12s/it]"
     ]
    },
    {
     "name": "stdout",
     "output_type": "stream",
     "text": [
      "hausdorff computation started\n"
     ]
    },
    {
     "name": "stderr",
     "output_type": "stream",
     "text": [
      " 67%|████████████████████████████████████████████████████████████████████████████████████████████████████████████████████████████████████████████████                                                                        | 2/3 [09:39<04:45, 285.12s/it]"
     ]
    },
    {
     "name": "stdout",
     "output_type": "stream",
     "text": [
      "hausdorff computation finished. Took: 0.9312138557434082 s.\n",
      "MSDM2 computation started\n"
     ]
    },
    {
     "name": "stderr",
     "output_type": "stream",
     "text": [
      "100%|████████████████████████████████████████████████████████████████████████████████████████████████████████████████████████████████████████████████████████████████████████████████████████████████████████████████████████| 3/3 [14:02<00:00, 280.69s/it]"
     ]
    },
    {
     "name": "stdout",
     "output_type": "stream",
     "text": [
      "Asking to calculate curvature\n",
      "Asking to calculate curvature\n",
      "Asking to calculate curvature\n",
      "Asking to calculate curvature\n",
      "Asking to calculate curvature\n",
      "Asking to calculate curvature\n",
      "MSDM2 computation finished. Took: 262.7808926105499 s.\n"
     ]
    },
    {
     "name": "stderr",
     "output_type": "stream",
     "text": [
      "\n"
     ]
    },
    {
     "data": {
      "text/plain": [
       "{0: {'l2': tensor(0.),\n",
       "  'chamfer_distance': tensor(4.2841e-05, dtype=torch.float64),\n",
       "  'IoU': tensor(0.9999),\n",
       "  'hausdorff': 0.0005439726856382182,\n",
       "  'MSDM2': 0.004876062542257095},\n",
       " 142: {'l2': tensor(12.2017),\n",
       "  'chamfer_distance': tensor(0.0067, dtype=torch.float64),\n",
       "  'IoU': tensor(0.0072),\n",
       "  'hausdorff': 0.19801137616898737,\n",
       "  'MSDM2': 0.5154686371753484},\n",
       " 283: {'l2': tensor(4.1074),\n",
       "  'chamfer_distance': tensor(0.0002, dtype=torch.float64),\n",
       "  'IoU': tensor(0.0311),\n",
       "  'hausdorff': 0.06490128288537549,\n",
       "  'MSDM2': 0.3891190929040058}}"
      ]
     },
     "execution_count": 8,
     "metadata": {},
     "output_type": "execute_result"
    }
   ],
   "source": [
    "compute_metrics_constant(\n",
    "    files,\n",
    "    sdf0['sdf'],\n",
    "    min_tsdf, max_tsdf,\n",
    "    30000,\n",
    "    [0, len(frames) // 2, len(frames) - 1])"
   ]
  },
  {
   "cell_type": "code",
   "execution_count": 15,
   "id": "9fc83d26",
   "metadata": {},
   "outputs": [
    {
     "name": "stderr",
     "output_type": "stream",
     "text": [
      "  0%|                                                                                                                                                                                                                                 | 0/3 [00:00<?, ?it/s]"
     ]
    },
    {
     "name": "stdout",
     "output_type": "stream",
     "text": [
      "Marching cube started\n"
     ]
    },
    {
     "name": "stderr",
     "output_type": "stream",
     "text": [
      "  0%|                                                                                                                                                                                                                                 | 0/3 [00:01<?, ?it/s]"
     ]
    },
    {
     "name": "stdout",
     "output_type": "stream",
     "text": [
      "Marching cube finished. Took: 1.369436502456665 s.\n",
      "Marching cube started\n"
     ]
    },
    {
     "name": "stderr",
     "output_type": "stream",
     "text": [
      "  0%|                                                                                                                                                                                                                                 | 0/3 [00:03<?, ?it/s]"
     ]
    },
    {
     "name": "stdout",
     "output_type": "stream",
     "text": [
      "Marching cube finished. Took: 1.3688263893127441 s.\n",
      "Sampling points started\n",
      "Sampling points finished. Took: 0.1344602108001709 s.\n"
     ]
    },
    {
     "name": "stderr",
     "output_type": "stream",
     "text": [
      "  0%|                                                                                                                                                                                                                                 | 0/3 [00:03<?, ?it/s]"
     ]
    },
    {
     "name": "stdout",
     "output_type": "stream",
     "text": [
      "Voxelgrid conversion started\n"
     ]
    },
    {
     "name": "stderr",
     "output_type": "stream",
     "text": [
      "  0%|                                                                                                                                                                                                                                 | 0/3 [00:11<?, ?it/s]"
     ]
    },
    {
     "name": "stdout",
     "output_type": "stream",
     "text": [
      "Voxelgrid conversion finished. Took: 7.740429162979126 s.\n"
     ]
    },
    {
     "name": "stderr",
     "output_type": "stream",
     "text": [
      "  0%|                                                                                                                                                                                                                                 | 0/3 [00:11<?, ?it/s]"
     ]
    },
    {
     "name": "stdout",
     "output_type": "stream",
     "text": [
      "hausdorff computation started\n"
     ]
    },
    {
     "name": "stderr",
     "output_type": "stream",
     "text": [
      "  0%|                                                                                                                                                                                                                                 | 0/3 [00:13<?, ?it/s]"
     ]
    },
    {
     "name": "stdout",
     "output_type": "stream",
     "text": [
      "hausdorff computation finished. Took: 1.4946918487548828 s.\n",
      "MSDM2 computation started\n"
     ]
    },
    {
     "name": "stderr",
     "output_type": "stream",
     "text": [
      " 33%|████████████████████████████████████████████████████████████████████████                                                                                                                                                | 1/3 [04:22<08:45, 262.74s/it]"
     ]
    },
    {
     "name": "stdout",
     "output_type": "stream",
     "text": [
      "Asking to calculate curvature\n",
      "Asking to calculate curvature\n",
      "Asking to calculate curvature\n",
      "Asking to calculate curvature\n",
      "Asking to calculate curvature\n",
      "Asking to calculate curvature\n",
      "MSDM2 computation finished. Took: 249.25557374954224 s.\n"
     ]
    },
    {
     "name": "stderr",
     "output_type": "stream",
     "text": [
      " 33%|████████████████████████████████████████████████████████████████████████                                                                                                                                                | 1/3 [04:22<08:45, 262.74s/it]"
     ]
    },
    {
     "name": "stdout",
     "output_type": "stream",
     "text": [
      "Marching cube started\n"
     ]
    },
    {
     "name": "stderr",
     "output_type": "stream",
     "text": [
      " 33%|████████████████████████████████████████████████████████████████████████                                                                                                                                                | 1/3 [04:24<08:45, 262.74s/it]"
     ]
    },
    {
     "name": "stdout",
     "output_type": "stream",
     "text": [
      "Marching cube finished. Took: 1.3812518119812012 s.\n",
      "Marching cube started\n"
     ]
    },
    {
     "name": "stderr",
     "output_type": "stream",
     "text": [
      " 33%|████████████████████████████████████████████████████████████████████████                                                                                                                                                | 1/3 [04:25<08:45, 262.74s/it]"
     ]
    },
    {
     "name": "stdout",
     "output_type": "stream",
     "text": [
      "Marching cube finished. Took: 1.3923509120941162 s.\n",
      "Sampling points started\n",
      "Sampling points finished. Took: 0.13874220848083496 s.\n"
     ]
    },
    {
     "name": "stderr",
     "output_type": "stream",
     "text": [
      " 33%|████████████████████████████████████████████████████████████████████████                                                                                                                                                | 1/3 [04:26<08:45, 262.74s/it]"
     ]
    },
    {
     "name": "stdout",
     "output_type": "stream",
     "text": [
      "Voxelgrid conversion started\n"
     ]
    },
    {
     "name": "stderr",
     "output_type": "stream",
     "text": [
      " 33%|████████████████████████████████████████████████████████████████████████                                                                                                                                                | 1/3 [04:34<08:45, 262.74s/it]"
     ]
    },
    {
     "name": "stdout",
     "output_type": "stream",
     "text": [
      "Voxelgrid conversion finished. Took: 8.061902284622192 s.\n"
     ]
    },
    {
     "name": "stderr",
     "output_type": "stream",
     "text": [
      " 33%|████████████████████████████████████████████████████████████████████████                                                                                                                                                | 1/3 [04:35<08:45, 262.74s/it]"
     ]
    },
    {
     "name": "stdout",
     "output_type": "stream",
     "text": [
      "hausdorff computation started\n"
     ]
    },
    {
     "name": "stderr",
     "output_type": "stream",
     "text": [
      " 33%|████████████████████████████████████████████████████████████████████████                                                                                                                                                | 1/3 [04:36<08:45, 262.74s/it]"
     ]
    },
    {
     "name": "stdout",
     "output_type": "stream",
     "text": [
      "hausdorff computation finished. Took: 0.9936776161193848 s.\n",
      "MSDM2 computation started\n",
      "Asking to calculate curvature\n"
     ]
    },
    {
     "name": "stderr",
     "output_type": "stream",
     "text": [
      " 67%|████████████████████████████████████████████████████████████████████████████████████████████████████████████████████████████████████████████████                                                                        | 2/3 [08:33<04:15, 255.89s/it]"
     ]
    },
    {
     "name": "stdout",
     "output_type": "stream",
     "text": [
      "Asking to calculate curvature\n",
      "Curvature warning: 2 isolated vertices were skipped.\n",
      "Asking to calculate curvature\n",
      "Asking to calculate curvature\n",
      "Curvature warning: 2 isolated vertices were skipped.\n",
      "Asking to calculate curvature\n",
      "Asking to calculate curvature\n",
      "Curvature warning: 2 isolated vertices were skipped.\n",
      "MSDM2 computation finished. Took: 237.63420391082764 s.\n"
     ]
    },
    {
     "name": "stderr",
     "output_type": "stream",
     "text": [
      " 67%|████████████████████████████████████████████████████████████████████████████████████████████████████████████████████████████████████████████████                                                                        | 2/3 [08:34<04:15, 255.89s/it]"
     ]
    },
    {
     "name": "stdout",
     "output_type": "stream",
     "text": [
      "Marching cube started\n"
     ]
    },
    {
     "name": "stderr",
     "output_type": "stream",
     "text": [
      " 67%|████████████████████████████████████████████████████████████████████████████████████████████████████████████████████████████████████████████████                                                                        | 2/3 [08:35<04:15, 255.89s/it]"
     ]
    },
    {
     "name": "stdout",
     "output_type": "stream",
     "text": [
      "Marching cube finished. Took: 1.3711090087890625 s.\n",
      "Marching cube started\n"
     ]
    },
    {
     "name": "stderr",
     "output_type": "stream",
     "text": [
      " 67%|████████████████████████████████████████████████████████████████████████████████████████████████████████████████████████████████████████████████                                                                        | 2/3 [08:36<04:15, 255.89s/it]"
     ]
    },
    {
     "name": "stdout",
     "output_type": "stream",
     "text": [
      "Marching cube finished. Took: 1.3776323795318604 s.\n",
      "Sampling points started\n",
      "Sampling points finished. Took: 0.13610029220581055 s.\n"
     ]
    },
    {
     "name": "stderr",
     "output_type": "stream",
     "text": [
      " 67%|████████████████████████████████████████████████████████████████████████████████████████████████████████████████████████████████████████████████                                                                        | 2/3 [08:37<04:15, 255.89s/it]"
     ]
    },
    {
     "name": "stdout",
     "output_type": "stream",
     "text": [
      "Voxelgrid conversion started\n"
     ]
    },
    {
     "name": "stderr",
     "output_type": "stream",
     "text": [
      " 67%|████████████████████████████████████████████████████████████████████████████████████████████████████████████████████████████████████████████████                                                                        | 2/3 [08:45<04:15, 255.89s/it]"
     ]
    },
    {
     "name": "stdout",
     "output_type": "stream",
     "text": [
      "Voxelgrid conversion finished. Took: 7.927035331726074 s.\n"
     ]
    },
    {
     "name": "stderr",
     "output_type": "stream",
     "text": [
      " 67%|████████████████████████████████████████████████████████████████████████████████████████████████████████████████████████████████████████████████                                                                        | 2/3 [08:46<04:15, 255.89s/it]"
     ]
    },
    {
     "name": "stdout",
     "output_type": "stream",
     "text": [
      "hausdorff computation started\n"
     ]
    },
    {
     "name": "stderr",
     "output_type": "stream",
     "text": [
      " 67%|████████████████████████████████████████████████████████████████████████████████████████████████████████████████████████████████████████████████                                                                        | 2/3 [08:47<04:15, 255.89s/it]"
     ]
    },
    {
     "name": "stdout",
     "output_type": "stream",
     "text": [
      "hausdorff computation finished. Took: 1.5349617004394531 s.\n",
      "MSDM2 computation started\n",
      "Asking to calculate curvature\n",
      "Asking to calculate curvature\n",
      "Asking to calculate curvature\n",
      "Asking to calculate curvature\n",
      "Asking to calculate curvature\n",
      "Asking to calculate curvature\n"
     ]
    },
    {
     "name": "stderr",
     "output_type": "stream",
     "text": [
      "100%|████████████████████████████████████████████████████████████████████████████████████████████████████████████████████████████████████████████████████████████████████████████████████████████████████████████████████████| 3/3 [12:57<00:00, 259.11s/it]"
     ]
    },
    {
     "name": "stdout",
     "output_type": "stream",
     "text": [
      "MSDM2 computation finished. Took: 249.64593958854675 s.\n"
     ]
    },
    {
     "name": "stderr",
     "output_type": "stream",
     "text": [
      "\n"
     ]
    },
    {
     "data": {
      "text/plain": [
       "{0: {'l2': tensor(11.2982),\n",
       "  'chamfer_distance': tensor(0.0062, dtype=torch.float64),\n",
       "  'IoU': tensor(0.0080),\n",
       "  'hausdorff': 0.1682107862003486,\n",
       "  'MSDM2': 0.5376455052178554},\n",
       " 142: {'l2': tensor(3.8179),\n",
       "  'chamfer_distance': tensor(0.0002, dtype=torch.float64),\n",
       "  'IoU': tensor(0.0412),\n",
       "  'hausdorff': 0.03962373930620786,\n",
       "  'MSDM2': 0.4032762050864984},\n",
       " 283: {'l2': tensor(11.6279),\n",
       "  'chamfer_distance': tensor(0.0068, dtype=torch.float64),\n",
       "  'IoU': tensor(0.0060),\n",
       "  'hausdorff': 0.1900046183604913,\n",
       "  'MSDM2': 0.5454763465573684}}"
      ]
     },
     "execution_count": 15,
     "metadata": {},
     "output_type": "execute_result"
    }
   ],
   "source": [
    "compute_metrics_constant(\n",
    "    files,\n",
    "    (sdf0['sdf'] + sdf1['sdf']) / 2,\n",
    "    min_tsdf, max_tsdf,\n",
    "    30000,\n",
    "    [0, len(frames) // 2, len(frames) - 1])"
   ]
  },
  {
   "cell_type": "markdown",
   "id": "7466645a",
   "metadata": {},
   "source": [
    "# QTT"
   ]
  },
  {
   "cell_type": "code",
   "execution_count": 2,
   "id": "39f29ea2",
   "metadata": {},
   "outputs": [],
   "source": [
    "ckpt = torch.load('../logs/sweeps/qtt_00032_longshort_flying_eagle_high_ranks_high_thr.pt')"
   ]
  },
  {
   "cell_type": "code",
   "execution_count": 7,
   "id": "aaaf3310",
   "metadata": {},
   "outputs": [],
   "source": [
    "scene = ckpt[(-0.05, 0.05)][400]['compressed_scene']"
   ]
  },
  {
   "cell_type": "code",
   "execution_count": 16,
   "id": "11c089bc",
   "metadata": {},
   "outputs": [
    {
     "data": {
      "text/plain": [
       "tensor(8)"
      ]
     },
     "execution_count": 16,
     "metadata": {},
     "output_type": "execute_result"
    }
   ],
   "source": [
    "scene.ranks_tt[3]"
   ]
  },
  {
   "cell_type": "code",
   "execution_count": 13,
   "id": "8b5a69d0",
   "metadata": {},
   "outputs": [
    {
     "data": {
      "text/plain": [
       "tensor([   1,    2,    4,    8,   16,   32,   60,  106,  209,  368,  681, 1153,\n",
       "        2189, 4000, 4000, 4000, 4000, 4000, 4000, 4000, 4000, 4000, 4000, 4000,\n",
       "        2421, 1246,  631,  318,  192,   96,   48,   24,   16,    8,    4,    2,\n",
       "           1])"
      ]
     },
     "execution_count": 13,
     "metadata": {},
     "output_type": "execute_result"
    }
   ],
   "source": [
    "scene.ranks_tt[]"
   ]
  },
  {
   "cell_type": "code",
   "execution_count": 11,
   "id": "2c4ee9c2",
   "metadata": {},
   "outputs": [
    {
     "data": {
      "text/plain": [
       "tensor([   1,    2,    4,    8,   16,   32,   60,  106,  209,  368,  681, 1153,\n",
       "        2189, 4000, 4000, 4000, 4000, 4000, 4000, 4000, 4000, 4000, 4000, 4000,\n",
       "        2421, 1246,  631,  318,  192,   96,   48,   24,   16,    8,    4,    2,\n",
       "           1])"
      ]
     },
     "execution_count": 11,
     "metadata": {},
     "output_type": "execute_result"
    }
   ],
   "source": [
    "scene.ranks_tt"
   ]
  },
  {
   "cell_type": "code",
   "execution_count": null,
   "id": "dd15e288",
   "metadata": {},
   "outputs": [],
   "source": [
    "# coords = torch.tensor(\n",
    "#     torch.load('/scratch2/data/cape_release/meshes/00032/longshort_flying_eagle/coords.pt')['coords'])\n",
    "# max_rank = 400\n",
    "\n",
    "# for i in range(1, scene.dim()):\n",
    "#     lrs = scene.clone()\n",
    "#     ranks_tt = scene.ranks_tt.clone()\n",
    "#     ranks_tt[i + 1] = min(max_rank, ranks_tt[i + 1])\n",
    "#     lrs.round_tt(rmax=ranks_tt[1:-1])\n",
    "    \n",
    "#     frame0_qtt = get_qtt_frame(lrs, 0)\n",
    "#     frame0 = qtt2tensor3d(frame0_qtt.torch())\n",
    "#     mesh = sdf2mesh(frame0, coords)\n",
    "    \n",
    "#     obj = trimesh.exchange.obj.export_obj(mesh, include_texture=False)\n",
    "#     with open(f'./mesh_sdf_{i}.obj', 'w') as f:\n",
    "#         f.write(obj)"
   ]
  },
  {
   "cell_type": "code",
   "execution_count": null,
   "id": "d4f83e22",
   "metadata": {},
   "outputs": [],
   "source": [
    "scene = qtt_stack(ckpt, rank=4000, eps=1e-8, algorithm='eig')"
   ]
  },
  {
   "cell_type": "code",
   "execution_count": 4,
   "id": "be8094b7",
   "metadata": {},
   "outputs": [
    {
     "data": {
      "text/plain": [
       "tensor([   1,    2,    4,    8,   16,   32,   64,  128,  256,  512, 1024, 2048,\n",
       "        4000, 4000, 4000, 4000, 4000, 4000, 4000, 4000, 4000, 4000, 4000, 4000,\n",
       "        3945, 1978,  992,  497,  251,  126,   64,   32,   16,    8,    4,    2,\n",
       "           1])"
      ]
     },
     "execution_count": 4,
     "metadata": {},
     "output_type": "execute_result"
    }
   ],
   "source": [
    "scene.ranks_tt"
   ]
  },
  {
   "cell_type": "code",
   "execution_count": 5,
   "id": "4c856a65",
   "metadata": {},
   "outputs": [],
   "source": [
    "# torch.save(scene, '../logs/sweeps/qtt_00032_longshort_flying_eagle_high_ranks_new_v.pt')"
   ]
  },
  {
   "cell_type": "code",
   "execution_count": 6,
   "id": "327b08a7",
   "metadata": {},
   "outputs": [],
   "source": [
    "scene_qtt = torch.load('../logs/sweeps/qtt_00032_longshort_flying_eagle_high_ranks_new_v.pt')"
   ]
  },
  {
   "cell_type": "code",
   "execution_count": 12,
   "id": "5bcba64b",
   "metadata": {},
   "outputs": [],
   "source": [
    "scene_tucker = torch.load('../logs/sweeps/tt_tucker_00032_longshort_flying_eagle_high_ranks.pt')"
   ]
  },
  {
   "cell_type": "code",
   "execution_count": 15,
   "id": "52ad6d8d",
   "metadata": {},
   "outputs": [
    {
     "data": {
      "text/plain": [
       "3D TT-Tucker tensor:\n",
       "\n",
       " 512 512 512\n",
       "  |   |   |\n",
       " 128 128 128\n",
       " (0) (1) (2)\n",
       " / \\ / \\ / \\\n",
       "1   512 128 1"
      ]
     },
     "execution_count": 15,
     "metadata": {},
     "output_type": "execute_result"
    }
   ],
   "source": []
  },
  {
   "cell_type": "code",
   "execution_count": null,
   "id": "4038617e",
   "metadata": {},
   "outputs": [],
   "source": []
  },
  {
   "cell_type": "code",
   "execution_count": 6,
   "id": "1d5ba720",
   "metadata": {},
   "outputs": [],
   "source": [
    "scene.round_tt(eps=1e-5)"
   ]
  },
  {
   "cell_type": "code",
   "execution_count": 5,
   "id": "b0d7ba23",
   "metadata": {},
   "outputs": [
    {
     "data": {
      "text/plain": [
       "tensor(0.0062, dtype=torch.float64)"
      ]
     },
     "execution_count": 5,
     "metadata": {},
     "output_type": "execute_result"
    }
   ],
   "source": [
    "scene.numcoef() / scene.numel()"
   ]
  },
  {
   "cell_type": "code",
   "execution_count": 115,
   "id": "65bd7769",
   "metadata": {},
   "outputs": [
    {
     "data": {
      "text/plain": [
       "tensor(0.0062, dtype=torch.float64)"
      ]
     },
     "execution_count": 115,
     "metadata": {},
     "output_type": "execute_result"
    }
   ],
   "source": [
    "scene.numcoef() / scene.numel()"
   ]
  },
  {
   "cell_type": "code",
   "execution_count": null,
   "id": "b4e5d549",
   "metadata": {},
   "outputs": [],
   "source": []
  },
  {
   "cell_type": "code",
   "execution_count": 14,
   "id": "f631435d",
   "metadata": {},
   "outputs": [],
   "source": [
    "# import numpy as np\n",
    "\n",
    "# def get_qtt_frame(qtt_scene: tn.Tensor, frame: int, N: int = 3):\n",
    "#     idxs = []\n",
    "#     frame_bits = np.binary_repr(frame, qtt_scene.dim() // (N + 1))\n",
    "#     bit_index = 0\n",
    "#     for i in range(qtt_scene.dim()):\n",
    "#         if (i + 1) % (N + 1) == 0:\n",
    "#             idxs.append(int(frame_bits[bit_index]))\n",
    "#             bit_index += 1\n",
    "#         else:\n",
    "#             idxs.append(slice(None))\n",
    "\n",
    "#     return qtt_scene[idxs]"
   ]
  },
  {
   "cell_type": "code",
   "execution_count": 6,
   "id": "dd47cb26",
   "metadata": {},
   "outputs": [],
   "source": [
    "frame0_qtt = get_qtt_frame(scene, 0)\n",
    "frame0 = qtt2tensor3d(frame0_qtt.torch())"
   ]
  },
  {
   "cell_type": "code",
   "execution_count": 8,
   "id": "da399eaa",
   "metadata": {},
   "outputs": [],
   "source": [
    "# mesh = sdf2mesh(tuckers[284 // 2].torch(), coords, 512)\n",
    "# mesh = sdf2mesh(local_res_tucker[..., 284 // 2].torch(), coords, 512)\n",
    "coords = torch.tensor(\n",
    "    torch.load('/scratch2/data/cape_release/meshes/00032/longshort_flying_eagle/coords.pt')['coords'])\n",
    "mesh = sdf2mesh(frame0, coords)\n",
    "obj = trimesh.exchange.obj.export_obj(mesh, include_texture=False)\n",
    "with open('./mesh_sdf.obj', 'w') as f:\n",
    "    f.write(obj)"
   ]
  },
  {
   "cell_type": "code",
   "execution_count": 166,
   "id": "13f77801",
   "metadata": {},
   "outputs": [],
   "source": []
  },
  {
   "cell_type": "code",
   "execution_count": 167,
   "id": "e962081d",
   "metadata": {},
   "outputs": [],
   "source": []
  },
  {
   "cell_type": "code",
   "execution_count": 49,
   "id": "f0056695",
   "metadata": {},
   "outputs": [
    {
     "data": {
      "text/plain": [
       "tensor([ 1,  2,  4,  8, 16, 32, 50, 50, 50, 50, 50, 50, 50, 50, 50, 50, 50, 50,\n",
       "        50, 50, 50, 50, 50, 50, 50, 50, 50, 50, 50, 50, 50, 32, 16,  8,  4,  2,\n",
       "         1])"
      ]
     },
     "execution_count": 49,
     "metadata": {},
     "output_type": "execute_result"
    }
   ],
   "source": [
    "scene.ranks_tt"
   ]
  },
  {
   "cell_type": "code",
   "execution_count": 54,
   "id": "c14f6754",
   "metadata": {},
   "outputs": [
    {
     "data": {
      "text/plain": [
       "tensor(0.0002, dtype=torch.float64)"
      ]
     },
     "execution_count": 54,
     "metadata": {},
     "output_type": "execute_result"
    }
   ],
   "source": [
    "a = tn.rand(scene.shape, ranks_tt=400)\n",
    "a.numcoef() / a.numel()"
   ]
  },
  {
   "cell_type": "code",
   "execution_count": 51,
   "id": "2dd0e7ba",
   "metadata": {},
   "outputs": [
    {
     "data": {
      "text/plain": [
       "tensor(1.8791e-06, dtype=torch.float64)"
      ]
     },
     "execution_count": 51,
     "metadata": {},
     "output_type": "execute_result"
    }
   ],
   "source": [
    "scene.numcoef() / scene.numel()"
   ]
  },
  {
   "cell_type": "code",
   "execution_count": 55,
   "id": "4dbe3038",
   "metadata": {},
   "outputs": [],
   "source": [
    "t = tn.rand([512, 512, 512, 284], ranks_tucker=50)"
   ]
  },
  {
   "cell_type": "code",
   "execution_count": 57,
   "id": "01c9367e",
   "metadata": {},
   "outputs": [
    {
     "data": {
      "text/plain": [
       "tensor(0.0003, dtype=torch.float64)"
      ]
     },
     "execution_count": 57,
     "metadata": {},
     "output_type": "execute_result"
    }
   ],
   "source": [
    "t.numcoef() / t.numel()"
   ]
  },
  {
   "cell_type": "markdown",
   "id": "dbb45807",
   "metadata": {},
   "source": [
    "# Compression experiment"
   ]
  },
  {
   "cell_type": "code",
   "execution_count": 7,
   "id": "3024ca58",
   "metadata": {},
   "outputs": [],
   "source": [
    "tuckers = torch.load('../logs/sweeps/tt_tucker_00032_longshort_flying_eagle_high_ranks.pt')"
   ]
  },
  {
   "cell_type": "code",
   "execution_count": 8,
   "id": "3747662f",
   "metadata": {},
   "outputs": [],
   "source": [
    "rmax = 100\n",
    "\n",
    "[t.round_tucker(rmax=rmax) for t in tuckers]\n",
    "local_res_tucker = reduce_tucker(\n",
    "    [t[..., None] for t in tuckers],\n",
    "    eps=1e-16, rmax=1 * rmax, algorithm='svd')"
   ]
  },
  {
   "cell_type": "code",
   "execution_count": 9,
   "id": "327250f1",
   "metadata": {},
   "outputs": [
    {
     "data": {
      "text/plain": [
       "4D TT-Tucker tensor:\n",
       "\n",
       " 512 512 512 284\n",
       "  |   |   |   |\n",
       " 100 100 100 100\n",
       " (0) (1) (2) (3)\n",
       " / \\ / \\ / \\ / \\\n",
       "1   200 1000100 1"
      ]
     },
     "execution_count": 9,
     "metadata": {},
     "output_type": "execute_result"
    }
   ],
   "source": [
    "local_res_tucker"
   ]
  },
  {
   "cell_type": "code",
   "execution_count": null,
   "id": "002e99b3",
   "metadata": {},
   "outputs": [],
   "source": []
  },
  {
   "cell_type": "code",
   "execution_count": null,
   "id": "1269b427",
   "metadata": {},
   "outputs": [],
   "source": []
  },
  {
   "cell_type": "code",
   "execution_count": null,
   "id": "8d77097f",
   "metadata": {},
   "outputs": [],
   "source": []
  },
  {
   "cell_type": "code",
   "execution_count": null,
   "id": "299de6ae",
   "metadata": {},
   "outputs": [],
   "source": [
    "max_tt_rank = 15\n",
    "low_rank_tt = local_res_tucker.clone()\n",
    "low_rank_tt.round_tt(rmax=low_rank_tt.ranks_tt[1:-2].tolist() + [max_tt_rank])"
   ]
  },
  {
   "cell_type": "code",
   "execution_count": 18,
   "id": "8c5fe3b7",
   "metadata": {},
   "outputs": [],
   "source": []
  },
  {
   "cell_type": "code",
   "execution_count": null,
   "id": "bce35882",
   "metadata": {},
   "outputs": [],
   "source": [
    "low_rank_tt"
   ]
  },
  {
   "cell_type": "code",
   "execution_count": 6,
   "id": "c731e391",
   "metadata": {},
   "outputs": [],
   "source": [
    "coords = torch.tensor(\n",
    "    torch.load('/scratch2/data/cape_release/meshes/00032/longshort_flying_eagle/coords.pt')['coords'])"
   ]
  },
  {
   "cell_type": "code",
   "execution_count": 37,
   "id": "c43d1aec",
   "metadata": {},
   "outputs": [],
   "source": [
    "# mesh = sdf2mesh(tuckers[284 // 2].torch(), coords, 512)\n",
    "# mesh = sdf2mesh(local_res_tucker[..., 284 // 2].torch(), coords, 512)\n",
    "mesh = sdf2mesh(low_rank_tt[..., 284 // 2].torch(), coords, 512)\n",
    "obj = trimesh.exchange.obj.export_obj(mesh, include_texture=False)\n",
    "with open('./mesh_sdf.obj', 'w') as f:\n",
    "    f.write(obj)"
   ]
  }
 ],
 "metadata": {
  "kernelspec": {
   "display_name": "Python 3 (ipykernel)",
   "language": "python",
   "name": "python3"
  },
  "language_info": {
   "codemirror_mode": {
    "name": "ipython",
    "version": 3
   },
   "file_extension": ".py",
   "mimetype": "text/x-python",
   "name": "python",
   "nbconvert_exporter": "python",
   "pygments_lexer": "ipython3",
   "version": "3.10.4"
  }
 },
 "nbformat": 4,
 "nbformat_minor": 5
}
