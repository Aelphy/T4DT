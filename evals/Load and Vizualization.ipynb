{
 "cells": [
  {
   "cell_type": "code",
   "execution_count": 6,
   "id": "9a7c8bdc",
   "metadata": {},
   "outputs": [],
   "source": [
    "import pyvista as pv\n",
    "pv.set_jupyter_backend('ipygany')\n",
    "import skimage\n",
    "import trimesh\n",
    "import torch\n",
    "import tqdm\n",
    "import time\n",
    "import kaolin as kal\n",
    "from t4dt.metrics import hausdorff, MSDM2\n",
    "import sys\n",
    "sys.path.append('..')\n",
    "from t4dt.t4dt import get_qtt_frame, qtt2tensor3d\n",
    "from t4dt.utils import sdf2mesh"
   ]
  },
  {
   "cell_type": "code",
   "execution_count": 7,
   "id": "4c1263dd",
   "metadata": {},
   "outputs": [],
   "source": [
    "SDF_PATH = '/scratch2/data/cape_release/meshes/00032/longshort_flying_eagle/posed/sdf_watertight_longshort_flying_eagle.000001.pt'\n",
    "CKPT_PATH = '/scratch2/projects/t4dt/logs/sweeps/qtt_00032_longshort_flying_eagle_high_ranks_high_thr.pt'\n",
    "COORDS_PATH = '/scratch2/data/cape_release/meshes/00032/longshort_flying_eagle/coords.pt'"
   ]
  },
  {
   "cell_type": "code",
   "execution_count": 8,
   "id": "2f8bcff1",
   "metadata": {},
   "outputs": [],
   "source": [
    "ckpt = torch.load(CKPT_PATH)"
   ]
  },
  {
   "cell_type": "code",
   "execution_count": 9,
   "id": "3f85ffb4",
   "metadata": {},
   "outputs": [
    {
     "data": {
      "text/plain": [
       "tensor(0.0041, dtype=torch.float64)"
      ]
     },
     "execution_count": 9,
     "metadata": {},
     "output_type": "execute_result"
    }
   ],
   "source": [
    "scene = ckpt[(-0.05,0.05)][400]['compressed_scene']\n",
    "lrs = scene.clone()\n",
    "lrs.round_tt(eps=1e-4)\n",
    "lrs.numcoef() / lrs.numel()"
   ]
  },
  {
   "cell_type": "code",
   "execution_count": 16,
   "id": "f86cdbd5",
   "metadata": {},
   "outputs": [],
   "source": [
    "sdf = torch.load(SDF_PATH)['sdf']"
   ]
  },
  {
   "cell_type": "code",
   "execution_count": 10,
   "id": "c5b5be4d",
   "metadata": {},
   "outputs": [],
   "source": [
    "frame0_qtt = get_qtt_frame(lrs, 0)"
   ]
  },
  {
   "cell_type": "code",
   "execution_count": 11,
   "id": "61970d5a",
   "metadata": {},
   "outputs": [],
   "source": [
    "frame0 = qtt2tensor3d(frame0_qtt.torch())"
   ]
  },
  {
   "cell_type": "code",
   "execution_count": 12,
   "id": "5828890a",
   "metadata": {},
   "outputs": [],
   "source": [
    "coords = torch.tensor(torch.load(COORDS_PATH)['coords'])"
   ]
  },
  {
   "cell_type": "code",
   "execution_count": 13,
   "id": "135a29c8",
   "metadata": {},
   "outputs": [],
   "source": [
    "frame0[frame0 < 0] = -1.\n",
    "frame0[frame0 > 0] = 1."
   ]
  },
  {
   "cell_type": "code",
   "execution_count": 15,
   "id": "c473fb52",
   "metadata": {},
   "outputs": [
    {
     "data": {
      "application/vnd.jupyter.widget-view+json": {
       "model_id": "929fdaa2a938492fa8fbc25bc0f1ddb0",
       "version_major": 2,
       "version_minor": 0
      },
      "text/plain": [
       "Renderer(camera=PerspectiveCamera(aspect=1.3333333333333333, children=(DirectionalLight(intensity=0.25, positi…"
      ]
     },
     "metadata": {},
     "output_type": "display_data"
    }
   ],
   "source": [
    "tmesh = sdf2mesh(frame0, coords)\n",
    "mesh = pv.wrap(tmesh)\n",
    "mesh.plot(color='lightgrey', pbr=True, metallic=0.2,\n",
    "          jupyter_backend='pythreejs')"
   ]
  },
  {
   "cell_type": "code",
   "execution_count": 33,
   "id": "98582688",
   "metadata": {},
   "outputs": [
    {
     "name": "stdout",
     "output_type": "stream",
     "text": [
      "hausdorff computation finished. Took: 90.08560538291931 s.\n",
      "MSDM2 computation started\n",
      "Asking to calculate curvature\n",
      "Asking to calculate curvature\n",
      "Asking to calculate curvature\n",
      "Asking to calculate curvature\n",
      "Asking to calculate curvature\n",
      "Asking to calculate curvature\n",
      "MSDM2 computation finished. Took: 244.0522162914276 s.\n"
     ]
    }
   ],
   "source": [
    "frame_pred = frame0\n",
    "res = torch.tensor(frame0.shape)\n",
    "num_sample_points = 30000\n",
    "tqdm.tqdm.write('Marching cube started')\n",
    "t0 = time.time()\n",
    "mesh_pred = sdf2mesh(frame_pred, coords)\n",
    "tqdm.tqdm.write(f'Marching cube finished. Took: {time.time() - t0} s.')\n",
    "\n",
    "tqdm.tqdm.write('Marching cube started')\n",
    "t0 = time.time()\n",
    "mesh_gt = sdf2mesh(sdf, coords)\n",
    "tqdm.tqdm.write(f'Marching cube finished. Took: {time.time() - t0} s.')\n",
    "\n",
    "tqdm.tqdm.write('Sampling points started')\n",
    "t0 = time.time()\n",
    "points_gt, _ = trimesh.sample.sample_surface(mesh_gt, num_sample_points)\n",
    "points_pred, _ = trimesh.sample.sample_surface(mesh_pred, num_sample_points)\n",
    "tqdm.tqdm.write(f'Sampling points finished. Took: {time.time() - t0} s.')\n",
    "\n",
    "points_gt = torch.tensor(points_gt[None]).cuda()\n",
    "points_pred = torch.tensor(points_pred[None]).cuda()\n",
    "\n",
    "chamfer_distance_error = kal.metrics.pointcloud.chamfer_distance(points_gt, points_pred)[0].detach().cpu()\n",
    "del points_gt\n",
    "del points_pred\n",
    "\n",
    "l2_error = torch.norm(frame_pred - sdf)\n",
    "\n",
    "tqdm.tqdm.write('Voxelgrid conversion started')\n",
    "t0 = time.time()\n",
    "vg_pred = kal.ops.conversions.trianglemeshes_to_voxelgrids(\n",
    "    torch.tensor(mesh_pred.vertices[None]),\n",
    "    torch.tensor(mesh_pred.faces),\n",
    "    res.max().item())\n",
    "vg_gt = kal.ops.conversions.trianglemeshes_to_voxelgrids(\n",
    "    torch.tensor(mesh_gt.vertices[None]),\n",
    "    torch.tensor(mesh_gt.faces),\n",
    "    res.max().item())\n",
    "tqdm.tqdm.write(f'Voxelgrid conversion finished. Took: {time.time() - t0} s.')\n",
    "\n",
    "IoU = kal.metrics.voxelgrid.iou(vg_pred, vg_gt)\n",
    "del vg_pred\n",
    "del vg_gt\n",
    "\n",
    "tqdm.tqdm.write('hausdorff computation started')\n",
    "t0 = time.time()\n",
    "hausdorff_dist = hausdorff(\n",
    "    torch.tensor(mesh_gt.vertices), torch.tensor(mesh_gt.faces),\n",
    "    torch.tensor(mesh_pred.vertices), torch.tensor(mesh_pred.faces))\n",
    "tqdm.tqdm.write(f'hausdorff computation finished. Took: {time.time() - t0} s.')\n",
    "\n",
    "tqdm.tqdm.write('MSDM2 computation started')\n",
    "t0 = time.time()\n",
    "MSDM2_err = MSDM2(\n",
    "    torch.tensor(mesh_gt.vertices), torch.tensor(mesh_gt.faces),\n",
    "    torch.tensor(mesh_pred.vertices), torch.tensor(mesh_pred.faces))\n",
    "tqdm.tqdm.write(f'MSDM2 computation finished. Took: {time.time() - t0} s.')\n",
    "result = {\n",
    "    'l2': l2_error,\n",
    "    'chamfer_distance': chamfer_distance_error,\n",
    "    'IoU': IoU[0],\n",
    "    'hausdorff': hausdorff_dist,\n",
    "    'MSDM2': MSDM2_err}"
   ]
  },
  {
   "cell_type": "code",
   "execution_count": 34,
   "id": "18df2db8",
   "metadata": {},
   "outputs": [
    {
     "data": {
      "text/plain": [
       "{'l2': tensor(6423.2939),\n",
       " 'chamfer_distance': tensor(4.3948e-05, dtype=torch.float64),\n",
       " 'IoU': tensor(0.4498),\n",
       " 'hausdorff': 0.01501531680643125,\n",
       " 'MSDM2': 0.6110685257034374}"
      ]
     },
     "execution_count": 34,
     "metadata": {},
     "output_type": "execute_result"
    }
   ],
   "source": [
    "result"
   ]
  },
  {
   "cell_type": "code",
   "execution_count": 35,
   "id": "6435e801",
   "metadata": {},
   "outputs": [
    {
     "data": {
      "text/plain": [
       "tensor(0.0041, dtype=torch.float64)"
      ]
     },
     "execution_count": 35,
     "metadata": {},
     "output_type": "execute_result"
    }
   ],
   "source": [
    "lrs.numcoef() / lrs.numel()"
   ]
  },
  {
   "cell_type": "code",
   "execution_count": null,
   "id": "c8fc1411",
   "metadata": {},
   "outputs": [],
   "source": []
  }
 ],
 "metadata": {
  "kernelspec": {
   "display_name": "Python 3 (ipykernel)",
   "language": "python",
   "name": "python3"
  },
  "language_info": {
   "codemirror_mode": {
    "name": "ipython",
    "version": 3
   },
   "file_extension": ".py",
   "mimetype": "text/x-python",
   "name": "python",
   "nbconvert_exporter": "python",
   "pygments_lexer": "ipython3",
   "version": "3.10.4"
  }
 },
 "nbformat": 4,
 "nbformat_minor": 5
}
