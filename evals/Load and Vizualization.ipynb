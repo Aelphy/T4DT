{
 "cells": [
  {
   "cell_type": "code",
   "execution_count": 13,
   "id": "a046d611",
   "metadata": {},
   "outputs": [],
   "source": [
    "import pyvista as pv\n",
    "pv.set_jupyter_backend('ipygany')\n",
    "import skimage\n",
    "import trimesh\n",
    "import torch\n",
    "import sys\n",
    "sys.path.append('..')\n",
    "from t4dt.t4dt import get_qtt_frame, qtt2tensor3d\n",
    "from t4dt.utils import sdf2mesh"
   ]
  },
  {
   "cell_type": "code",
   "execution_count": 1,
   "id": "9e8333d6",
   "metadata": {},
   "outputs": [],
   "source": [
    "SDF_PATH = '/scratch2/data/cape_release/meshes/00032/longshort_flying_eagle/posed/sdf_watertight_longshort_flying_eagle.000001.pt'\n",
    "CKPT_PATH = '/scratch2/projects/t4dt/logs/sweeps/qtt_00032_longshort_flying_eagle_high_ranks_high_thr.pt'\n",
    "COORDS_PATH = '/scratch2/data/cape_release/meshes/00032/longshort_flying_eagle/coords.pt'"
   ]
  },
  {
   "cell_type": "code",
   "execution_count": 5,
   "id": "444e155b",
   "metadata": {},
   "outputs": [],
   "source": [
    "ckpt = torch.load(CKPT_PATH)"
   ]
  },
  {
   "cell_type": "code",
   "execution_count": 6,
   "id": "5a5c3d61",
   "metadata": {},
   "outputs": [],
   "source": [
    "scene = ckpt[(-0.05,0.05)][400]['compressed_scene']"
   ]
  },
  {
   "cell_type": "code",
   "execution_count": 10,
   "id": "ef63a674",
   "metadata": {},
   "outputs": [],
   "source": [
    "frame0_qtt = get_qtt_frame(scene, 0)"
   ]
  },
  {
   "cell_type": "code",
   "execution_count": 14,
   "id": "f26353e3",
   "metadata": {},
   "outputs": [],
   "source": [
    "frame0 = qtt2tensor3d(frame0_qtt.torch())"
   ]
  },
  {
   "cell_type": "code",
   "execution_count": 17,
   "id": "94bb00f0",
   "metadata": {},
   "outputs": [],
   "source": [
    "coords = torch.tensor(torch.load(COORDS_PATH)['coords'])"
   ]
  },
  {
   "cell_type": "code",
   "execution_count": 18,
   "id": "6dfe9c55",
   "metadata": {},
   "outputs": [],
   "source": [
    "tmesh = sdf2mesh(frame0, coords)"
   ]
  },
  {
   "cell_type": "code",
   "execution_count": 19,
   "id": "8995fcdb",
   "metadata": {},
   "outputs": [
    {
     "data": {
      "application/vnd.jupyter.widget-view+json": {
       "model_id": "386b1c55c1394325a223138f9fd7db28",
       "version_major": 2,
       "version_minor": 0
      },
      "text/plain": [
       "Renderer(camera=PerspectiveCamera(aspect=1.3333333333333333, children=(DirectionalLight(intensity=0.25, positi…"
      ]
     },
     "metadata": {},
     "output_type": "display_data"
    }
   ],
   "source": [
    "# tmesh = \n",
    "mesh = pv.wrap(tmesh)\n",
    "mesh.plot(color='lightgrey', pbr=True, metallic=0.2,\n",
    "          jupyter_backend='pythreejs')"
   ]
  },
  {
   "cell_type": "code",
   "execution_count": null,
   "id": "648045fa",
   "metadata": {},
   "outputs": [],
   "source": []
  }
 ],
 "metadata": {
  "kernelspec": {
   "display_name": "Python 3 (ipykernel)",
   "language": "python",
   "name": "python3"
  },
  "language_info": {
   "codemirror_mode": {
    "name": "ipython",
    "version": 3
   },
   "file_extension": ".py",
   "mimetype": "text/x-python",
   "name": "python",
   "nbconvert_exporter": "python",
   "pygments_lexer": "ipython3",
   "version": "3.10.4"
  }
 },
 "nbformat": 4,
 "nbformat_minor": 5
}
