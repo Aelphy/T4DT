{
 "cells": [
  {
   "cell_type": "code",
   "execution_count": 49,
   "id": "03721060",
   "metadata": {},
   "outputs": [],
   "source": [
    "import torch\n",
    "import matplotlib.pyplot as plt\n",
    "import os\n",
    "import os.path as osp\n",
    "import sys\n",
    "sys.path.append('..')\n",
    "from t4dt.metrics import compute_metrics, hausdorff, MSDM2"
   ]
  },
  {
   "cell_type": "code",
   "execution_count": 2,
   "id": "f71ad0bd",
   "metadata": {},
   "outputs": [],
   "source": [
    "ckpt = torch.load('../logs/sweeps/tt_tucker_00032_longshort_flying_eagle_low_ranks.pt')"
   ]
  },
  {
   "cell_type": "code",
   "execution_count": 3,
   "id": "e4e2d40a",
   "metadata": {},
   "outputs": [],
   "source": [
    "min_tsdf, max_tsdf = -0.005, 0.005\n",
    "data_dir = '/scratch2/data/cape_release/'\n",
    "model = '00032'\n",
    "scene = 'longshort_flying_eagle'\n",
    "frames = []\n",
    "for frame in sorted(os.listdir(osp.join(data_dir, 'meshes', model, scene, 'posed'))):\n",
    "    if frame.startswith('sdf'):\n",
    "        frames.append(frame)"
   ]
  },
  {
   "cell_type": "code",
   "execution_count": 4,
   "id": "45f0372e",
   "metadata": {},
   "outputs": [],
   "source": [
    "files = [(osp.join(data_dir, 'meshes', model, scene, 'posed', frame),\n",
    "              osp.join(data_dir, 'meshes', model, scene, 'posed', frame[4:-2] + 'obj'))\n",
    "             for frame in frames]"
   ]
  },
  {
   "cell_type": "code",
   "execution_count": null,
   "id": "3fcd9bb9",
   "metadata": {
    "scrolled": true
   },
   "outputs": [
    {
     "name": "stderr",
     "output_type": "stream",
     "text": [
      "  0%|                                                                                                                                                                                                                                 | 0/3 [00:00<?, ?it/s]"
     ]
    },
    {
     "name": "stdout",
     "output_type": "stream",
     "text": [
      "Marching cube started\n"
     ]
    },
    {
     "name": "stderr",
     "output_type": "stream",
     "text": [
      "  0%|                                                                                                                                                                                                                                 | 0/3 [00:02<?, ?it/s]"
     ]
    },
    {
     "name": "stdout",
     "output_type": "stream",
     "text": [
      "Marching cube finished. Took: 1.4139437675476074 s.\n",
      "Marching cube started\n"
     ]
    },
    {
     "name": "stderr",
     "output_type": "stream",
     "text": [
      "  0%|                                                                                                                                                                                                                                 | 0/3 [00:03<?, ?it/s]"
     ]
    },
    {
     "name": "stdout",
     "output_type": "stream",
     "text": [
      "Marching cube finished. Took: 1.2737324237823486 s.\n"
     ]
    },
    {
     "name": "stderr",
     "output_type": "stream",
     "text": [
      "  0%|                                                                                                                                                                                                                                 | 0/3 [00:04<?, ?it/s]"
     ]
    },
    {
     "name": "stdout",
     "output_type": "stream",
     "text": [
      "Sampling points started\n",
      "Sampling points finished. Took: 0.15739011764526367 s.\n"
     ]
    },
    {
     "name": "stderr",
     "output_type": "stream",
     "text": [
      "  0%|                                                                                                                                                                                                                                 | 0/3 [00:04<?, ?it/s]"
     ]
    },
    {
     "name": "stdout",
     "output_type": "stream",
     "text": [
      "Voxelgrid conversion started\n"
     ]
    },
    {
     "name": "stderr",
     "output_type": "stream",
     "text": [
      "  0%|                                                                                                                                                                                                                                 | 0/3 [00:12<?, ?it/s]"
     ]
    },
    {
     "name": "stdout",
     "output_type": "stream",
     "text": [
      "Voxelgrid conversion finished. Took: 7.974615573883057 s.\n"
     ]
    },
    {
     "name": "stderr",
     "output_type": "stream",
     "text": [
      "  0%|                                                                                                                                                                                                                                 | 0/3 [00:13<?, ?it/s]"
     ]
    },
    {
     "name": "stdout",
     "output_type": "stream",
     "text": [
      "hausdorff computation started\n"
     ]
    },
    {
     "name": "stderr",
     "output_type": "stream",
     "text": [
      "  0%|                                                                                                                                                                                                                                 | 0/3 [00:14<?, ?it/s]"
     ]
    },
    {
     "name": "stdout",
     "output_type": "stream",
     "text": [
      "hausdorff computation finished. Took: 0.803856372833252 s.\n",
      "MSDM2 computation started\n"
     ]
    },
    {
     "name": "stderr",
     "output_type": "stream",
     "text": [
      "  0%|                                                                                                                                                                                                                                 | 0/3 [04:18<?, ?it/s]"
     ]
    },
    {
     "name": "stdout",
     "output_type": "stream",
     "text": [
      "Asking to calculate curvature\n",
      "Asking to calculate curvature\n",
      "Asking to calculate curvature\n",
      "Asking to calculate curvature\n",
      "Asking to calculate curvature\n",
      "Asking to calculate curvature\n",
      "MSDM2 computation finished. Took: 244.08595776557922 s.\n",
      "Sampling points started\n",
      "Sampling points finished. Took: 0.11127400398254395 s.\n"
     ]
    },
    {
     "name": "stderr",
     "output_type": "stream",
     "text": [
      "  0%|                                                                                                                                                                                                                                 | 0/3 [04:19<?, ?it/s]"
     ]
    },
    {
     "name": "stdout",
     "output_type": "stream",
     "text": [
      "Voxelgrid conversion started\n"
     ]
    },
    {
     "name": "stderr",
     "output_type": "stream",
     "text": [
      "  0%|                                                                                                                                                                                                                                 | 0/3 [04:31<?, ?it/s]"
     ]
    },
    {
     "name": "stdout",
     "output_type": "stream",
     "text": [
      "Voxelgrid conversion finished. Took: 12.709486484527588 s.\n"
     ]
    },
    {
     "name": "stderr",
     "output_type": "stream",
     "text": [
      "  0%|                                                                                                                                                                                                                                 | 0/3 [04:32<?, ?it/s]"
     ]
    },
    {
     "name": "stdout",
     "output_type": "stream",
     "text": [
      "hausdorff computation started\n"
     ]
    },
    {
     "name": "stderr",
     "output_type": "stream",
     "text": [
      "  0%|                                                                                                                                                                                                                                 | 0/3 [04:35<?, ?it/s]"
     ]
    },
    {
     "name": "stdout",
     "output_type": "stream",
     "text": [
      "hausdorff computation finished. Took: 3.0458667278289795 s.\n",
      "MSDM2 computation started\n"
     ]
    },
    {
     "name": "stderr",
     "output_type": "stream",
     "text": [
      " 33%|████████████████████████████████████████████████████████████████████████                                                                                                                                                | 1/3 [09:37<19:15, 577.70s/it]"
     ]
    },
    {
     "name": "stdout",
     "output_type": "stream",
     "text": [
      "Asking to calculate curvature\n",
      "Asking to calculate curvature\n",
      "Curvature warning: 108 isolated vertices were skipped.\n",
      "Asking to calculate curvature\n",
      "Asking to calculate curvature\n",
      "Curvature warning: 108 isolated vertices were skipped.\n",
      "Asking to calculate curvature\n",
      "Asking to calculate curvature\n",
      "Curvature warning: 108 isolated vertices were skipped.\n",
      "MSDM2 computation finished. Took: 302.0738000869751 s.\n"
     ]
    },
    {
     "name": "stderr",
     "output_type": "stream",
     "text": [
      " 33%|████████████████████████████████████████████████████████████████████████                                                                                                                                                | 1/3 [09:38<19:15, 577.70s/it]"
     ]
    },
    {
     "name": "stdout",
     "output_type": "stream",
     "text": [
      "Marching cube started\n"
     ]
    },
    {
     "name": "stderr",
     "output_type": "stream",
     "text": [
      " 33%|████████████████████████████████████████████████████████████████████████                                                                                                                                                | 1/3 [09:39<19:15, 577.70s/it]"
     ]
    },
    {
     "name": "stdout",
     "output_type": "stream",
     "text": [
      "Marching cube finished. Took: 1.2674360275268555 s.\n",
      "Marching cube started\n"
     ]
    },
    {
     "name": "stderr",
     "output_type": "stream",
     "text": [
      " 33%|████████████████████████████████████████████████████████████████████████                                                                                                                                                | 1/3 [09:41<19:15, 577.70s/it]"
     ]
    },
    {
     "name": "stdout",
     "output_type": "stream",
     "text": [
      "Marching cube finished. Took: 1.277122974395752 s.\n"
     ]
    },
    {
     "name": "stderr",
     "output_type": "stream",
     "text": [
      " 33%|████████████████████████████████████████████████████████████████████████                                                                                                                                                | 1/3 [09:41<19:15, 577.70s/it]"
     ]
    },
    {
     "name": "stdout",
     "output_type": "stream",
     "text": [
      "Sampling points started\n"
     ]
    },
    {
     "name": "stderr",
     "output_type": "stream",
     "text": [
      " 33%|████████████████████████████████████████████████████████████████████████                                                                                                                                                | 1/3 [09:42<19:15, 577.70s/it]"
     ]
    },
    {
     "name": "stdout",
     "output_type": "stream",
     "text": [
      "Sampling points finished. Took: 0.4648933410644531 s.\n"
     ]
    },
    {
     "name": "stderr",
     "output_type": "stream",
     "text": [
      " 33%|████████████████████████████████████████████████████████████████████████                                                                                                                                                | 1/3 [09:42<19:15, 577.70s/it]"
     ]
    },
    {
     "name": "stdout",
     "output_type": "stream",
     "text": [
      "Voxelgrid conversion started\n"
     ]
    },
    {
     "name": "stderr",
     "output_type": "stream",
     "text": [
      " 33%|████████████████████████████████████████████████████████████████████████                                                                                                                                                | 1/3 [09:51<19:15, 577.70s/it]"
     ]
    },
    {
     "name": "stdout",
     "output_type": "stream",
     "text": [
      "Voxelgrid conversion finished. Took: 8.597786903381348 s.\n"
     ]
    },
    {
     "name": "stderr",
     "output_type": "stream",
     "text": [
      " 33%|████████████████████████████████████████████████████████████████████████                                                                                                                                                | 1/3 [09:51<19:15, 577.70s/it]"
     ]
    },
    {
     "name": "stdout",
     "output_type": "stream",
     "text": [
      "hausdorff computation started\n"
     ]
    },
    {
     "name": "stderr",
     "output_type": "stream",
     "text": [
      " 33%|████████████████████████████████████████████████████████████████████████                                                                                                                                                | 1/3 [09:52<19:15, 577.70s/it]"
     ]
    },
    {
     "name": "stdout",
     "output_type": "stream",
     "text": [
      "hausdorff computation finished. Took: 0.9006211757659912 s.\n",
      "MSDM2 computation started\n"
     ]
    },
    {
     "name": "stderr",
     "output_type": "stream",
     "text": [
      " 33%|████████████████████████████████████████████████████████████████████████                                                                                                                                                | 1/3 [13:32<19:15, 577.70s/it]"
     ]
    },
    {
     "name": "stdout",
     "output_type": "stream",
     "text": [
      "Asking to calculate curvature\n",
      "Asking to calculate curvature\n",
      "Curvature warning: 2 isolated vertices were skipped.\n",
      "Asking to calculate curvature\n",
      "Asking to calculate curvature\n",
      "Curvature warning: 2 isolated vertices were skipped.\n",
      "Asking to calculate curvature\n",
      "Asking to calculate curvature\n",
      "Curvature warning: 2 isolated vertices were skipped.\n",
      "MSDM2 computation finished. Took: 219.97569799423218 s.\n",
      "Sampling points started\n",
      "Sampling points finished. Took: 0.1193082332611084 s.\n"
     ]
    },
    {
     "name": "stderr",
     "output_type": "stream",
     "text": [
      " 33%|████████████████████████████████████████████████████████████████████████                                                                                                                                                | 1/3 [13:33<19:15, 577.70s/it]"
     ]
    },
    {
     "name": "stdout",
     "output_type": "stream",
     "text": [
      "Voxelgrid conversion started\n"
     ]
    },
    {
     "name": "stderr",
     "output_type": "stream",
     "text": [
      " 33%|████████████████████████████████████████████████████████████████████████                                                                                                                                                | 1/3 [13:48<19:15, 577.70s/it]"
     ]
    },
    {
     "name": "stdout",
     "output_type": "stream",
     "text": [
      "Voxelgrid conversion finished. Took: 14.636050939559937 s.\n"
     ]
    },
    {
     "name": "stderr",
     "output_type": "stream",
     "text": [
      " 33%|████████████████████████████████████████████████████████████████████████                                                                                                                                                | 1/3 [13:48<19:15, 577.70s/it]"
     ]
    },
    {
     "name": "stdout",
     "output_type": "stream",
     "text": [
      "hausdorff computation started\n"
     ]
    },
    {
     "name": "stderr",
     "output_type": "stream",
     "text": [
      " 33%|████████████████████████████████████████████████████████████████████████                                                                                                                                                | 1/3 [13:52<19:15, 577.70s/it]"
     ]
    },
    {
     "name": "stdout",
     "output_type": "stream",
     "text": [
      "hausdorff computation finished. Took: 4.023149490356445 s.\n",
      "MSDM2 computation started\n"
     ]
    },
    {
     "name": "stderr",
     "output_type": "stream",
     "text": [
      " 67%|████████████████████████████████████████████████████████████████████████████████████████████████████████████████████████████████████████████████                                                                        | 2/3 [18:32<09:12, 552.59s/it]"
     ]
    },
    {
     "name": "stdout",
     "output_type": "stream",
     "text": [
      "Asking to calculate curvature\n",
      "Asking to calculate curvature\n",
      "Curvature warning: 122 isolated vertices were skipped.\n",
      "Asking to calculate curvature\n",
      "Asking to calculate curvature\n",
      "Curvature warning: 122 isolated vertices were skipped.\n",
      "Asking to calculate curvature\n",
      "Asking to calculate curvature\n",
      "Curvature warning: 122 isolated vertices were skipped.\n",
      "MSDM2 computation finished. Took: 279.7474021911621 s.\n"
     ]
    },
    {
     "name": "stderr",
     "output_type": "stream",
     "text": [
      " 67%|████████████████████████████████████████████████████████████████████████████████████████████████████████████████████████████████████████████████                                                                        | 2/3 [18:33<09:12, 552.59s/it]"
     ]
    },
    {
     "name": "stdout",
     "output_type": "stream",
     "text": [
      "Marching cube started\n"
     ]
    },
    {
     "name": "stderr",
     "output_type": "stream",
     "text": [
      " 67%|████████████████████████████████████████████████████████████████████████████████████████████████████████████████████████████████████████████████                                                                        | 2/3 [18:34<09:12, 552.59s/it]"
     ]
    },
    {
     "name": "stdout",
     "output_type": "stream",
     "text": [
      "Marching cube finished. Took: 1.2638933658599854 s.\n",
      "Marching cube started\n"
     ]
    },
    {
     "name": "stderr",
     "output_type": "stream",
     "text": [
      " 67%|████████████████████████████████████████████████████████████████████████████████████████████████████████████████████████████████████████████████                                                                        | 2/3 [18:36<09:12, 552.59s/it]"
     ]
    },
    {
     "name": "stdout",
     "output_type": "stream",
     "text": [
      "Marching cube finished. Took: 1.2727327346801758 s.\n"
     ]
    },
    {
     "name": "stderr",
     "output_type": "stream",
     "text": [
      " 67%|████████████████████████████████████████████████████████████████████████████████████████████████████████████████████████████████████████████████                                                                        | 2/3 [18:36<09:12, 552.59s/it]"
     ]
    },
    {
     "name": "stdout",
     "output_type": "stream",
     "text": [
      "Sampling points started\n",
      "Sampling points finished. Took: 0.1469593048095703 s.\n"
     ]
    },
    {
     "name": "stderr",
     "output_type": "stream",
     "text": [
      " 67%|████████████████████████████████████████████████████████████████████████████████████████████████████████████████████████████████████████████████                                                                        | 2/3 [18:37<09:12, 552.59s/it]"
     ]
    },
    {
     "name": "stdout",
     "output_type": "stream",
     "text": [
      "Voxelgrid conversion started\n"
     ]
    },
    {
     "name": "stderr",
     "output_type": "stream",
     "text": [
      " 67%|████████████████████████████████████████████████████████████████████████████████████████████████████████████████████████████████████████████████                                                                        | 2/3 [18:45<09:12, 552.59s/it]"
     ]
    },
    {
     "name": "stdout",
     "output_type": "stream",
     "text": [
      "Voxelgrid conversion finished. Took: 8.111103773117065 s.\n"
     ]
    },
    {
     "name": "stderr",
     "output_type": "stream",
     "text": [
      " 67%|████████████████████████████████████████████████████████████████████████████████████████████████████████████████████████████████████████████████                                                                        | 2/3 [18:46<09:12, 552.59s/it]"
     ]
    },
    {
     "name": "stdout",
     "output_type": "stream",
     "text": [
      "hausdorff computation started\n"
     ]
    },
    {
     "name": "stderr",
     "output_type": "stream",
     "text": [
      " 67%|████████████████████████████████████████████████████████████████████████████████████████████████████████████████████████████████████████████████                                                                        | 2/3 [18:47<09:12, 552.59s/it]"
     ]
    },
    {
     "name": "stdout",
     "output_type": "stream",
     "text": [
      "hausdorff computation finished. Took: 0.8199596405029297 s.\n",
      "MSDM2 computation started\n",
      "Asking to calculate curvature\n",
      "Asking to calculate curvature\n",
      "Asking to calculate curvature\n",
      "Asking to calculate curvature\n",
      "Asking to calculate curvature\n",
      "Asking to calculate curvature\n"
     ]
    },
    {
     "name": "stderr",
     "output_type": "stream",
     "text": [
      " 67%|████████████████████████████████████████████████████████████████████████████████████████████████████████████████████████████████████████████████                                                                        | 2/3 [22:55<09:12, 552.59s/it]"
     ]
    },
    {
     "name": "stdout",
     "output_type": "stream",
     "text": [
      "MSDM2 computation finished. Took: 248.27175998687744 s.\n",
      "Sampling points started\n",
      "Sampling points finished. Took: 0.11190462112426758 s.\n"
     ]
    },
    {
     "name": "stderr",
     "output_type": "stream",
     "text": [
      " 67%|████████████████████████████████████████████████████████████████████████████████████████████████████████████████████████████████████████████████                                                                        | 2/3 [22:56<09:12, 552.59s/it]"
     ]
    },
    {
     "name": "stdout",
     "output_type": "stream",
     "text": [
      "Voxelgrid conversion started\n"
     ]
    },
    {
     "name": "stderr",
     "output_type": "stream",
     "text": [
      " 67%|████████████████████████████████████████████████████████████████████████████████████████████████████████████████████████████████████████████████                                                                        | 2/3 [23:08<09:12, 552.59s/it]"
     ]
    },
    {
     "name": "stdout",
     "output_type": "stream",
     "text": [
      "Voxelgrid conversion finished. Took: 12.724411249160767 s.\n"
     ]
    },
    {
     "name": "stderr",
     "output_type": "stream",
     "text": [
      " 67%|████████████████████████████████████████████████████████████████████████████████████████████████████████████████████████████████████████████████                                                                        | 2/3 [23:09<09:12, 552.59s/it]"
     ]
    },
    {
     "name": "stdout",
     "output_type": "stream",
     "text": [
      "hausdorff computation started\n"
     ]
    },
    {
     "name": "stderr",
     "output_type": "stream",
     "text": [
      " 67%|████████████████████████████████████████████████████████████████████████████████████████████████████████████████████████████████████████████████                                                                        | 2/3 [23:12<09:12, 552.59s/it]"
     ]
    },
    {
     "name": "stdout",
     "output_type": "stream",
     "text": [
      "hausdorff computation finished. Took: 3.0263512134552 s.\n",
      "MSDM2 computation started\n"
     ]
    },
    {
     "name": "stderr",
     "output_type": "stream",
     "text": [
      "100%|████████████████████████████████████████████████████████████████████████████████████████████████████████████████████████████████████████████████████████████████████████████████████████████████████████████████████████| 3/3 [28:07<00:00, 562.45s/it]\n"
     ]
    },
    {
     "name": "stdout",
     "output_type": "stream",
     "text": [
      "Asking to calculate curvature\n",
      "Asking to calculate curvature\n",
      "Curvature warning: 119 isolated vertices were skipped.\n",
      "Asking to calculate curvature\n",
      "Asking to calculate curvature\n",
      "Curvature warning: 119 isolated vertices were skipped.\n",
      "Asking to calculate curvature\n",
      "Asking to calculate curvature\n",
      "Curvature warning: 119 isolated vertices were skipped.\n",
      "MSDM2 computation finished. Took: 294.7085645198822 s.\n",
      "{0: {0: {'l2': tensor(1.4167), 'chamfer_distance': tensor(5.9376e-05, dtype=torch.float64), 'IoU': tensor(0.0431), 'hausdorff': 0.05338800152088039, 'MSDM2': 0.46918992830158934}, 1: {'l2': tensor(1.4167), 'chamfer_distance': tensor(2.9222, dtype=torch.float64), 'IoU': tensor(0.0411), 'hausdorff': 1.5726675361802724, 'MSDM2': 0.6885379480382621}}, 142: {0: {'l2': tensor(2.4450), 'chamfer_distance': tensor(0.0003, dtype=torch.float64), 'IoU': tensor(0.1517), 'hausdorff': 0.14967291510373068, 'MSDM2': 0.4830676574872463}, 1: {'l2': tensor(2.4450), 'chamfer_distance': tensor(2.8520, dtype=torch.float64), 'IoU': tensor(0.1675), 'hausdorff': 1.5703948261158056, 'MSDM2': 0.6856523314933698}}, 283: {0: {'l2': tensor(1.2500), 'chamfer_distance': tensor(5.9058e-05, dtype=torch.float64), 'IoU': tensor(0.3228), 'hausdorff': 0.06420273828680981, 'MSDM2': 0.4582947525248138}, 1: {'l2': tensor(1.2500), 'chamfer_distance': tensor(2.9220, dtype=torch.float64), 'IoU': tensor(0.3168), 'hausdorff': 1.554346854688018, 'MSDM2': 0.6978811777344027}}}\n"
     ]
    },
    {
     "name": "stderr",
     "output_type": "stream",
     "text": [
      "  0%|                                                                                                                                                                                                                                 | 0/3 [00:00<?, ?it/s]"
     ]
    },
    {
     "name": "stdout",
     "output_type": "stream",
     "text": [
      "Marching cube started\n"
     ]
    },
    {
     "name": "stderr",
     "output_type": "stream",
     "text": [
      "  0%|                                                                                                                                                                                                                                 | 0/3 [00:01<?, ?it/s]"
     ]
    },
    {
     "name": "stdout",
     "output_type": "stream",
     "text": [
      "Marching cube finished. Took: 1.2664015293121338 s.\n",
      "Marching cube started\n"
     ]
    },
    {
     "name": "stderr",
     "output_type": "stream",
     "text": [
      "  0%|                                                                                                                                                                                                                                 | 0/3 [00:02<?, ?it/s]"
     ]
    },
    {
     "name": "stdout",
     "output_type": "stream",
     "text": [
      "Marching cube finished. Took: 1.2707831859588623 s.\n"
     ]
    },
    {
     "name": "stderr",
     "output_type": "stream",
     "text": [
      "  0%|                                                                                                                                                                                                                                 | 0/3 [00:03<?, ?it/s]"
     ]
    },
    {
     "name": "stdout",
     "output_type": "stream",
     "text": [
      "Sampling points started\n",
      "Sampling points finished. Took: 0.1413278579711914 s.\n"
     ]
    },
    {
     "name": "stderr",
     "output_type": "stream",
     "text": [
      "  0%|                                                                                                                                                                                                                                 | 0/3 [00:04<?, ?it/s]"
     ]
    },
    {
     "name": "stdout",
     "output_type": "stream",
     "text": [
      "Voxelgrid conversion started\n"
     ]
    },
    {
     "name": "stderr",
     "output_type": "stream",
     "text": [
      "  0%|                                                                                                                                                                                                                                 | 0/3 [00:12<?, ?it/s]"
     ]
    },
    {
     "name": "stdout",
     "output_type": "stream",
     "text": [
      "Voxelgrid conversion finished. Took: 7.7710771560668945 s.\n"
     ]
    },
    {
     "name": "stderr",
     "output_type": "stream",
     "text": [
      "  0%|                                                                                                                                                                                                                                 | 0/3 [00:12<?, ?it/s]"
     ]
    },
    {
     "name": "stdout",
     "output_type": "stream",
     "text": [
      "hausdorff computation started\n"
     ]
    },
    {
     "name": "stderr",
     "output_type": "stream",
     "text": [
      "  0%|                                                                                                                                                                                                                                 | 0/3 [00:13<?, ?it/s]"
     ]
    },
    {
     "name": "stdout",
     "output_type": "stream",
     "text": [
      "hausdorff computation finished. Took: 0.866302490234375 s.\n",
      "MSDM2 computation started\n",
      "Asking to calculate curvature\n",
      "Asking to calculate curvature\n",
      "Asking to calculate curvature\n",
      "Asking to calculate curvature\n",
      "Asking to calculate curvature\n",
      "Asking to calculate curvature\n"
     ]
    },
    {
     "name": "stderr",
     "output_type": "stream",
     "text": [
      "  0%|                                                                                                                                                                                                                                 | 0/3 [04:02<?, ?it/s]"
     ]
    },
    {
     "name": "stdout",
     "output_type": "stream",
     "text": [
      "MSDM2 computation finished. Took: 228.8634877204895 s.\n",
      "Sampling points started\n"
     ]
    },
    {
     "name": "stderr",
     "output_type": "stream",
     "text": [
      "  0%|                                                                                                                                                                                                                                 | 0/3 [04:02<?, ?it/s]"
     ]
    },
    {
     "name": "stdout",
     "output_type": "stream",
     "text": [
      "Sampling points finished. Took: 0.20812368392944336 s.\n"
     ]
    },
    {
     "name": "stderr",
     "output_type": "stream",
     "text": [
      "  0%|                                                                                                                                                                                                                                 | 0/3 [04:03<?, ?it/s]"
     ]
    },
    {
     "name": "stdout",
     "output_type": "stream",
     "text": [
      "Voxelgrid conversion started\n"
     ]
    },
    {
     "name": "stderr",
     "output_type": "stream",
     "text": [
      "  0%|                                                                                                                                                                                                                                 | 0/3 [04:16<?, ?it/s]"
     ]
    },
    {
     "name": "stdout",
     "output_type": "stream",
     "text": [
      "Voxelgrid conversion finished. Took: 12.479677200317383 s.\n"
     ]
    },
    {
     "name": "stderr",
     "output_type": "stream",
     "text": [
      "  0%|                                                                                                                                                                                                                                 | 0/3 [04:16<?, ?it/s]"
     ]
    },
    {
     "name": "stdout",
     "output_type": "stream",
     "text": [
      "hausdorff computation started\n"
     ]
    },
    {
     "name": "stderr",
     "output_type": "stream",
     "text": [
      "  0%|                                                                                                                                                                                                                                 | 0/3 [04:19<?, ?it/s]"
     ]
    },
    {
     "name": "stdout",
     "output_type": "stream",
     "text": [
      "hausdorff computation finished. Took: 3.0413928031921387 s.\n",
      "MSDM2 computation started\n"
     ]
    },
    {
     "name": "stderr",
     "output_type": "stream",
     "text": [
      " 33%|████████████████████████████████████████████████████████████████████████                                                                                                                                                | 1/3 [09:04<18:09, 544.66s/it]"
     ]
    },
    {
     "name": "stdout",
     "output_type": "stream",
     "text": [
      "Asking to calculate curvature\n",
      "Asking to calculate curvature\n",
      "Curvature warning: 108 isolated vertices were skipped.\n",
      "Asking to calculate curvature\n",
      "Asking to calculate curvature\n",
      "Curvature warning: 108 isolated vertices were skipped.\n",
      "Asking to calculate curvature\n",
      "Asking to calculate curvature\n",
      "Curvature warning: 108 isolated vertices were skipped.\n",
      "MSDM2 computation finished. Took: 284.9360854625702 s.\n"
     ]
    },
    {
     "name": "stderr",
     "output_type": "stream",
     "text": [
      " 33%|████████████████████████████████████████████████████████████████████████                                                                                                                                                | 1/3 [09:05<18:09, 544.66s/it]"
     ]
    },
    {
     "name": "stdout",
     "output_type": "stream",
     "text": [
      "Marching cube started\n"
     ]
    },
    {
     "name": "stderr",
     "output_type": "stream",
     "text": [
      " 33%|████████████████████████████████████████████████████████████████████████                                                                                                                                                | 1/3 [09:06<18:09, 544.66s/it]"
     ]
    },
    {
     "name": "stdout",
     "output_type": "stream",
     "text": [
      "Marching cube finished. Took: 1.2686209678649902 s.\n",
      "Marching cube started\n"
     ]
    },
    {
     "name": "stderr",
     "output_type": "stream",
     "text": [
      " 33%|████████████████████████████████████████████████████████████████████████                                                                                                                                                | 1/3 [09:07<18:09, 544.66s/it]"
     ]
    },
    {
     "name": "stdout",
     "output_type": "stream",
     "text": [
      "Marching cube finished. Took: 1.286095142364502 s.\n"
     ]
    },
    {
     "name": "stderr",
     "output_type": "stream",
     "text": [
      " 33%|████████████████████████████████████████████████████████████████████████                                                                                                                                                | 1/3 [09:08<18:09, 544.66s/it]"
     ]
    },
    {
     "name": "stdout",
     "output_type": "stream",
     "text": [
      "Sampling points started\n"
     ]
    },
    {
     "name": "stderr",
     "output_type": "stream",
     "text": [
      " 33%|████████████████████████████████████████████████████████████████████████                                                                                                                                                | 1/3 [09:08<18:09, 544.66s/it]"
     ]
    },
    {
     "name": "stdout",
     "output_type": "stream",
     "text": [
      "Sampling points finished. Took: 0.45419931411743164 s.\n"
     ]
    },
    {
     "name": "stderr",
     "output_type": "stream",
     "text": [
      " 33%|████████████████████████████████████████████████████████████████████████                                                                                                                                                | 1/3 [09:09<18:09, 544.66s/it]"
     ]
    },
    {
     "name": "stdout",
     "output_type": "stream",
     "text": [
      "Voxelgrid conversion started\n"
     ]
    },
    {
     "name": "stderr",
     "output_type": "stream",
     "text": [
      " 33%|████████████████████████████████████████████████████████████████████████                                                                                                                                                | 1/3 [09:17<18:09, 544.66s/it]"
     ]
    },
    {
     "name": "stdout",
     "output_type": "stream",
     "text": [
      "Voxelgrid conversion finished. Took: 8.144770860671997 s.\n"
     ]
    },
    {
     "name": "stderr",
     "output_type": "stream",
     "text": [
      " 33%|████████████████████████████████████████████████████████████████████████                                                                                                                                                | 1/3 [09:18<18:09, 544.66s/it]"
     ]
    },
    {
     "name": "stdout",
     "output_type": "stream",
     "text": [
      "hausdorff computation started\n"
     ]
    },
    {
     "name": "stderr",
     "output_type": "stream",
     "text": [
      " 33%|████████████████████████████████████████████████████████████████████████                                                                                                                                                | 1/3 [09:19<18:09, 544.66s/it]"
     ]
    },
    {
     "name": "stdout",
     "output_type": "stream",
     "text": [
      "hausdorff computation finished. Took: 0.9305975437164307 s.\n",
      "MSDM2 computation started\n",
      "Asking to calculate curvature\n"
     ]
    },
    {
     "name": "stderr",
     "output_type": "stream",
     "text": [
      " 33%|████████████████████████████████████████████████████████████████████████                                                                                                                                                | 1/3 [12:42<18:09, 544.66s/it]"
     ]
    },
    {
     "name": "stdout",
     "output_type": "stream",
     "text": [
      "Asking to calculate curvature\n",
      "Curvature warning: 2 isolated vertices were skipped.\n",
      "Asking to calculate curvature\n",
      "Asking to calculate curvature\n",
      "Curvature warning: 2 isolated vertices were skipped.\n",
      "Asking to calculate curvature\n",
      "Asking to calculate curvature\n",
      "Curvature warning: 2 isolated vertices were skipped.\n",
      "MSDM2 computation finished. Took: 203.55652809143066 s.\n",
      "Sampling points started\n",
      "Sampling points finished. Took: 0.11739897727966309 s.\n"
     ]
    },
    {
     "name": "stderr",
     "output_type": "stream",
     "text": [
      " 33%|████████████████████████████████████████████████████████████████████████                                                                                                                                                | 1/3 [12:43<18:09, 544.66s/it]"
     ]
    },
    {
     "name": "stdout",
     "output_type": "stream",
     "text": [
      "Voxelgrid conversion started\n"
     ]
    },
    {
     "name": "stderr",
     "output_type": "stream",
     "text": [
      " 33%|████████████████████████████████████████████████████████████████████████                                                                                                                                                | 1/3 [12:57<18:09, 544.66s/it]"
     ]
    },
    {
     "name": "stdout",
     "output_type": "stream",
     "text": [
      "Voxelgrid conversion finished. Took: 14.087759017944336 s.\n"
     ]
    },
    {
     "name": "stderr",
     "output_type": "stream",
     "text": [
      " 33%|████████████████████████████████████████████████████████████████████████                                                                                                                                                | 1/3 [12:58<18:09, 544.66s/it]"
     ]
    },
    {
     "name": "stdout",
     "output_type": "stream",
     "text": [
      "hausdorff computation started\n"
     ]
    },
    {
     "name": "stderr",
     "output_type": "stream",
     "text": [
      " 33%|████████████████████████████████████████████████████████████████████████                                                                                                                                                | 1/3 [13:01<18:09, 544.66s/it]"
     ]
    },
    {
     "name": "stdout",
     "output_type": "stream",
     "text": [
      "hausdorff computation finished. Took: 3.041781187057495 s.\n",
      "MSDM2 computation started\n"
     ]
    },
    {
     "name": "stderr",
     "output_type": "stream",
     "text": [
      " 67%|████████████████████████████████████████████████████████████████████████████████████████████████████████████████████████████████████████████████                                                                        | 2/3 [17:19<08:35, 515.23s/it]"
     ]
    },
    {
     "name": "stdout",
     "output_type": "stream",
     "text": [
      "Asking to calculate curvature\n",
      "Asking to calculate curvature\n",
      "Curvature warning: 122 isolated vertices were skipped.\n",
      "Asking to calculate curvature\n",
      "Asking to calculate curvature\n",
      "Curvature warning: 122 isolated vertices were skipped.\n",
      "Asking to calculate curvature\n",
      "Asking to calculate curvature\n",
      "Curvature warning: 122 isolated vertices were skipped.\n",
      "MSDM2 computation finished. Took: 257.80110931396484 s.\n"
     ]
    },
    {
     "name": "stderr",
     "output_type": "stream",
     "text": [
      " 67%|████████████████████████████████████████████████████████████████████████████████████████████████████████████████████████████████████████████████                                                                        | 2/3 [17:19<08:35, 515.23s/it]"
     ]
    },
    {
     "name": "stdout",
     "output_type": "stream",
     "text": [
      "Marching cube started\n"
     ]
    },
    {
     "name": "stderr",
     "output_type": "stream",
     "text": [
      " 67%|████████████████████████████████████████████████████████████████████████████████████████████████████████████████████████████████████████████████                                                                        | 2/3 [17:21<08:35, 515.23s/it]"
     ]
    },
    {
     "name": "stdout",
     "output_type": "stream",
     "text": [
      "Marching cube finished. Took: 1.2673156261444092 s.\n",
      "Marching cube started\n"
     ]
    },
    {
     "name": "stderr",
     "output_type": "stream",
     "text": [
      " 67%|████████████████████████████████████████████████████████████████████████████████████████████████████████████████████████████████████████████████                                                                        | 2/3 [17:22<08:35, 515.23s/it]"
     ]
    },
    {
     "name": "stdout",
     "output_type": "stream",
     "text": [
      "Marching cube finished. Took: 1.277214527130127 s.\n"
     ]
    },
    {
     "name": "stderr",
     "output_type": "stream",
     "text": [
      " 67%|████████████████████████████████████████████████████████████████████████████████████████████████████████████████████████████████████████████████                                                                        | 2/3 [17:22<08:35, 515.23s/it]"
     ]
    },
    {
     "name": "stdout",
     "output_type": "stream",
     "text": [
      "Sampling points started\n"
     ]
    },
    {
     "name": "stderr",
     "output_type": "stream",
     "text": [
      " 67%|████████████████████████████████████████████████████████████████████████████████████████████████████████████████████████████████████████████████                                                                        | 2/3 [17:23<08:35, 515.23s/it]"
     ]
    },
    {
     "name": "stdout",
     "output_type": "stream",
     "text": [
      "Sampling points finished. Took: 0.43787169456481934 s.\n"
     ]
    },
    {
     "name": "stderr",
     "output_type": "stream",
     "text": [
      " 67%|████████████████████████████████████████████████████████████████████████████████████████████████████████████████████████████████████████████████                                                                        | 2/3 [17:24<08:35, 515.23s/it]"
     ]
    },
    {
     "name": "stdout",
     "output_type": "stream",
     "text": [
      "Voxelgrid conversion started\n"
     ]
    },
    {
     "name": "stderr",
     "output_type": "stream",
     "text": [
      " 67%|████████████████████████████████████████████████████████████████████████████████████████████████████████████████████████████████████████████████                                                                        | 2/3 [17:32<08:35, 515.23s/it]"
     ]
    },
    {
     "name": "stdout",
     "output_type": "stream",
     "text": [
      "Voxelgrid conversion finished. Took: 7.959148406982422 s.\n"
     ]
    },
    {
     "name": "stderr",
     "output_type": "stream",
     "text": [
      " 67%|████████████████████████████████████████████████████████████████████████████████████████████████████████████████████████████████████████████████                                                                        | 2/3 [17:32<08:35, 515.23s/it]"
     ]
    },
    {
     "name": "stdout",
     "output_type": "stream",
     "text": [
      "hausdorff computation started\n"
     ]
    },
    {
     "name": "stderr",
     "output_type": "stream",
     "text": [
      " 67%|████████████████████████████████████████████████████████████████████████████████████████████████████████████████████████████████████████████████                                                                        | 2/3 [17:33<08:35, 515.23s/it]"
     ]
    },
    {
     "name": "stdout",
     "output_type": "stream",
     "text": [
      "hausdorff computation finished. Took: 0.8375368118286133 s.\n",
      "MSDM2 computation started\n"
     ]
    },
    {
     "name": "stderr",
     "output_type": "stream",
     "text": [
      " 67%|████████████████████████████████████████████████████████████████████████████████████████████████████████████████████████████████████████████████                                                                        | 2/3 [21:28<08:35, 515.23s/it]"
     ]
    },
    {
     "name": "stdout",
     "output_type": "stream",
     "text": [
      "Asking to calculate curvature\n",
      "Asking to calculate curvature\n",
      "Asking to calculate curvature\n",
      "Asking to calculate curvature\n",
      "Asking to calculate curvature\n",
      "Asking to calculate curvature\n",
      "MSDM2 computation finished. Took: 234.42963361740112 s.\n",
      "Sampling points started\n",
      "Sampling points finished. Took: 0.10889601707458496 s.\n"
     ]
    },
    {
     "name": "stderr",
     "output_type": "stream",
     "text": [
      " 67%|████████████████████████████████████████████████████████████████████████████████████████████████████████████████████████████████████████████████                                                                        | 2/3 [21:28<08:35, 515.23s/it]"
     ]
    },
    {
     "name": "stdout",
     "output_type": "stream",
     "text": [
      "Voxelgrid conversion started\n"
     ]
    },
    {
     "name": "stderr",
     "output_type": "stream",
     "text": [
      " 67%|████████████████████████████████████████████████████████████████████████████████████████████████████████████████████████████████████████████████                                                                        | 2/3 [21:41<08:35, 515.23s/it]"
     ]
    },
    {
     "name": "stdout",
     "output_type": "stream",
     "text": [
      "Voxelgrid conversion finished. Took: 12.866158723831177 s.\n"
     ]
    },
    {
     "name": "stderr",
     "output_type": "stream",
     "text": [
      " 67%|████████████████████████████████████████████████████████████████████████████████████████████████████████████████████████████████████████████████                                                                        | 2/3 [21:42<08:35, 515.23s/it]"
     ]
    },
    {
     "name": "stdout",
     "output_type": "stream",
     "text": [
      "hausdorff computation started\n"
     ]
    },
    {
     "name": "stderr",
     "output_type": "stream",
     "text": [
      " 67%|████████████████████████████████████████████████████████████████████████████████████████████████████████████████████████████████████████████████                                                                        | 2/3 [21:45<08:35, 515.23s/it]"
     ]
    },
    {
     "name": "stdout",
     "output_type": "stream",
     "text": [
      "hausdorff computation finished. Took: 2.862835168838501 s.\n",
      "MSDM2 computation started\n"
     ]
    },
    {
     "name": "stderr",
     "output_type": "stream",
     "text": [
      "100%|████████████████████████████████████████████████████████████████████████████████████████████████████████████████████████████████████████████████████████████████████████████████████████████████████████████████████████| 3/3 [26:25<00:00, 528.53s/it]\n"
     ]
    },
    {
     "name": "stdout",
     "output_type": "stream",
     "text": [
      "Asking to calculate curvature\n",
      "Asking to calculate curvature\n",
      "Curvature warning: 119 isolated vertices were skipped.\n",
      "Asking to calculate curvature\n",
      "Asking to calculate curvature\n",
      "Curvature warning: 119 isolated vertices were skipped.\n",
      "Asking to calculate curvature\n",
      "Asking to calculate curvature\n",
      "Curvature warning: 119 isolated vertices were skipped.\n",
      "MSDM2 computation finished. Took: 280.29998111724854 s.\n",
      "{0: {0: {'l2': tensor(2.5579), 'chamfer_distance': tensor(0.0002, dtype=torch.float64), 'IoU': tensor(0.0197), 'hausdorff': 0.11439278274698148, 'MSDM2': 0.5078940972905641}, 1: {'l2': tensor(2.5579), 'chamfer_distance': tensor(2.9616, dtype=torch.float64), 'IoU': tensor(0.0198), 'hausdorff': 1.6045921264181426, 'MSDM2': 0.6905335656956941}}, 142: {0: {'l2': tensor(3.9358), 'chamfer_distance': tensor(0.0018, dtype=torch.float64), 'IoU': tensor(0.0190), 'hausdorff': 0.27645853195711295, 'MSDM2': 0.5344690166074701}, 1: {'l2': tensor(3.9358), 'chamfer_distance': tensor(2.8665, dtype=torch.float64), 'IoU': tensor(0.0195), 'hausdorff': 1.5749365526026562, 'MSDM2': 0.6909268979075994}}, 283: {0: {'l2': tensor(2.1639), 'chamfer_distance': tensor(0.0001, dtype=torch.float64), 'IoU': tensor(0.0888), 'hausdorff': 0.09023114930174288, 'MSDM2': 0.5091351093330079}, 1: {'l2': tensor(2.1639), 'chamfer_distance': tensor(2.9336, dtype=torch.float64), 'IoU': tensor(0.0884), 'hausdorff': 1.5586706813581612, 'MSDM2': 0.6995237436889333}}}\n"
     ]
    },
    {
     "name": "stderr",
     "output_type": "stream",
     "text": [
      "  0%|                                                                                                                                                                                                                                 | 0/3 [00:00<?, ?it/s]"
     ]
    },
    {
     "name": "stdout",
     "output_type": "stream",
     "text": [
      "Marching cube started\n"
     ]
    },
    {
     "name": "stderr",
     "output_type": "stream",
     "text": [
      "  0%|                                                                                                                                                                                                                                 | 0/3 [00:01<?, ?it/s]"
     ]
    },
    {
     "name": "stdout",
     "output_type": "stream",
     "text": [
      "Marching cube finished. Took: 1.2563896179199219 s.\n",
      "Marching cube started\n"
     ]
    },
    {
     "name": "stderr",
     "output_type": "stream",
     "text": [
      "  0%|                                                                                                                                                                                                                                 | 0/3 [00:02<?, ?it/s]"
     ]
    },
    {
     "name": "stdout",
     "output_type": "stream",
     "text": [
      "Marching cube finished. Took: 1.3514530658721924 s.\n"
     ]
    },
    {
     "name": "stderr",
     "output_type": "stream",
     "text": [
      "  0%|                                                                                                                                                                                                                                 | 0/3 [00:03<?, ?it/s]"
     ]
    },
    {
     "name": "stdout",
     "output_type": "stream",
     "text": [
      "Sampling points started\n"
     ]
    },
    {
     "name": "stderr",
     "output_type": "stream",
     "text": [
      "  0%|                                                                                                                                                                                                                                 | 0/3 [00:03<?, ?it/s]"
     ]
    },
    {
     "name": "stdout",
     "output_type": "stream",
     "text": [
      "Sampling points finished. Took: 0.22075462341308594 s.\n"
     ]
    },
    {
     "name": "stderr",
     "output_type": "stream",
     "text": [
      "  0%|                                                                                                                                                                                                                                 | 0/3 [00:04<?, ?it/s]"
     ]
    },
    {
     "name": "stdout",
     "output_type": "stream",
     "text": [
      "Voxelgrid conversion started\n"
     ]
    },
    {
     "name": "stderr",
     "output_type": "stream",
     "text": [
      "  0%|                                                                                                                                                                                                                                 | 0/3 [00:11<?, ?it/s]"
     ]
    },
    {
     "name": "stdout",
     "output_type": "stream",
     "text": [
      "Voxelgrid conversion finished. Took: 7.469337463378906 s.\n"
     ]
    },
    {
     "name": "stderr",
     "output_type": "stream",
     "text": [
      "  0%|                                                                                                                                                                                                                                 | 0/3 [00:12<?, ?it/s]"
     ]
    },
    {
     "name": "stdout",
     "output_type": "stream",
     "text": [
      "hausdorff computation started\n"
     ]
    },
    {
     "name": "stderr",
     "output_type": "stream",
     "text": [
      "  0%|                                                                                                                                                                                                                                 | 0/3 [00:13<?, ?it/s]"
     ]
    },
    {
     "name": "stdout",
     "output_type": "stream",
     "text": [
      "hausdorff computation finished. Took: 0.9321160316467285 s.\n",
      "MSDM2 computation started\n"
     ]
    },
    {
     "name": "stderr",
     "output_type": "stream",
     "text": [
      "  0%|                                                                                                                                                                                                                                 | 0/3 [03:23<?, ?it/s]"
     ]
    },
    {
     "name": "stdout",
     "output_type": "stream",
     "text": [
      "Asking to calculate curvature\n",
      "Asking to calculate curvature\n",
      "Asking to calculate curvature\n",
      "Asking to calculate curvature\n",
      "Asking to calculate curvature\n",
      "Asking to calculate curvature\n",
      "MSDM2 computation finished. Took: 190.30483317375183 s.\n",
      "Sampling points started\n",
      "Sampling points finished. Took: 0.10465288162231445 s.\n"
     ]
    },
    {
     "name": "stderr",
     "output_type": "stream",
     "text": [
      "  0%|                                                                                                                                                                                                                                 | 0/3 [03:24<?, ?it/s]"
     ]
    },
    {
     "name": "stdout",
     "output_type": "stream",
     "text": [
      "Voxelgrid conversion started\n"
     ]
    },
    {
     "name": "stderr",
     "output_type": "stream",
     "text": [
      "  0%|                                                                                                                                                                                                                                 | 0/3 [03:36<?, ?it/s]"
     ]
    },
    {
     "name": "stdout",
     "output_type": "stream",
     "text": [
      "Voxelgrid conversion finished. Took: 12.04049038887024 s.\n"
     ]
    },
    {
     "name": "stderr",
     "output_type": "stream",
     "text": [
      "  0%|                                                                                                                                                                                                                                 | 0/3 [03:37<?, ?it/s]"
     ]
    },
    {
     "name": "stdout",
     "output_type": "stream",
     "text": [
      "hausdorff computation started\n"
     ]
    },
    {
     "name": "stderr",
     "output_type": "stream",
     "text": [
      "  0%|                                                                                                                                                                                                                                 | 0/3 [03:40<?, ?it/s]"
     ]
    },
    {
     "name": "stdout",
     "output_type": "stream",
     "text": [
      "hausdorff computation finished. Took: 2.8708789348602295 s.\n",
      "MSDM2 computation started\n",
      "Asking to calculate curvature\n"
     ]
    },
    {
     "name": "stderr",
     "output_type": "stream",
     "text": [
      " 33%|████████████████████████████████████████████████████████████████████████                                                                                                                                                | 1/3 [07:34<15:09, 454.58s/it]"
     ]
    },
    {
     "name": "stdout",
     "output_type": "stream",
     "text": [
      "Asking to calculate curvature\n",
      "Curvature warning: 108 isolated vertices were skipped.\n",
      "Asking to calculate curvature\n",
      "Asking to calculate curvature\n",
      "Curvature warning: 108 isolated vertices were skipped.\n",
      "Asking to calculate curvature\n",
      "Asking to calculate curvature\n",
      "Curvature warning: 108 isolated vertices were skipped.\n",
      "MSDM2 computation finished. Took: 234.277569770813 s.\n"
     ]
    },
    {
     "name": "stderr",
     "output_type": "stream",
     "text": [
      " 33%|████████████████████████████████████████████████████████████████████████                                                                                                                                                | 1/3 [07:34<15:09, 454.58s/it]"
     ]
    },
    {
     "name": "stdout",
     "output_type": "stream",
     "text": [
      "Marching cube started\n"
     ]
    },
    {
     "name": "stderr",
     "output_type": "stream",
     "text": [
      " 33%|████████████████████████████████████████████████████████████████████████                                                                                                                                                | 1/3 [07:36<15:09, 454.58s/it]"
     ]
    },
    {
     "name": "stdout",
     "output_type": "stream",
     "text": [
      "Marching cube finished. Took: 1.2499029636383057 s.\n",
      "Marching cube started\n"
     ]
    },
    {
     "name": "stderr",
     "output_type": "stream",
     "text": [
      " 33%|████████████████████████████████████████████████████████████████████████                                                                                                                                                | 1/3 [07:37<15:09, 454.58s/it]"
     ]
    },
    {
     "name": "stdout",
     "output_type": "stream",
     "text": [
      "Marching cube finished. Took: 1.2850909233093262 s.\n"
     ]
    },
    {
     "name": "stderr",
     "output_type": "stream",
     "text": [
      " 33%|████████████████████████████████████████████████████████████████████████                                                                                                                                                | 1/3 [07:38<15:09, 454.58s/it]"
     ]
    },
    {
     "name": "stdout",
     "output_type": "stream",
     "text": [
      "Sampling points started\n"
     ]
    },
    {
     "name": "stderr",
     "output_type": "stream",
     "text": [
      " 33%|████████████████████████████████████████████████████████████████████████                                                                                                                                                | 1/3 [07:38<15:09, 454.58s/it]"
     ]
    },
    {
     "name": "stdout",
     "output_type": "stream",
     "text": [
      "Sampling points finished. Took: 0.593367338180542 s.\n"
     ]
    },
    {
     "name": "stderr",
     "output_type": "stream",
     "text": [
      " 33%|████████████████████████████████████████████████████████████████████████                                                                                                                                                | 1/3 [07:39<15:09, 454.58s/it]"
     ]
    },
    {
     "name": "stdout",
     "output_type": "stream",
     "text": [
      "Voxelgrid conversion started\n"
     ]
    },
    {
     "name": "stderr",
     "output_type": "stream",
     "text": [
      " 33%|████████████████████████████████████████████████████████████████████████                                                                                                                                                | 1/3 [07:47<15:09, 454.58s/it]"
     ]
    },
    {
     "name": "stdout",
     "output_type": "stream",
     "text": [
      "Voxelgrid conversion finished. Took: 8.326473712921143 s.\n"
     ]
    },
    {
     "name": "stderr",
     "output_type": "stream",
     "text": [
      " 33%|████████████████████████████████████████████████████████████████████████                                                                                                                                                | 1/3 [07:48<15:09, 454.58s/it]"
     ]
    },
    {
     "name": "stdout",
     "output_type": "stream",
     "text": [
      "hausdorff computation started\n"
     ]
    },
    {
     "name": "stderr",
     "output_type": "stream",
     "text": [
      " 33%|████████████████████████████████████████████████████████████████████████                                                                                                                                                | 1/3 [07:49<15:09, 454.58s/it]"
     ]
    },
    {
     "name": "stdout",
     "output_type": "stream",
     "text": [
      "hausdorff computation finished. Took: 1.3761606216430664 s.\n",
      "MSDM2 computation started\n",
      "Asking to calculate curvature\n",
      "Asking to calculate curvature\n",
      "Curvature warning: 2 isolated vertices were skipped.\n",
      "Asking to calculate curvature\n",
      "Asking to calculate curvature\n",
      "Curvature warning: 2 isolated vertices were skipped.\n",
      "Asking to calculate curvature\n",
      "Asking to calculate curvature\n",
      "Curvature warning: 2 isolated vertices were skipped.\n"
     ]
    },
    {
     "name": "stderr",
     "output_type": "stream",
     "text": [
      " 33%|████████████████████████████████████████████████████████████████████████                                                                                                                                                | 1/3 [10:04<15:09, 454.58s/it]"
     ]
    },
    {
     "name": "stdout",
     "output_type": "stream",
     "text": [
      "MSDM2 computation finished. Took: 134.60089826583862 s.\n",
      "Sampling points started\n",
      "Sampling points finished. Took: 0.10599970817565918 s.\n"
     ]
    },
    {
     "name": "stderr",
     "output_type": "stream",
     "text": [
      " 33%|████████████████████████████████████████████████████████████████████████                                                                                                                                                | 1/3 [10:05<15:09, 454.58s/it]"
     ]
    },
    {
     "name": "stdout",
     "output_type": "stream",
     "text": [
      "Voxelgrid conversion started\n"
     ]
    },
    {
     "name": "stderr",
     "output_type": "stream",
     "text": [
      " 33%|████████████████████████████████████████████████████████████████████████                                                                                                                                                | 1/3 [10:19<15:09, 454.58s/it]"
     ]
    },
    {
     "name": "stdout",
     "output_type": "stream",
     "text": [
      "Voxelgrid conversion finished. Took: 14.10431957244873 s.\n"
     ]
    },
    {
     "name": "stderr",
     "output_type": "stream",
     "text": [
      " 33%|████████████████████████████████████████████████████████████████████████                                                                                                                                                | 1/3 [10:20<15:09, 454.58s/it]"
     ]
    },
    {
     "name": "stdout",
     "output_type": "stream",
     "text": [
      "hausdorff computation started\n"
     ]
    },
    {
     "name": "stderr",
     "output_type": "stream",
     "text": [
      " 33%|████████████████████████████████████████████████████████████████████████                                                                                                                                                | 1/3 [10:22<15:09, 454.58s/it]"
     ]
    },
    {
     "name": "stdout",
     "output_type": "stream",
     "text": [
      "hausdorff computation finished. Took: 2.654151201248169 s.\n",
      "MSDM2 computation started\n",
      "Asking to calculate curvature\n",
      "Asking to calculate curvature\n",
      "Curvature warning: 122 isolated vertices were skipped.\n",
      "Asking to calculate curvature\n",
      "Asking to calculate curvature\n",
      "Curvature warning: 122 isolated vertices were skipped.\n",
      "Asking to calculate curvature\n",
      "Asking to calculate curvature\n",
      "Curvature warning: 122 isolated vertices were skipped.\n"
     ]
    },
    {
     "name": "stderr",
     "output_type": "stream",
     "text": [
      " 67%|████████████████████████████████████████████████████████████████████████████████████████████████████████████████████████████████████████████████                                                                        | 2/3 [13:07<06:22, 382.75s/it]"
     ]
    },
    {
     "name": "stdout",
     "output_type": "stream",
     "text": [
      "MSDM2 computation finished. Took: 164.32462072372437 s.\n"
     ]
    },
    {
     "name": "stderr",
     "output_type": "stream",
     "text": [
      " 67%|████████████████████████████████████████████████████████████████████████████████████████████████████████████████████████████████████████████████                                                                        | 2/3 [13:07<06:22, 382.75s/it]"
     ]
    },
    {
     "name": "stdout",
     "output_type": "stream",
     "text": [
      "Marching cube started\n"
     ]
    },
    {
     "name": "stderr",
     "output_type": "stream",
     "text": [
      " 67%|████████████████████████████████████████████████████████████████████████████████████████████████████████████████████████████████████████████████                                                                        | 2/3 [13:08<06:22, 382.75s/it]"
     ]
    },
    {
     "name": "stdout",
     "output_type": "stream",
     "text": [
      "Marching cube finished. Took: 1.3245813846588135 s.\n",
      "Marching cube started\n"
     ]
    },
    {
     "name": "stderr",
     "output_type": "stream",
     "text": [
      " 67%|████████████████████████████████████████████████████████████████████████████████████████████████████████████████████████████████████████████████                                                                        | 2/3 [13:10<06:22, 382.75s/it]"
     ]
    },
    {
     "name": "stdout",
     "output_type": "stream",
     "text": [
      "Marching cube finished. Took: 1.283576250076294 s.\n"
     ]
    },
    {
     "name": "stderr",
     "output_type": "stream",
     "text": [
      " 67%|████████████████████████████████████████████████████████████████████████████████████████████████████████████████████████████████████████████████                                                                        | 2/3 [13:10<06:22, 382.75s/it]"
     ]
    },
    {
     "name": "stdout",
     "output_type": "stream",
     "text": [
      "Sampling points started\n",
      "Sampling points finished. Took: 0.13433837890625 s.\n"
     ]
    },
    {
     "name": "stderr",
     "output_type": "stream",
     "text": [
      " 67%|████████████████████████████████████████████████████████████████████████████████████████████████████████████████████████████████████████████████                                                                        | 2/3 [13:11<06:22, 382.75s/it]"
     ]
    },
    {
     "name": "stdout",
     "output_type": "stream",
     "text": [
      "Voxelgrid conversion started\n"
     ]
    },
    {
     "name": "stderr",
     "output_type": "stream",
     "text": [
      " 67%|████████████████████████████████████████████████████████████████████████████████████████████████████████████████████████████████████████████████                                                                        | 2/3 [13:18<06:22, 382.75s/it]"
     ]
    },
    {
     "name": "stdout",
     "output_type": "stream",
     "text": [
      "Voxelgrid conversion finished. Took: 7.260039567947388 s.\n"
     ]
    },
    {
     "name": "stderr",
     "output_type": "stream",
     "text": [
      " 67%|████████████████████████████████████████████████████████████████████████████████████████████████████████████████████████████████████████████████                                                                        | 2/3 [13:19<06:22, 382.75s/it]"
     ]
    },
    {
     "name": "stdout",
     "output_type": "stream",
     "text": [
      "hausdorff computation started\n"
     ]
    },
    {
     "name": "stderr",
     "output_type": "stream",
     "text": [
      " 67%|████████████████████████████████████████████████████████████████████████████████████████████████████████████████████████████████████████████████                                                                        | 2/3 [13:20<06:22, 382.75s/it]"
     ]
    },
    {
     "name": "stdout",
     "output_type": "stream",
     "text": [
      "hausdorff computation finished. Took: 0.96484375 s.\n",
      "MSDM2 computation started\n",
      "Asking to calculate curvature\n",
      "Asking to calculate curvature\n",
      "Asking to calculate curvature\n",
      "Asking to calculate curvature\n",
      "Asking to calculate curvature\n",
      "Asking to calculate curvature\n"
     ]
    },
    {
     "name": "stderr",
     "output_type": "stream",
     "text": [
      " 67%|████████████████████████████████████████████████████████████████████████████████████████████████████████████████████████████████████████████████                                                                        | 2/3 [16:32<06:22, 382.75s/it]"
     ]
    },
    {
     "name": "stdout",
     "output_type": "stream",
     "text": [
      "MSDM2 computation finished. Took: 192.0956358909607 s.\n",
      "Sampling points started\n",
      "Sampling points finished. Took: 0.10286736488342285 s.\n"
     ]
    },
    {
     "name": "stderr",
     "output_type": "stream",
     "text": [
      " 67%|████████████████████████████████████████████████████████████████████████████████████████████████████████████████████████████████████████████████                                                                        | 2/3 [16:33<06:22, 382.75s/it]"
     ]
    },
    {
     "name": "stdout",
     "output_type": "stream",
     "text": [
      "Voxelgrid conversion started\n"
     ]
    },
    {
     "name": "stderr",
     "output_type": "stream",
     "text": [
      " 67%|████████████████████████████████████████████████████████████████████████████████████████████████████████████████████████████████████████████████                                                                        | 2/3 [16:45<06:22, 382.75s/it]"
     ]
    },
    {
     "name": "stdout",
     "output_type": "stream",
     "text": [
      "Voxelgrid conversion finished. Took: 11.82484483718872 s.\n"
     ]
    },
    {
     "name": "stderr",
     "output_type": "stream",
     "text": [
      " 67%|████████████████████████████████████████████████████████████████████████████████████████████████████████████████████████████████████████████████                                                                        | 2/3 [16:45<06:22, 382.75s/it]"
     ]
    },
    {
     "name": "stdout",
     "output_type": "stream",
     "text": [
      "hausdorff computation started\n"
     ]
    },
    {
     "name": "stderr",
     "output_type": "stream",
     "text": [
      " 67%|████████████████████████████████████████████████████████████████████████████████████████████████████████████████████████████████████████████████                                                                        | 2/3 [16:48<06:22, 382.75s/it]"
     ]
    },
    {
     "name": "stdout",
     "output_type": "stream",
     "text": [
      "hausdorff computation finished. Took: 2.7048373222351074 s.\n",
      "MSDM2 computation started\n",
      "Asking to calculate curvature\n",
      "Asking to calculate curvature\n",
      "Curvature warning: 119 isolated vertices were skipped.\n",
      "Asking to calculate curvature\n",
      "Asking to calculate curvature\n",
      "Curvature warning: 119 isolated vertices were skipped.\n",
      "Asking to calculate curvature\n",
      "Asking to calculate curvature\n",
      "Curvature warning: 119 isolated vertices were skipped.\n"
     ]
    },
    {
     "name": "stderr",
     "output_type": "stream",
     "text": [
      "100%|████████████████████████████████████████████████████████████████████████████████████████████████████████████████████████████████████████████████████████████████████████████████████████████████████████████████████████| 3/3 [20:33<00:00, 411.24s/it]\n"
     ]
    },
    {
     "name": "stdout",
     "output_type": "stream",
     "text": [
      "MSDM2 computation finished. Took: 225.0931522846222 s.\n",
      "{0: {0: {'l2': tensor(4.5958), 'chamfer_distance': tensor(0.0050, dtype=torch.float64), 'IoU': tensor(0.0072), 'hausdorff': 0.31632928163324975, 'MSDM2': 0.6058289459423865}, 1: {'l2': tensor(4.5958), 'chamfer_distance': tensor(3.0379, dtype=torch.float64), 'IoU': tensor(0.0071), 'hausdorff': 1.6065460509478946, 'MSDM2': 0.6889849734077952}}, 142: {0: {'l2': tensor(7.1555), 'chamfer_distance': tensor(0.0162, dtype=torch.float64), 'IoU': tensor(0.0063), 'hausdorff': 0.4658646669072799, 'MSDM2': 0.6623216665013728}, 1: {'l2': tensor(7.1555), 'chamfer_distance': tensor(2.8484, dtype=torch.float64), 'IoU': tensor(0.0063), 'hausdorff': 1.5746650834906832, 'MSDM2': 0.6982646381697549}}, 283: {0: {'l2': tensor(4.5229), 'chamfer_distance': tensor(0.0045, dtype=torch.float64), 'IoU': tensor(0.0090), 'hausdorff': 0.31024329537564466, 'MSDM2': 0.6108047689440207}, 1: {'l2': tensor(4.5229), 'chamfer_distance': tensor(3.0075, dtype=torch.float64), 'IoU': tensor(0.0091), 'hausdorff': 1.564548570085044, 'MSDM2': 0.6873954399364618}}}\n"
     ]
    },
    {
     "name": "stderr",
     "output_type": "stream",
     "text": [
      "  0%|                                                                                                                                                                                                                                 | 0/3 [00:00<?, ?it/s]"
     ]
    },
    {
     "name": "stdout",
     "output_type": "stream",
     "text": [
      "Marching cube started\n"
     ]
    },
    {
     "name": "stderr",
     "output_type": "stream",
     "text": [
      "  0%|                                                                                                                                                                                                                                 | 0/3 [00:01<?, ?it/s]"
     ]
    },
    {
     "name": "stdout",
     "output_type": "stream",
     "text": [
      "Marching cube finished. Took: 1.249830961227417 s.\n",
      "Marching cube started\n"
     ]
    },
    {
     "name": "stderr",
     "output_type": "stream",
     "text": [
      "  0%|                                                                                                                                                                                                                                 | 0/3 [00:02<?, ?it/s]"
     ]
    },
    {
     "name": "stdout",
     "output_type": "stream",
     "text": [
      "Marching cube finished. Took: 1.275620698928833 s.\n"
     ]
    },
    {
     "name": "stderr",
     "output_type": "stream",
     "text": [
      "  0%|                                                                                                                                                                                                                                 | 0/3 [00:03<?, ?it/s]"
     ]
    },
    {
     "name": "stdout",
     "output_type": "stream",
     "text": [
      "Sampling points started\n",
      "Sampling points finished. Took: 0.126326322555542 s.\n"
     ]
    },
    {
     "name": "stderr",
     "output_type": "stream",
     "text": [
      "  0%|                                                                                                                                                                                                                                 | 0/3 [00:04<?, ?it/s]"
     ]
    },
    {
     "name": "stdout",
     "output_type": "stream",
     "text": [
      "Voxelgrid conversion started\n"
     ]
    },
    {
     "name": "stderr",
     "output_type": "stream",
     "text": [
      "  0%|                                                                                                                                                                                                                                 | 0/3 [00:11<?, ?it/s]"
     ]
    },
    {
     "name": "stdout",
     "output_type": "stream",
     "text": [
      "Voxelgrid conversion finished. Took: 6.896918296813965 s.\n"
     ]
    },
    {
     "name": "stderr",
     "output_type": "stream",
     "text": [
      "  0%|                                                                                                                                                                                                                                 | 0/3 [00:11<?, ?it/s]"
     ]
    },
    {
     "name": "stdout",
     "output_type": "stream",
     "text": [
      "hausdorff computation started\n"
     ]
    },
    {
     "name": "stderr",
     "output_type": "stream",
     "text": [
      "  0%|                                                                                                                                                                                                                                 | 0/3 [00:12<?, ?it/s]"
     ]
    },
    {
     "name": "stdout",
     "output_type": "stream",
     "text": [
      "hausdorff computation finished. Took: 1.072509527206421 s.\n",
      "MSDM2 computation started\n",
      "Asking to calculate curvature\n"
     ]
    },
    {
     "name": "stderr",
     "output_type": "stream",
     "text": [
      "  0%|                                                                                                                                                                                                                                 | 0/3 [02:53<?, ?it/s]"
     ]
    },
    {
     "name": "stdout",
     "output_type": "stream",
     "text": [
      "Asking to calculate curvature\n",
      "Asking to calculate curvature\n",
      "Asking to calculate curvature\n",
      "Asking to calculate curvature\n",
      "Asking to calculate curvature\n",
      "MSDM2 computation finished. Took: 160.59695887565613 s.\n",
      "Sampling points started\n",
      "Sampling points finished. Took: 0.09870791435241699 s.\n"
     ]
    },
    {
     "name": "stderr",
     "output_type": "stream",
     "text": [
      "  0%|                                                                                                                                                                                                                                 | 0/3 [02:54<?, ?it/s]"
     ]
    },
    {
     "name": "stdout",
     "output_type": "stream",
     "text": [
      "Voxelgrid conversion started\n"
     ]
    },
    {
     "name": "stderr",
     "output_type": "stream",
     "text": [
      "  0%|                                                                                                                                                                                                                                 | 0/3 [03:06<?, ?it/s]"
     ]
    },
    {
     "name": "stdout",
     "output_type": "stream",
     "text": [
      "Voxelgrid conversion finished. Took: 11.69854187965393 s.\n"
     ]
    },
    {
     "name": "stderr",
     "output_type": "stream",
     "text": [
      "  0%|                                                                                                                                                                                                                                 | 0/3 [03:06<?, ?it/s]"
     ]
    },
    {
     "name": "stdout",
     "output_type": "stream",
     "text": [
      "hausdorff computation started\n"
     ]
    },
    {
     "name": "stderr",
     "output_type": "stream",
     "text": [
      "  0%|                                                                                                                                                                                                                                 | 0/3 [03:09<?, ?it/s]"
     ]
    },
    {
     "name": "stdout",
     "output_type": "stream",
     "text": [
      "hausdorff computation finished. Took: 2.8416314125061035 s.\n",
      "MSDM2 computation started\n"
     ]
    },
    {
     "name": "stderr",
     "output_type": "stream",
     "text": [
      " 33%|████████████████████████████████████████████████████████████████████████                                                                                                                                                | 1/3 [06:24<12:49, 384.93s/it]"
     ]
    },
    {
     "name": "stdout",
     "output_type": "stream",
     "text": [
      "Asking to calculate curvature\n",
      "Asking to calculate curvature\n",
      "Curvature warning: 108 isolated vertices were skipped.\n",
      "Asking to calculate curvature\n",
      "Asking to calculate curvature\n",
      "Curvature warning: 108 isolated vertices were skipped.\n",
      "Asking to calculate curvature\n",
      "Asking to calculate curvature\n",
      "Curvature warning: 108 isolated vertices were skipped.\n",
      "MSDM2 computation finished. Took: 195.26401162147522 s.\n"
     ]
    },
    {
     "name": "stderr",
     "output_type": "stream",
     "text": [
      " 33%|████████████████████████████████████████████████████████████████████████                                                                                                                                                | 1/3 [06:25<12:49, 384.93s/it]"
     ]
    },
    {
     "name": "stdout",
     "output_type": "stream",
     "text": [
      "Marching cube started\n"
     ]
    },
    {
     "name": "stderr",
     "output_type": "stream",
     "text": [
      " 33%|████████████████████████████████████████████████████████████████████████                                                                                                                                                | 1/3 [06:26<12:49, 384.93s/it]"
     ]
    },
    {
     "name": "stdout",
     "output_type": "stream",
     "text": [
      "Marching cube finished. Took: 1.243816614151001 s.\n",
      "Marching cube started\n"
     ]
    },
    {
     "name": "stderr",
     "output_type": "stream",
     "text": [
      " 33%|████████████████████████████████████████████████████████████████████████                                                                                                                                                | 1/3 [06:27<12:49, 384.93s/it]"
     ]
    },
    {
     "name": "stdout",
     "output_type": "stream",
     "text": [
      "Marching cube finished. Took: 1.2774717807769775 s.\n"
     ]
    },
    {
     "name": "stderr",
     "output_type": "stream",
     "text": [
      " 33%|████████████████████████████████████████████████████████████████████████                                                                                                                                                | 1/3 [06:28<12:49, 384.93s/it]"
     ]
    },
    {
     "name": "stdout",
     "output_type": "stream",
     "text": [
      "Sampling points started\n",
      "Sampling points finished. Took: 0.12218165397644043 s.\n"
     ]
    },
    {
     "name": "stderr",
     "output_type": "stream",
     "text": [
      " 33%|████████████████████████████████████████████████████████████████████████                                                                                                                                                | 1/3 [06:29<12:49, 384.93s/it]"
     ]
    },
    {
     "name": "stdout",
     "output_type": "stream",
     "text": [
      "Voxelgrid conversion started\n"
     ]
    },
    {
     "name": "stderr",
     "output_type": "stream",
     "text": [
      " 33%|████████████████████████████████████████████████████████████████████████                                                                                                                                                | 1/3 [06:36<12:49, 384.93s/it]"
     ]
    },
    {
     "name": "stdout",
     "output_type": "stream",
     "text": [
      "Voxelgrid conversion finished. Took: 7.471673011779785 s.\n"
     ]
    },
    {
     "name": "stderr",
     "output_type": "stream",
     "text": [
      " 33%|████████████████████████████████████████████████████████████████████████                                                                                                                                                | 1/3 [06:37<12:49, 384.93s/it]"
     ]
    },
    {
     "name": "stdout",
     "output_type": "stream",
     "text": [
      "hausdorff computation started\n"
     ]
    },
    {
     "name": "stderr",
     "output_type": "stream",
     "text": [
      " 33%|████████████████████████████████████████████████████████████████████████                                                                                                                                                | 1/3 [06:38<12:49, 384.93s/it]"
     ]
    },
    {
     "name": "stdout",
     "output_type": "stream",
     "text": [
      "hausdorff computation finished. Took: 1.3899266719818115 s.\n",
      "MSDM2 computation started\n",
      "Asking to calculate curvature\n"
     ]
    },
    {
     "name": "stderr",
     "output_type": "stream",
     "text": [
      " 33%|████████████████████████████████████████████████████████████████████████                                                                                                                                                | 1/3 [08:24<12:49, 384.93s/it]"
     ]
    },
    {
     "name": "stdout",
     "output_type": "stream",
     "text": [
      "Asking to calculate curvature\n",
      "Curvature warning: 2 isolated vertices were skipped.\n",
      "Asking to calculate curvature\n",
      "Asking to calculate curvature\n",
      "Curvature warning: 2 isolated vertices were skipped.\n",
      "Asking to calculate curvature\n",
      "Asking to calculate curvature\n",
      "Curvature warning: 2 isolated vertices were skipped.\n",
      "MSDM2 computation finished. Took: 105.19761633872986 s.\n",
      "Sampling points started\n",
      "Sampling points finished. Took: 0.10213637351989746 s.\n"
     ]
    },
    {
     "name": "stderr",
     "output_type": "stream",
     "text": [
      " 33%|████████████████████████████████████████████████████████████████████████                                                                                                                                                | 1/3 [08:24<12:49, 384.93s/it]"
     ]
    },
    {
     "name": "stdout",
     "output_type": "stream",
     "text": [
      "Voxelgrid conversion started\n"
     ]
    },
    {
     "name": "stderr",
     "output_type": "stream",
     "text": [
      " 33%|████████████████████████████████████████████████████████████████████████                                                                                                                                                | 1/3 [08:38<12:49, 384.93s/it]"
     ]
    },
    {
     "name": "stdout",
     "output_type": "stream",
     "text": [
      "Voxelgrid conversion finished. Took: 13.532083749771118 s.\n"
     ]
    },
    {
     "name": "stderr",
     "output_type": "stream",
     "text": [
      " 33%|████████████████████████████████████████████████████████████████████████                                                                                                                                                | 1/3 [08:39<12:49, 384.93s/it]"
     ]
    },
    {
     "name": "stdout",
     "output_type": "stream",
     "text": [
      "hausdorff computation started\n"
     ]
    },
    {
     "name": "stderr",
     "output_type": "stream",
     "text": [
      " 33%|████████████████████████████████████████████████████████████████████████                                                                                                                                                | 1/3 [08:41<12:49, 384.93s/it]"
     ]
    },
    {
     "name": "stdout",
     "output_type": "stream",
     "text": [
      "hausdorff computation finished. Took: 2.5350704193115234 s.\n",
      "MSDM2 computation started\n",
      "Asking to calculate curvature\n"
     ]
    },
    {
     "name": "stderr",
     "output_type": "stream",
     "text": [
      " 67%|████████████████████████████████████████████████████████████████████████████████████████████████████████████████████████████████████████████████                                                                        | 2/3 [10:50<05:14, 314.91s/it]"
     ]
    },
    {
     "name": "stdout",
     "output_type": "stream",
     "text": [
      "Asking to calculate curvature\n",
      "Curvature warning: 122 isolated vertices were skipped.\n",
      "Asking to calculate curvature\n",
      "Asking to calculate curvature\n",
      "Curvature warning: 122 isolated vertices were skipped.\n",
      "Asking to calculate curvature\n",
      "Asking to calculate curvature\n",
      "Curvature warning: 122 isolated vertices were skipped.\n",
      "MSDM2 computation finished. Took: 129.12805461883545 s.\n"
     ]
    },
    {
     "name": "stderr",
     "output_type": "stream",
     "text": [
      " 67%|████████████████████████████████████████████████████████████████████████████████████████████████████████████████████████████████████████████████                                                                        | 2/3 [10:51<05:14, 314.91s/it]"
     ]
    },
    {
     "name": "stdout",
     "output_type": "stream",
     "text": [
      "Marching cube started\n"
     ]
    },
    {
     "name": "stderr",
     "output_type": "stream",
     "text": [
      " 67%|████████████████████████████████████████████████████████████████████████████████████████████████████████████████████████████████████████████████                                                                        | 2/3 [10:52<05:14, 314.91s/it]"
     ]
    },
    {
     "name": "stdout",
     "output_type": "stream",
     "text": [
      "Marching cube finished. Took: 1.2495827674865723 s.\n",
      "Marching cube started\n"
     ]
    },
    {
     "name": "stderr",
     "output_type": "stream",
     "text": [
      " 67%|████████████████████████████████████████████████████████████████████████████████████████████████████████████████████████████████████████████████                                                                        | 2/3 [10:53<05:14, 314.91s/it]"
     ]
    },
    {
     "name": "stdout",
     "output_type": "stream",
     "text": [
      "Marching cube finished. Took: 1.276878833770752 s.\n"
     ]
    },
    {
     "name": "stderr",
     "output_type": "stream",
     "text": [
      " 67%|████████████████████████████████████████████████████████████████████████████████████████████████████████████████████████████████████████████████                                                                        | 2/3 [10:54<05:14, 314.91s/it]"
     ]
    },
    {
     "name": "stdout",
     "output_type": "stream",
     "text": [
      "Sampling points started\n",
      "Sampling points finished. Took: 0.12748122215270996 s.\n"
     ]
    },
    {
     "name": "stderr",
     "output_type": "stream",
     "text": [
      " 67%|████████████████████████████████████████████████████████████████████████████████████████████████████████████████████████████████████████████████                                                                        | 2/3 [10:55<05:14, 314.91s/it]"
     ]
    },
    {
     "name": "stdout",
     "output_type": "stream",
     "text": [
      "Voxelgrid conversion started\n"
     ]
    },
    {
     "name": "stderr",
     "output_type": "stream",
     "text": [
      " 67%|████████████████████████████████████████████████████████████████████████████████████████████████████████████████████████████████████████████████                                                                        | 2/3 [11:02<05:14, 314.91s/it]"
     ]
    },
    {
     "name": "stdout",
     "output_type": "stream",
     "text": [
      "Voxelgrid conversion finished. Took: 7.015540361404419 s.\n"
     ]
    },
    {
     "name": "stderr",
     "output_type": "stream",
     "text": [
      " 67%|████████████████████████████████████████████████████████████████████████████████████████████████████████████████████████████████████████████████                                                                        | 2/3 [11:02<05:14, 314.91s/it]"
     ]
    },
    {
     "name": "stdout",
     "output_type": "stream",
     "text": [
      "hausdorff computation started\n"
     ]
    },
    {
     "name": "stderr",
     "output_type": "stream",
     "text": [
      " 67%|████████████████████████████████████████████████████████████████████████████████████████████████████████████████████████████████████████████████                                                                        | 2/3 [11:03<05:14, 314.91s/it]"
     ]
    },
    {
     "name": "stdout",
     "output_type": "stream",
     "text": [
      "hausdorff computation finished. Took: 1.0721008777618408 s.\n",
      "MSDM2 computation started\n"
     ]
    },
    {
     "name": "stderr",
     "output_type": "stream",
     "text": [
      " 67%|████████████████████████████████████████████████████████████████████████████████████████████████████████████████████████████████████████████████                                                                        | 2/3 [13:45<05:14, 314.91s/it]"
     ]
    },
    {
     "name": "stdout",
     "output_type": "stream",
     "text": [
      "Asking to calculate curvature\n",
      "Asking to calculate curvature\n",
      "Asking to calculate curvature\n",
      "Asking to calculate curvature\n",
      "Asking to calculate curvature\n",
      "Asking to calculate curvature\n",
      "MSDM2 computation finished. Took: 161.56121635437012 s.\n",
      "Sampling points started\n",
      "Sampling points finished. Took: 0.10255241394042969 s.\n"
     ]
    },
    {
     "name": "stderr",
     "output_type": "stream",
     "text": [
      " 67%|████████████████████████████████████████████████████████████████████████████████████████████████████████████████████████████████████████████████                                                                        | 2/3 [13:46<05:14, 314.91s/it]"
     ]
    },
    {
     "name": "stdout",
     "output_type": "stream",
     "text": [
      "Voxelgrid conversion started\n"
     ]
    },
    {
     "name": "stderr",
     "output_type": "stream",
     "text": [
      " 67%|████████████████████████████████████████████████████████████████████████████████████████████████████████████████████████████████████████████████                                                                        | 2/3 [13:58<05:14, 314.91s/it]"
     ]
    },
    {
     "name": "stdout",
     "output_type": "stream",
     "text": [
      "Voxelgrid conversion finished. Took: 12.045145750045776 s.\n"
     ]
    },
    {
     "name": "stderr",
     "output_type": "stream",
     "text": [
      " 67%|████████████████████████████████████████████████████████████████████████████████████████████████████████████████████████████████████████████████                                                                        | 2/3 [13:59<05:14, 314.91s/it]"
     ]
    },
    {
     "name": "stdout",
     "output_type": "stream",
     "text": [
      "hausdorff computation started\n"
     ]
    },
    {
     "name": "stderr",
     "output_type": "stream",
     "text": [
      " 67%|████████████████████████████████████████████████████████████████████████████████████████████████████████████████████████████████████████████████                                                                        | 2/3 [14:01<05:14, 314.91s/it]"
     ]
    },
    {
     "name": "stdout",
     "output_type": "stream",
     "text": [
      "hausdorff computation finished. Took: 2.7552671432495117 s.\n",
      "MSDM2 computation started\n",
      "Asking to calculate curvature\n"
     ]
    },
    {
     "name": "stderr",
     "output_type": "stream",
     "text": [
      "100%|████████████████████████████████████████████████████████████████████████████████████████████████████████████████████████████████████████████████████████████████████████████████████████████████████████████████████████| 3/3 [17:11<00:00, 343.74s/it]\n"
     ]
    },
    {
     "name": "stdout",
     "output_type": "stream",
     "text": [
      "Asking to calculate curvature\n",
      "Curvature warning: 119 isolated vertices were skipped.\n",
      "Asking to calculate curvature\n",
      "Asking to calculate curvature\n",
      "Curvature warning: 119 isolated vertices were skipped.\n",
      "Asking to calculate curvature\n",
      "Asking to calculate curvature\n",
      "Curvature warning: 119 isolated vertices were skipped.\n",
      "MSDM2 computation finished. Took: 189.43772888183594 s.\n",
      "{0: {0: {'l2': tensor(5.9699), 'chamfer_distance': tensor(0.0068, dtype=torch.float64), 'IoU': tensor(0.0066), 'hausdorff': 0.3215357011396724, 'MSDM2': 0.6635646391093238}, 1: {'l2': tensor(5.9699), 'chamfer_distance': tensor(3.0476, dtype=torch.float64), 'IoU': tensor(0.0065), 'hausdorff': 1.6025907606599554, 'MSDM2': 0.6908112591506209}}, 142: {0: {'l2': tensor(7.9865), 'chamfer_distance': tensor(0.0184, dtype=torch.float64), 'IoU': tensor(0.0062), 'hausdorff': 0.490564038800436, 'MSDM2': 0.7219107563716995}, 1: {'l2': tensor(7.9865), 'chamfer_distance': tensor(2.8590, dtype=torch.float64), 'IoU': tensor(0.0064), 'hausdorff': 1.5770748104843424, 'MSDM2': 0.6972962375014448}}, 283: {0: {'l2': tensor(6.0697), 'chamfer_distance': tensor(0.0064, dtype=torch.float64), 'IoU': tensor(0.0092), 'hausdorff': 0.3054778987279089, 'MSDM2': 0.6675927075804483}, 1: {'l2': tensor(6.0697), 'chamfer_distance': tensor(3.0075, dtype=torch.float64), 'IoU': tensor(0.0093), 'hausdorff': 1.5641375496904055, 'MSDM2': 0.6799387539499598}}}\n"
     ]
    },
    {
     "name": "stderr",
     "output_type": "stream",
     "text": [
      "  0%|                                                                                                                                                                                                                                 | 0/3 [00:00<?, ?it/s]"
     ]
    },
    {
     "name": "stdout",
     "output_type": "stream",
     "text": [
      "Marching cube started\n"
     ]
    },
    {
     "name": "stderr",
     "output_type": "stream",
     "text": [
      "  0%|                                                                                                                                                                                                                                 | 0/3 [00:01<?, ?it/s]"
     ]
    },
    {
     "name": "stdout",
     "output_type": "stream",
     "text": [
      "Marching cube finished. Took: 1.2475101947784424 s.\n",
      "Marching cube started\n"
     ]
    },
    {
     "name": "stderr",
     "output_type": "stream",
     "text": [
      "  0%|                                                                                                                                                                                                                                 | 0/3 [00:02<?, ?it/s]"
     ]
    },
    {
     "name": "stdout",
     "output_type": "stream",
     "text": [
      "Marching cube finished. Took: 1.2724339962005615 s.\n"
     ]
    },
    {
     "name": "stderr",
     "output_type": "stream",
     "text": [
      "  0%|                                                                                                                                                                                                                                 | 0/3 [00:03<?, ?it/s]"
     ]
    },
    {
     "name": "stdout",
     "output_type": "stream",
     "text": [
      "Sampling points started\n",
      "Sampling points finished. Took: 0.12595319747924805 s.\n"
     ]
    },
    {
     "name": "stderr",
     "output_type": "stream",
     "text": [
      "  0%|                                                                                                                                                                                                                                 | 0/3 [00:04<?, ?it/s]"
     ]
    },
    {
     "name": "stdout",
     "output_type": "stream",
     "text": [
      "Voxelgrid conversion started\n"
     ]
    },
    {
     "name": "stderr",
     "output_type": "stream",
     "text": [
      "  0%|                                                                                                                                                                                                                                 | 0/3 [00:11<?, ?it/s]"
     ]
    },
    {
     "name": "stdout",
     "output_type": "stream",
     "text": [
      "Voxelgrid conversion finished. Took: 6.9020514488220215 s.\n"
     ]
    },
    {
     "name": "stderr",
     "output_type": "stream",
     "text": [
      "  0%|                                                                                                                                                                                                                                 | 0/3 [00:11<?, ?it/s]"
     ]
    },
    {
     "name": "stdout",
     "output_type": "stream",
     "text": [
      "hausdorff computation started\n"
     ]
    },
    {
     "name": "stderr",
     "output_type": "stream",
     "text": [
      "  0%|                                                                                                                                                                                                                                 | 0/3 [00:12<?, ?it/s]"
     ]
    },
    {
     "name": "stdout",
     "output_type": "stream",
     "text": [
      "hausdorff computation finished. Took: 1.0859723091125488 s.\n",
      "MSDM2 computation started\n",
      "Asking to calculate curvature\n",
      "Asking to calculate curvature\n",
      "Asking to calculate curvature\n",
      "Asking to calculate curvature\n",
      "Asking to calculate curvature\n",
      "Asking to calculate curvature\n"
     ]
    },
    {
     "name": "stderr",
     "output_type": "stream",
     "text": [
      "  0%|                                                                                                                                                                                                                                 | 0/3 [02:50<?, ?it/s]"
     ]
    },
    {
     "name": "stdout",
     "output_type": "stream",
     "text": [
      "MSDM2 computation finished. Took: 157.38782477378845 s.\n",
      "Sampling points started\n",
      "Sampling points finished. Took: 0.09907746315002441 s.\n"
     ]
    },
    {
     "name": "stderr",
     "output_type": "stream",
     "text": [
      "  0%|                                                                                                                                                                                                                                 | 0/3 [02:51<?, ?it/s]"
     ]
    },
    {
     "name": "stdout",
     "output_type": "stream",
     "text": [
      "Voxelgrid conversion started\n"
     ]
    },
    {
     "name": "stderr",
     "output_type": "stream",
     "text": [
      "  0%|                                                                                                                                                                                                                                 | 0/3 [03:02<?, ?it/s]"
     ]
    },
    {
     "name": "stdout",
     "output_type": "stream",
     "text": [
      "Voxelgrid conversion finished. Took: 11.531834602355957 s.\n"
     ]
    },
    {
     "name": "stderr",
     "output_type": "stream",
     "text": [
      "  0%|                                                                                                                                                                                                                                 | 0/3 [03:03<?, ?it/s]"
     ]
    },
    {
     "name": "stdout",
     "output_type": "stream",
     "text": [
      "hausdorff computation started\n"
     ]
    },
    {
     "name": "stderr",
     "output_type": "stream",
     "text": [
      "  0%|                                                                                                                                                                                                                                 | 0/3 [03:06<?, ?it/s]"
     ]
    },
    {
     "name": "stdout",
     "output_type": "stream",
     "text": [
      "hausdorff computation finished. Took: 2.7962770462036133 s.\n",
      "MSDM2 computation started\n"
     ]
    },
    {
     "name": "stderr",
     "output_type": "stream",
     "text": [
      " 33%|████████████████████████████████████████████████████████████████████████                                                                                                                                                | 1/3 [06:17<12:35, 377.71s/it]"
     ]
    },
    {
     "name": "stdout",
     "output_type": "stream",
     "text": [
      "Asking to calculate curvature\n",
      "Asking to calculate curvature\n",
      "Curvature warning: 108 isolated vertices were skipped.\n",
      "Asking to calculate curvature\n",
      "Asking to calculate curvature\n",
      "Curvature warning: 108 isolated vertices were skipped.\n",
      "Asking to calculate curvature\n",
      "Asking to calculate curvature\n",
      "Curvature warning: 108 isolated vertices were skipped.\n",
      "MSDM2 computation finished. Took: 191.55698800086975 s.\n"
     ]
    },
    {
     "name": "stderr",
     "output_type": "stream",
     "text": [
      " 33%|████████████████████████████████████████████████████████████████████████                                                                                                                                                | 1/3 [06:18<12:35, 377.71s/it]"
     ]
    },
    {
     "name": "stdout",
     "output_type": "stream",
     "text": [
      "Marching cube started\n"
     ]
    },
    {
     "name": "stderr",
     "output_type": "stream",
     "text": [
      " 33%|████████████████████████████████████████████████████████████████████████                                                                                                                                                | 1/3 [06:19<12:35, 377.71s/it]"
     ]
    },
    {
     "name": "stdout",
     "output_type": "stream",
     "text": [
      "Marching cube finished. Took: 1.2413203716278076 s.\n",
      "Marching cube started\n"
     ]
    },
    {
     "name": "stderr",
     "output_type": "stream",
     "text": [
      " 33%|████████████████████████████████████████████████████████████████████████                                                                                                                                                | 1/3 [06:20<12:35, 377.71s/it]"
     ]
    },
    {
     "name": "stdout",
     "output_type": "stream",
     "text": [
      "Marching cube finished. Took: 1.2769131660461426 s.\n"
     ]
    },
    {
     "name": "stderr",
     "output_type": "stream",
     "text": [
      " 33%|████████████████████████████████████████████████████████████████████████                                                                                                                                                | 1/3 [06:21<12:35, 377.71s/it]"
     ]
    },
    {
     "name": "stdout",
     "output_type": "stream",
     "text": [
      "Sampling points started\n",
      "Sampling points finished. Took: 0.15778589248657227 s.\n"
     ]
    },
    {
     "name": "stderr",
     "output_type": "stream",
     "text": [
      " 33%|████████████████████████████████████████████████████████████████████████                                                                                                                                                | 1/3 [06:22<12:35, 377.71s/it]"
     ]
    },
    {
     "name": "stdout",
     "output_type": "stream",
     "text": [
      "Voxelgrid conversion started\n"
     ]
    },
    {
     "name": "stderr",
     "output_type": "stream",
     "text": [
      " 33%|████████████████████████████████████████████████████████████████████████                                                                                                                                                | 1/3 [06:29<12:35, 377.71s/it]"
     ]
    },
    {
     "name": "stdout",
     "output_type": "stream",
     "text": [
      "Voxelgrid conversion finished. Took: 7.673647165298462 s.\n"
     ]
    },
    {
     "name": "stderr",
     "output_type": "stream",
     "text": [
      " 33%|████████████████████████████████████████████████████████████████████████                                                                                                                                                | 1/3 [06:30<12:35, 377.71s/it]"
     ]
    },
    {
     "name": "stdout",
     "output_type": "stream",
     "text": [
      "hausdorff computation started\n"
     ]
    },
    {
     "name": "stderr",
     "output_type": "stream",
     "text": [
      " 33%|████████████████████████████████████████████████████████████████████████                                                                                                                                                | 1/3 [06:32<12:35, 377.71s/it]"
     ]
    },
    {
     "name": "stdout",
     "output_type": "stream",
     "text": [
      "hausdorff computation finished. Took: 1.6335101127624512 s.\n",
      "MSDM2 computation started\n",
      "Asking to calculate curvature\n"
     ]
    },
    {
     "name": "stderr",
     "output_type": "stream",
     "text": [
      " 33%|████████████████████████████████████████████████████████████████████████                                                                                                                                                | 1/3 [08:12<12:35, 377.71s/it]"
     ]
    },
    {
     "name": "stdout",
     "output_type": "stream",
     "text": [
      "Asking to calculate curvature\n",
      "Curvature warning: 2 isolated vertices were skipped.\n",
      "Asking to calculate curvature\n",
      "Asking to calculate curvature\n",
      "Curvature warning: 2 isolated vertices were skipped.\n",
      "Asking to calculate curvature\n",
      "Asking to calculate curvature\n",
      "Curvature warning: 2 isolated vertices were skipped.\n",
      "MSDM2 computation finished. Took: 99.9373733997345 s.\n",
      "Sampling points started\n",
      "Sampling points finished. Took: 0.10123562812805176 s.\n"
     ]
    },
    {
     "name": "stderr",
     "output_type": "stream",
     "text": [
      " 33%|████████████████████████████████████████████████████████████████████████                                                                                                                                                | 1/3 [08:13<12:35, 377.71s/it]"
     ]
    },
    {
     "name": "stdout",
     "output_type": "stream",
     "text": [
      "Voxelgrid conversion started\n"
     ]
    },
    {
     "name": "stderr",
     "output_type": "stream",
     "text": [
      " 33%|████████████████████████████████████████████████████████████████████████                                                                                                                                                | 1/3 [08:26<12:35, 377.71s/it]"
     ]
    },
    {
     "name": "stdout",
     "output_type": "stream",
     "text": [
      "Voxelgrid conversion finished. Took: 13.3751060962677 s.\n"
     ]
    },
    {
     "name": "stderr",
     "output_type": "stream",
     "text": [
      " 33%|████████████████████████████████████████████████████████████████████████                                                                                                                                                | 1/3 [08:27<12:35, 377.71s/it]"
     ]
    },
    {
     "name": "stdout",
     "output_type": "stream",
     "text": [
      "hausdorff computation started\n"
     ]
    },
    {
     "name": "stderr",
     "output_type": "stream",
     "text": [
      " 33%|████████████████████████████████████████████████████████████████████████                                                                                                                                                | 1/3 [08:29<12:35, 377.71s/it]"
     ]
    },
    {
     "name": "stdout",
     "output_type": "stream",
     "text": [
      "hausdorff computation finished. Took: 2.450063705444336 s.\n",
      "MSDM2 computation started\n"
     ]
    },
    {
     "name": "stderr",
     "output_type": "stream",
     "text": [
      " 67%|████████████████████████████████████████████████████████████████████████████████████████████████████████████████████████████████████████████████                                                                        | 2/3 [10:31<05:05, 305.05s/it]"
     ]
    },
    {
     "name": "stdout",
     "output_type": "stream",
     "text": [
      "Asking to calculate curvature\n",
      "Asking to calculate curvature\n",
      "Curvature warning: 122 isolated vertices were skipped.\n",
      "Asking to calculate curvature\n",
      "Asking to calculate curvature\n",
      "Curvature warning: 122 isolated vertices were skipped.\n",
      "Asking to calculate curvature\n",
      "Asking to calculate curvature\n",
      "Curvature warning: 122 isolated vertices were skipped.\n",
      "MSDM2 computation finished. Took: 122.42055344581604 s.\n"
     ]
    },
    {
     "name": "stderr",
     "output_type": "stream",
     "text": [
      " 67%|████████████████████████████████████████████████████████████████████████████████████████████████████████████████████████████████████████████████                                                                        | 2/3 [10:32<05:05, 305.05s/it]"
     ]
    },
    {
     "name": "stdout",
     "output_type": "stream",
     "text": [
      "Marching cube started\n"
     ]
    },
    {
     "name": "stderr",
     "output_type": "stream",
     "text": [
      " 67%|████████████████████████████████████████████████████████████████████████████████████████████████████████████████████████████████████████████████                                                                        | 2/3 [10:33<05:05, 305.05s/it]"
     ]
    },
    {
     "name": "stdout",
     "output_type": "stream",
     "text": [
      "Marching cube finished. Took: 1.247340202331543 s.\n",
      "Marching cube started\n"
     ]
    },
    {
     "name": "stderr",
     "output_type": "stream",
     "text": [
      " 67%|████████████████████████████████████████████████████████████████████████████████████████████████████████████████████████████████████████████████                                                                        | 2/3 [10:34<05:05, 305.05s/it]"
     ]
    },
    {
     "name": "stdout",
     "output_type": "stream",
     "text": [
      "Marching cube finished. Took: 1.2726640701293945 s.\n"
     ]
    },
    {
     "name": "stderr",
     "output_type": "stream",
     "text": [
      " 67%|████████████████████████████████████████████████████████████████████████████████████████████████████████████████████████████████████████████████                                                                        | 2/3 [10:35<05:05, 305.05s/it]"
     ]
    },
    {
     "name": "stdout",
     "output_type": "stream",
     "text": [
      "Sampling points started\n",
      "Sampling points finished. Took: 0.1270275115966797 s.\n"
     ]
    },
    {
     "name": "stderr",
     "output_type": "stream",
     "text": [
      " 67%|████████████████████████████████████████████████████████████████████████████████████████████████████████████████████████████████████████████████                                                                        | 2/3 [10:36<05:05, 305.05s/it]"
     ]
    },
    {
     "name": "stdout",
     "output_type": "stream",
     "text": [
      "Voxelgrid conversion started\n"
     ]
    },
    {
     "name": "stderr",
     "output_type": "stream",
     "text": [
      " 67%|████████████████████████████████████████████████████████████████████████████████████████████████████████████████████████████████████████████████                                                                        | 2/3 [10:43<05:05, 305.05s/it]"
     ]
    },
    {
     "name": "stdout",
     "output_type": "stream",
     "text": [
      "Voxelgrid conversion finished. Took: 6.852616548538208 s.\n"
     ]
    },
    {
     "name": "stderr",
     "output_type": "stream",
     "text": [
      " 67%|████████████████████████████████████████████████████████████████████████████████████████████████████████████████████████████████████████████████                                                                        | 2/3 [10:43<05:05, 305.05s/it]"
     ]
    },
    {
     "name": "stdout",
     "output_type": "stream",
     "text": [
      "hausdorff computation started\n"
     ]
    },
    {
     "name": "stderr",
     "output_type": "stream",
     "text": [
      " 67%|████████████████████████████████████████████████████████████████████████████████████████████████████████████████████████████████████████████████                                                                        | 2/3 [10:44<05:05, 305.05s/it]"
     ]
    },
    {
     "name": "stdout",
     "output_type": "stream",
     "text": [
      "hausdorff computation finished. Took: 1.155458927154541 s.\n",
      "MSDM2 computation started\n",
      "Asking to calculate curvature\n"
     ]
    },
    {
     "name": "stderr",
     "output_type": "stream",
     "text": [
      " 67%|████████████████████████████████████████████████████████████████████████████████████████████████████████████████████████████████████████████████                                                                        | 2/3 [13:23<05:05, 305.05s/it]"
     ]
    },
    {
     "name": "stdout",
     "output_type": "stream",
     "text": [
      "Asking to calculate curvature\n",
      "Asking to calculate curvature\n",
      "Asking to calculate curvature\n",
      "Asking to calculate curvature\n",
      "Asking to calculate curvature\n",
      "MSDM2 computation finished. Took: 158.45338892936707 s.\n",
      "Sampling points started\n",
      "Sampling points finished. Took: 0.09907031059265137 s.\n"
     ]
    },
    {
     "name": "stderr",
     "output_type": "stream",
     "text": [
      " 67%|████████████████████████████████████████████████████████████████████████████████████████████████████████████████████████████████████████████████                                                                        | 2/3 [13:24<05:05, 305.05s/it]"
     ]
    },
    {
     "name": "stdout",
     "output_type": "stream",
     "text": [
      "Voxelgrid conversion started\n"
     ]
    },
    {
     "name": "stderr",
     "output_type": "stream",
     "text": [
      " 67%|████████████████████████████████████████████████████████████████████████████████████████████████████████████████████████████████████████████████                                                                        | 2/3 [13:35<05:05, 305.05s/it]"
     ]
    },
    {
     "name": "stdout",
     "output_type": "stream",
     "text": [
      "Voxelgrid conversion finished. Took: 11.443292140960693 s.\n"
     ]
    },
    {
     "name": "stderr",
     "output_type": "stream",
     "text": [
      " 67%|████████████████████████████████████████████████████████████████████████████████████████████████████████████████████████████████████████████████                                                                        | 2/3 [13:36<05:05, 305.05s/it]"
     ]
    },
    {
     "name": "stdout",
     "output_type": "stream",
     "text": [
      "hausdorff computation started\n"
     ]
    },
    {
     "name": "stderr",
     "output_type": "stream",
     "text": [
      " 67%|████████████████████████████████████████████████████████████████████████████████████████████████████████████████████████████████████████████████                                                                        | 2/3 [13:39<05:05, 305.05s/it]"
     ]
    },
    {
     "name": "stdout",
     "output_type": "stream",
     "text": [
      "hausdorff computation finished. Took: 2.687575101852417 s.\n",
      "MSDM2 computation started\n"
     ]
    },
    {
     "name": "stderr",
     "output_type": "stream",
     "text": [
      "100%|████████████████████████████████████████████████████████████████████████████████████████████████████████████████████████████████████████████████████████████████████████████████████████████████████████████████████████| 3/3 [16:44<00:00, 334.95s/it]\n"
     ]
    },
    {
     "name": "stdout",
     "output_type": "stream",
     "text": [
      "Asking to calculate curvature\n",
      "Asking to calculate curvature\n",
      "Curvature warning: 119 isolated vertices were skipped.\n",
      "Asking to calculate curvature\n",
      "Asking to calculate curvature\n",
      "Curvature warning: 119 isolated vertices were skipped.\n",
      "Asking to calculate curvature\n",
      "Asking to calculate curvature\n",
      "Curvature warning: 119 isolated vertices were skipped.\n",
      "MSDM2 computation finished. Took: 185.7723832130432 s.\n",
      "{0: {0: {'l2': tensor(6.1455), 'chamfer_distance': tensor(0.0073, dtype=torch.float64), 'IoU': tensor(0.0063), 'hausdorff': 0.32203282317955384, 'MSDM2': 0.674507392692333}, 1: {'l2': tensor(6.1455), 'chamfer_distance': tensor(3.0600, dtype=torch.float64), 'IoU': tensor(0.0063), 'hausdorff': 1.5986422336529553, 'MSDM2': 0.6947524452209485}}, 142: {0: {'l2': tensor(8.1138), 'chamfer_distance': tensor(0.0191, dtype=torch.float64), 'IoU': tensor(0.0064), 'hausdorff': 0.49472183789141283, 'MSDM2': 0.7244810918461465}, 1: {'l2': tensor(8.1138), 'chamfer_distance': tensor(2.8482, dtype=torch.float64), 'IoU': tensor(0.0064), 'hausdorff': 1.5776987455238338, 'MSDM2': 0.698663546939093}}, 283: {0: {'l2': tensor(6.2535), 'chamfer_distance': tensor(0.0066, dtype=torch.float64), 'IoU': tensor(0.0088), 'hausdorff': 0.3049345861807722, 'MSDM2': 0.6844670097729885}, 1: {'l2': tensor(6.2535), 'chamfer_distance': tensor(3.0265, dtype=torch.float64), 'IoU': tensor(0.0090), 'hausdorff': 1.56211501689851, 'MSDM2': 0.6822244121968982}}}\n"
     ]
    },
    {
     "name": "stderr",
     "output_type": "stream",
     "text": [
      "  0%|                                                                                                                                                                                                                                 | 0/3 [00:00<?, ?it/s]"
     ]
    },
    {
     "name": "stdout",
     "output_type": "stream",
     "text": [
      "Marching cube started\n"
     ]
    },
    {
     "name": "stderr",
     "output_type": "stream",
     "text": [
      "  0%|                                                                                                                                                                                                                                 | 0/3 [00:02<?, ?it/s]"
     ]
    },
    {
     "name": "stdout",
     "output_type": "stream",
     "text": [
      "Marching cube finished. Took: 1.2672755718231201 s.\n",
      "Marching cube started\n"
     ]
    },
    {
     "name": "stderr",
     "output_type": "stream",
     "text": [
      "  0%|                                                                                                                                                                                                                                 | 0/3 [00:03<?, ?it/s]"
     ]
    },
    {
     "name": "stdout",
     "output_type": "stream",
     "text": [
      "Marching cube finished. Took: 1.2713301181793213 s.\n"
     ]
    },
    {
     "name": "stderr",
     "output_type": "stream",
     "text": [
      "  0%|                                                                                                                                                                                                                                 | 0/3 [00:03<?, ?it/s]"
     ]
    },
    {
     "name": "stdout",
     "output_type": "stream",
     "text": [
      "Sampling points started\n",
      "Sampling points finished. Took: 0.14250588417053223 s.\n"
     ]
    },
    {
     "name": "stderr",
     "output_type": "stream",
     "text": [
      "  0%|                                                                                                                                                                                                                                 | 0/3 [00:04<?, ?it/s]"
     ]
    },
    {
     "name": "stdout",
     "output_type": "stream",
     "text": [
      "Voxelgrid conversion started\n"
     ]
    },
    {
     "name": "stderr",
     "output_type": "stream",
     "text": [
      "  0%|                                                                                                                                                                                                                                 | 0/3 [00:12<?, ?it/s]"
     ]
    },
    {
     "name": "stdout",
     "output_type": "stream",
     "text": [
      "Voxelgrid conversion finished. Took: 8.064781904220581 s.\n"
     ]
    },
    {
     "name": "stderr",
     "output_type": "stream",
     "text": [
      "  0%|                                                                                                                                                                                                                                 | 0/3 [00:13<?, ?it/s]"
     ]
    },
    {
     "name": "stdout",
     "output_type": "stream",
     "text": [
      "hausdorff computation started\n"
     ]
    },
    {
     "name": "stderr",
     "output_type": "stream",
     "text": [
      "  0%|                                                                                                                                                                                                                                 | 0/3 [00:14<?, ?it/s]"
     ]
    },
    {
     "name": "stdout",
     "output_type": "stream",
     "text": [
      "hausdorff computation finished. Took: 0.8173670768737793 s.\n",
      "MSDM2 computation started\n",
      "Asking to calculate curvature\n",
      "Asking to calculate curvature\n",
      "Asking to calculate curvature\n",
      "Asking to calculate curvature\n",
      "Asking to calculate curvature\n",
      "Asking to calculate curvature\n"
     ]
    },
    {
     "name": "stderr",
     "output_type": "stream",
     "text": [
      "  0%|                                                                                                                                                                                                                                 | 0/3 [04:11<?, ?it/s]"
     ]
    },
    {
     "name": "stdout",
     "output_type": "stream",
     "text": [
      "MSDM2 computation finished. Took: 236.7665057182312 s.\n",
      "Sampling points started\n",
      "Sampling points finished. Took: 0.1095883846282959 s.\n"
     ]
    },
    {
     "name": "stderr",
     "output_type": "stream",
     "text": [
      "  0%|                                                                                                                                                                                                                                 | 0/3 [04:11<?, ?it/s]"
     ]
    },
    {
     "name": "stdout",
     "output_type": "stream",
     "text": [
      "Voxelgrid conversion started\n"
     ]
    },
    {
     "name": "stderr",
     "output_type": "stream",
     "text": [
      "  0%|                                                                                                                                                                                                                                 | 0/3 [04:24<?, ?it/s]"
     ]
    },
    {
     "name": "stdout",
     "output_type": "stream",
     "text": [
      "Voxelgrid conversion finished. Took: 12.471767902374268 s.\n"
     ]
    },
    {
     "name": "stderr",
     "output_type": "stream",
     "text": [
      "  0%|                                                                                                                                                                                                                                 | 0/3 [04:24<?, ?it/s]"
     ]
    },
    {
     "name": "stdout",
     "output_type": "stream",
     "text": [
      "hausdorff computation started\n"
     ]
    },
    {
     "name": "stderr",
     "output_type": "stream",
     "text": [
      "  0%|                                                                                                                                                                                                                                 | 0/3 [04:27<?, ?it/s]"
     ]
    },
    {
     "name": "stdout",
     "output_type": "stream",
     "text": [
      "hausdorff computation finished. Took: 2.975689649581909 s.\n",
      "MSDM2 computation started\n",
      "Asking to calculate curvature\n"
     ]
    },
    {
     "name": "stderr",
     "output_type": "stream",
     "text": [
      " 33%|████████████████████████████████████████████████████████████████████████                                                                                                                                                | 1/3 [09:20<18:40, 560.02s/it]"
     ]
    },
    {
     "name": "stdout",
     "output_type": "stream",
     "text": [
      "Asking to calculate curvature\n",
      "Curvature warning: 108 isolated vertices were skipped.\n",
      "Asking to calculate curvature\n",
      "Asking to calculate curvature\n",
      "Curvature warning: 108 isolated vertices were skipped.\n",
      "Asking to calculate curvature\n",
      "Asking to calculate curvature\n",
      "Curvature warning: 108 isolated vertices were skipped.\n",
      "MSDM2 computation finished. Took: 292.180944442749 s.\n"
     ]
    },
    {
     "name": "stderr",
     "output_type": "stream",
     "text": [
      " 33%|████████████████████████████████████████████████████████████████████████                                                                                                                                                | 1/3 [09:20<18:40, 560.02s/it]"
     ]
    },
    {
     "name": "stdout",
     "output_type": "stream",
     "text": [
      "Marching cube started\n"
     ]
    },
    {
     "name": "stderr",
     "output_type": "stream",
     "text": [
      " 33%|████████████████████████████████████████████████████████████████████████                                                                                                                                                | 1/3 [09:22<18:40, 560.02s/it]"
     ]
    },
    {
     "name": "stdout",
     "output_type": "stream",
     "text": [
      "Marching cube finished. Took: 1.2634570598602295 s.\n",
      "Marching cube started\n"
     ]
    },
    {
     "name": "stderr",
     "output_type": "stream",
     "text": [
      " 33%|████████████████████████████████████████████████████████████████████████                                                                                                                                                | 1/3 [09:23<18:40, 560.02s/it]"
     ]
    },
    {
     "name": "stdout",
     "output_type": "stream",
     "text": [
      "Marching cube finished. Took: 1.274789810180664 s.\n"
     ]
    },
    {
     "name": "stderr",
     "output_type": "stream",
     "text": [
      " 33%|████████████████████████████████████████████████████████████████████████                                                                                                                                                | 1/3 [09:23<18:40, 560.02s/it]"
     ]
    },
    {
     "name": "stdout",
     "output_type": "stream",
     "text": [
      "Sampling points started\n",
      "Sampling points finished. Took: 0.14636969566345215 s.\n"
     ]
    },
    {
     "name": "stderr",
     "output_type": "stream",
     "text": [
      " 33%|████████████████████████████████████████████████████████████████████████                                                                                                                                                | 1/3 [09:24<18:40, 560.02s/it]"
     ]
    },
    {
     "name": "stdout",
     "output_type": "stream",
     "text": [
      "Voxelgrid conversion started\n"
     ]
    },
    {
     "name": "stderr",
     "output_type": "stream",
     "text": [
      " 33%|████████████████████████████████████████████████████████████████████████                                                                                                                                                | 1/3 [09:33<18:40, 560.02s/it]"
     ]
    },
    {
     "name": "stdout",
     "output_type": "stream",
     "text": [
      "Voxelgrid conversion finished. Took: 8.270484209060669 s.\n"
     ]
    },
    {
     "name": "stderr",
     "output_type": "stream",
     "text": [
      " 33%|████████████████████████████████████████████████████████████████████████                                                                                                                                                | 1/3 [09:33<18:40, 560.02s/it]"
     ]
    },
    {
     "name": "stdout",
     "output_type": "stream",
     "text": [
      "hausdorff computation started\n"
     ]
    },
    {
     "name": "stderr",
     "output_type": "stream",
     "text": [
      " 33%|████████████████████████████████████████████████████████████████████████                                                                                                                                                | 1/3 [09:34<18:40, 560.02s/it]"
     ]
    },
    {
     "name": "stdout",
     "output_type": "stream",
     "text": [
      "hausdorff computation finished. Took: 0.9080178737640381 s.\n",
      "MSDM2 computation started\n"
     ]
    },
    {
     "name": "stderr",
     "output_type": "stream",
     "text": [
      " 33%|████████████████████████████████████████████████████████████████████████                                                                                                                                                | 1/3 [13:08<18:40, 560.02s/it]"
     ]
    },
    {
     "name": "stdout",
     "output_type": "stream",
     "text": [
      "Asking to calculate curvature\n",
      "Asking to calculate curvature\n",
      "Curvature warning: 2 isolated vertices were skipped.\n",
      "Asking to calculate curvature\n",
      "Asking to calculate curvature\n",
      "Curvature warning: 2 isolated vertices were skipped.\n",
      "Asking to calculate curvature\n",
      "Asking to calculate curvature\n",
      "Curvature warning: 2 isolated vertices were skipped.\n",
      "MSDM2 computation finished. Took: 213.74518275260925 s.\n",
      "Sampling points started\n",
      "Sampling points finished. Took: 0.11752557754516602 s.\n"
     ]
    },
    {
     "name": "stderr",
     "output_type": "stream",
     "text": [
      " 33%|████████████████████████████████████████████████████████████████████████                                                                                                                                                | 1/3 [13:09<18:40, 560.02s/it]"
     ]
    },
    {
     "name": "stdout",
     "output_type": "stream",
     "text": [
      "Voxelgrid conversion started\n"
     ]
    },
    {
     "name": "stderr",
     "output_type": "stream",
     "text": [
      " 33%|████████████████████████████████████████████████████████████████████████                                                                                                                                                | 1/3 [13:23<18:40, 560.02s/it]"
     ]
    },
    {
     "name": "stdout",
     "output_type": "stream",
     "text": [
      "Voxelgrid conversion finished. Took: 14.45567274093628 s.\n"
     ]
    },
    {
     "name": "stderr",
     "output_type": "stream",
     "text": [
      " 33%|████████████████████████████████████████████████████████████████████████                                                                                                                                                | 1/3 [13:24<18:40, 560.02s/it]"
     ]
    },
    {
     "name": "stdout",
     "output_type": "stream",
     "text": [
      "hausdorff computation started\n"
     ]
    },
    {
     "name": "stderr",
     "output_type": "stream",
     "text": [
      " 33%|████████████████████████████████████████████████████████████████████████                                                                                                                                                | 1/3 [13:28<18:40, 560.02s/it]"
     ]
    },
    {
     "name": "stdout",
     "output_type": "stream",
     "text": [
      "hausdorff computation finished. Took: 4.358476400375366 s.\n",
      "MSDM2 computation started\n",
      "Asking to calculate curvature\n"
     ]
    },
    {
     "name": "stderr",
     "output_type": "stream",
     "text": [
      " 67%|████████████████████████████████████████████████████████████████████████████████████████████████████████████████████████████████████████████████                                                                        | 2/3 [17:58<08:55, 535.86s/it]"
     ]
    },
    {
     "name": "stdout",
     "output_type": "stream",
     "text": [
      "Asking to calculate curvature\n",
      "Curvature warning: 122 isolated vertices were skipped.\n",
      "Asking to calculate curvature\n",
      "Asking to calculate curvature\n",
      "Curvature warning: 122 isolated vertices were skipped.\n",
      "Asking to calculate curvature\n",
      "Asking to calculate curvature\n",
      "Curvature warning: 122 isolated vertices were skipped.\n",
      "MSDM2 computation finished. Took: 270.2593500614166 s.\n"
     ]
    },
    {
     "name": "stderr",
     "output_type": "stream",
     "text": [
      " 67%|████████████████████████████████████████████████████████████████████████████████████████████████████████████████████████████████████████████████                                                                        | 2/3 [17:59<08:55, 535.86s/it]"
     ]
    },
    {
     "name": "stdout",
     "output_type": "stream",
     "text": [
      "Marching cube started\n"
     ]
    },
    {
     "name": "stderr",
     "output_type": "stream",
     "text": [
      " 67%|████████████████████████████████████████████████████████████████████████████████████████████████████████████████████████████████████████████████                                                                        | 2/3 [18:01<08:55, 535.86s/it]"
     ]
    },
    {
     "name": "stdout",
     "output_type": "stream",
     "text": [
      "Marching cube finished. Took: 1.2643682956695557 s.\n",
      "Marching cube started\n"
     ]
    },
    {
     "name": "stderr",
     "output_type": "stream",
     "text": [
      " 67%|████████████████████████████████████████████████████████████████████████████████████████████████████████████████████████████████████████████████                                                                        | 2/3 [18:02<08:55, 535.86s/it]"
     ]
    },
    {
     "name": "stdout",
     "output_type": "stream",
     "text": [
      "Marching cube finished. Took: 1.2754743099212646 s.\n"
     ]
    },
    {
     "name": "stderr",
     "output_type": "stream",
     "text": [
      " 67%|████████████████████████████████████████████████████████████████████████████████████████████████████████████████████████████████████████████████                                                                        | 2/3 [18:02<08:55, 535.86s/it]"
     ]
    },
    {
     "name": "stdout",
     "output_type": "stream",
     "text": [
      "Sampling points started\n",
      "Sampling points finished. Took: 0.14530444145202637 s.\n"
     ]
    },
    {
     "name": "stderr",
     "output_type": "stream",
     "text": [
      " 67%|████████████████████████████████████████████████████████████████████████████████████████████████████████████████████████████████████████████████                                                                        | 2/3 [18:03<08:55, 535.86s/it]"
     ]
    },
    {
     "name": "stdout",
     "output_type": "stream",
     "text": [
      "Voxelgrid conversion started\n"
     ]
    },
    {
     "name": "stderr",
     "output_type": "stream",
     "text": [
      " 67%|████████████████████████████████████████████████████████████████████████████████████████████████████████████████████████████████████████████████                                                                        | 2/3 [18:12<08:55, 535.86s/it]"
     ]
    },
    {
     "name": "stdout",
     "output_type": "stream",
     "text": [
      "Voxelgrid conversion finished. Took: 8.281054496765137 s.\n"
     ]
    },
    {
     "name": "stderr",
     "output_type": "stream",
     "text": [
      " 67%|████████████████████████████████████████████████████████████████████████████████████████████████████████████████████████████████████████████████                                                                        | 2/3 [18:12<08:55, 535.86s/it]"
     ]
    },
    {
     "name": "stdout",
     "output_type": "stream",
     "text": [
      "hausdorff computation started\n"
     ]
    },
    {
     "name": "stderr",
     "output_type": "stream",
     "text": [
      " 67%|████████████████████████████████████████████████████████████████████████████████████████████████████████████████████████████████████████████████                                                                        | 2/3 [18:13<08:55, 535.86s/it]"
     ]
    },
    {
     "name": "stdout",
     "output_type": "stream",
     "text": [
      "hausdorff computation finished. Took: 0.8438706398010254 s.\n",
      "MSDM2 computation started\n"
     ]
    },
    {
     "name": "stderr",
     "output_type": "stream",
     "text": [
      " 67%|████████████████████████████████████████████████████████████████████████████████████████████████████████████████████████████████████████████████                                                                        | 2/3 [22:13<08:55, 535.86s/it]"
     ]
    },
    {
     "name": "stdout",
     "output_type": "stream",
     "text": [
      "Asking to calculate curvature\n",
      "Asking to calculate curvature\n",
      "Asking to calculate curvature\n",
      "Asking to calculate curvature\n",
      "Asking to calculate curvature\n",
      "Asking to calculate curvature\n",
      "MSDM2 computation finished. Took: 239.5342354774475 s.\n",
      "Sampling points started\n",
      "Sampling points finished. Took: 0.11342597007751465 s.\n"
     ]
    },
    {
     "name": "stderr",
     "output_type": "stream",
     "text": [
      " 67%|████████████████████████████████████████████████████████████████████████████████████████████████████████████████████████████████████████████████                                                                        | 2/3 [22:14<08:55, 535.86s/it]"
     ]
    },
    {
     "name": "stdout",
     "output_type": "stream",
     "text": [
      "Voxelgrid conversion started\n"
     ]
    },
    {
     "name": "stderr",
     "output_type": "stream",
     "text": [
      " 67%|████████████████████████████████████████████████████████████████████████████████████████████████████████████████████████████████████████████████                                                                        | 2/3 [22:26<08:55, 535.86s/it]"
     ]
    },
    {
     "name": "stdout",
     "output_type": "stream",
     "text": [
      "Voxelgrid conversion finished. Took: 12.700373888015747 s.\n"
     ]
    },
    {
     "name": "stderr",
     "output_type": "stream",
     "text": [
      " 67%|████████████████████████████████████████████████████████████████████████████████████████████████████████████████████████████████████████████████                                                                        | 2/3 [22:27<08:55, 535.86s/it]"
     ]
    },
    {
     "name": "stdout",
     "output_type": "stream",
     "text": [
      "hausdorff computation started\n"
     ]
    },
    {
     "name": "stderr",
     "output_type": "stream",
     "text": [
      " 67%|████████████████████████████████████████████████████████████████████████████████████████████████████████████████████████████████████████████████                                                                        | 2/3 [22:30<08:55, 535.86s/it]"
     ]
    },
    {
     "name": "stdout",
     "output_type": "stream",
     "text": [
      "hausdorff computation finished. Took: 2.881516933441162 s.\n",
      "MSDM2 computation started\n"
     ]
    },
    {
     "name": "stderr",
     "output_type": "stream",
     "text": [
      "100%|████████████████████████████████████████████████████████████████████████████████████████████████████████████████████████████████████████████████████████████████████████████████████████████████████████████████████████| 3/3 [27:16<00:00, 545.62s/it]\n"
     ]
    },
    {
     "name": "stdout",
     "output_type": "stream",
     "text": [
      "Asking to calculate curvature\n",
      "Asking to calculate curvature\n",
      "Curvature warning: 119 isolated vertices were skipped.\n",
      "Asking to calculate curvature\n",
      "Asking to calculate curvature\n",
      "Curvature warning: 119 isolated vertices were skipped.\n",
      "Asking to calculate curvature\n",
      "Asking to calculate curvature\n",
      "Curvature warning: 119 isolated vertices were skipped.\n",
      "MSDM2 computation finished. Took: 286.5858280658722 s.\n",
      "{0: {0: {'l2': tensor(1.8113), 'chamfer_distance': tensor(8.7927e-05, dtype=torch.float64), 'IoU': tensor(0.0471), 'hausdorff': 0.08023277322530102, 'MSDM2': 0.5248029284291967}, 1: {'l2': tensor(1.8113), 'chamfer_distance': tensor(2.9391, dtype=torch.float64), 'IoU': tensor(0.0447), 'hausdorff': 1.589013987794734, 'MSDM2': 0.6875820431366453}}, 142: {0: {'l2': tensor(2.8294), 'chamfer_distance': tensor(0.0010, dtype=torch.float64), 'IoU': tensor(0.0271), 'hausdorff': 0.24325836021563746, 'MSDM2': 0.5384533066206664}, 1: {'l2': tensor(2.8294), 'chamfer_distance': tensor(2.8623, dtype=torch.float64), 'IoU': tensor(0.0280), 'hausdorff': 1.5718389990977373, 'MSDM2': 0.6864836350276963}}, 283: {0: {'l2': tensor(1.6835), 'chamfer_distance': tensor(8.0386e-05, dtype=torch.float64), 'IoU': tensor(0.2813), 'hausdorff': 0.08289389580217664, 'MSDM2': 0.5308066816182972}, 1: {'l2': tensor(1.6835), 'chamfer_distance': tensor(2.9364, dtype=torch.float64), 'IoU': tensor(0.2752), 'hausdorff': 1.562358620611136, 'MSDM2': 0.6874571391925053}}}\n"
     ]
    },
    {
     "name": "stderr",
     "output_type": "stream",
     "text": [
      "  0%|                                                                                                                                                                                                                                 | 0/3 [00:00<?, ?it/s]"
     ]
    },
    {
     "name": "stdout",
     "output_type": "stream",
     "text": [
      "Marching cube started\n"
     ]
    },
    {
     "name": "stderr",
     "output_type": "stream",
     "text": [
      "  0%|                                                                                                                                                                                                                                 | 0/3 [00:01<?, ?it/s]"
     ]
    },
    {
     "name": "stdout",
     "output_type": "stream",
     "text": [
      "Marching cube finished. Took: 1.2625997066497803 s.\n",
      "Marching cube started\n"
     ]
    },
    {
     "name": "stderr",
     "output_type": "stream",
     "text": [
      "  0%|                                                                                                                                                                                                                                 | 0/3 [00:02<?, ?it/s]"
     ]
    },
    {
     "name": "stdout",
     "output_type": "stream",
     "text": [
      "Marching cube finished. Took: 1.2685267925262451 s.\n"
     ]
    },
    {
     "name": "stderr",
     "output_type": "stream",
     "text": [
      "  0%|                                                                                                                                                                                                                                 | 0/3 [00:03<?, ?it/s]"
     ]
    },
    {
     "name": "stdout",
     "output_type": "stream",
     "text": [
      "Sampling points started\n"
     ]
    },
    {
     "name": "stderr",
     "output_type": "stream",
     "text": [
      "  0%|                                                                                                                                                                                                                                 | 0/3 [00:03<?, ?it/s]"
     ]
    },
    {
     "name": "stdout",
     "output_type": "stream",
     "text": [
      "Sampling points finished. Took: 0.38245391845703125 s.\n"
     ]
    },
    {
     "name": "stderr",
     "output_type": "stream",
     "text": [
      "  0%|                                                                                                                                                                                                                                 | 0/3 [00:04<?, ?it/s]"
     ]
    },
    {
     "name": "stdout",
     "output_type": "stream",
     "text": [
      "Voxelgrid conversion started\n"
     ]
    },
    {
     "name": "stderr",
     "output_type": "stream",
     "text": [
      "  0%|                                                                                                                                                                                                                                 | 0/3 [00:12<?, ?it/s]"
     ]
    },
    {
     "name": "stdout",
     "output_type": "stream",
     "text": [
      "Voxelgrid conversion finished. Took: 8.204814434051514 s.\n"
     ]
    },
    {
     "name": "stderr",
     "output_type": "stream",
     "text": [
      "  0%|                                                                                                                                                                                                                                 | 0/3 [00:13<?, ?it/s]"
     ]
    },
    {
     "name": "stdout",
     "output_type": "stream",
     "text": [
      "hausdorff computation started\n"
     ]
    },
    {
     "name": "stderr",
     "output_type": "stream",
     "text": [
      "  0%|                                                                                                                                                                                                                                 | 0/3 [00:14<?, ?it/s]"
     ]
    },
    {
     "name": "stdout",
     "output_type": "stream",
     "text": [
      "hausdorff computation finished. Took: 0.8608698844909668 s.\n",
      "MSDM2 computation started\n",
      "Asking to calculate curvature\n"
     ]
    },
    {
     "name": "stderr",
     "output_type": "stream",
     "text": [
      "  0%|                                                                                                                                                                                                                                 | 0/3 [04:00<?, ?it/s]"
     ]
    },
    {
     "name": "stdout",
     "output_type": "stream",
     "text": [
      "Asking to calculate curvature\n",
      "Asking to calculate curvature\n",
      "Asking to calculate curvature\n",
      "Asking to calculate curvature\n",
      "Asking to calculate curvature\n",
      "MSDM2 computation finished. Took: 225.8749918937683 s.\n",
      "Sampling points started\n",
      "Sampling points finished. Took: 0.11099505424499512 s.\n"
     ]
    },
    {
     "name": "stderr",
     "output_type": "stream",
     "text": [
      "  0%|                                                                                                                                                                                                                                 | 0/3 [04:00<?, ?it/s]"
     ]
    },
    {
     "name": "stdout",
     "output_type": "stream",
     "text": [
      "Voxelgrid conversion started\n"
     ]
    },
    {
     "name": "stderr",
     "output_type": "stream",
     "text": [
      "  0%|                                                                                                                                                                                                                                 | 0/3 [04:13<?, ?it/s]"
     ]
    },
    {
     "name": "stdout",
     "output_type": "stream",
     "text": [
      "Voxelgrid conversion finished. Took: 12.430099725723267 s.\n"
     ]
    },
    {
     "name": "stderr",
     "output_type": "stream",
     "text": [
      "  0%|                                                                                                                                                                                                                                 | 0/3 [04:14<?, ?it/s]"
     ]
    },
    {
     "name": "stdout",
     "output_type": "stream",
     "text": [
      "hausdorff computation started\n"
     ]
    },
    {
     "name": "stderr",
     "output_type": "stream",
     "text": [
      "  0%|                                                                                                                                                                                                                                 | 0/3 [04:17<?, ?it/s]"
     ]
    },
    {
     "name": "stdout",
     "output_type": "stream",
     "text": [
      "hausdorff computation finished. Took: 2.9954562187194824 s.\n",
      "MSDM2 computation started\n"
     ]
    },
    {
     "name": "stderr",
     "output_type": "stream",
     "text": [
      " 33%|████████████████████████████████████████████████████████████████████████                                                                                                                                                | 1/3 [08:57<17:54, 537.43s/it]"
     ]
    },
    {
     "name": "stdout",
     "output_type": "stream",
     "text": [
      "Asking to calculate curvature\n",
      "Asking to calculate curvature\n",
      "Curvature warning: 108 isolated vertices were skipped.\n",
      "Asking to calculate curvature\n",
      "Asking to calculate curvature\n",
      "Curvature warning: 108 isolated vertices were skipped.\n",
      "Asking to calculate curvature\n",
      "Asking to calculate curvature\n",
      "Curvature warning: 108 isolated vertices were skipped.\n",
      "MSDM2 computation finished. Took: 280.4002559185028 s.\n"
     ]
    },
    {
     "name": "stderr",
     "output_type": "stream",
     "text": [
      " 33%|████████████████████████████████████████████████████████████████████████                                                                                                                                                | 1/3 [08:57<17:54, 537.43s/it]"
     ]
    },
    {
     "name": "stdout",
     "output_type": "stream",
     "text": [
      "Marching cube started\n"
     ]
    },
    {
     "name": "stderr",
     "output_type": "stream",
     "text": [
      " 33%|████████████████████████████████████████████████████████████████████████                                                                                                                                                | 1/3 [08:59<17:54, 537.43s/it]"
     ]
    },
    {
     "name": "stdout",
     "output_type": "stream",
     "text": [
      "Marching cube finished. Took: 1.2550544738769531 s.\n",
      "Marching cube started\n"
     ]
    },
    {
     "name": "stderr",
     "output_type": "stream",
     "text": [
      " 33%|████████████████████████████████████████████████████████████████████████                                                                                                                                                | 1/3 [09:00<17:54, 537.43s/it]"
     ]
    },
    {
     "name": "stdout",
     "output_type": "stream",
     "text": [
      "Marching cube finished. Took: 1.2760593891143799 s.\n"
     ]
    },
    {
     "name": "stderr",
     "output_type": "stream",
     "text": [
      " 33%|████████████████████████████████████████████████████████████████████████                                                                                                                                                | 1/3 [09:01<17:54, 537.43s/it]"
     ]
    },
    {
     "name": "stdout",
     "output_type": "stream",
     "text": [
      "Sampling points started\n",
      "Sampling points finished. Took: 0.14535284042358398 s.\n"
     ]
    },
    {
     "name": "stderr",
     "output_type": "stream",
     "text": [
      " 33%|████████████████████████████████████████████████████████████████████████                                                                                                                                                | 1/3 [09:01<17:54, 537.43s/it]"
     ]
    },
    {
     "name": "stdout",
     "output_type": "stream",
     "text": [
      "Voxelgrid conversion started\n"
     ]
    },
    {
     "name": "stderr",
     "output_type": "stream",
     "text": [
      " 33%|████████████████████████████████████████████████████████████████████████                                                                                                                                                | 1/3 [09:09<17:54, 537.43s/it]"
     ]
    },
    {
     "name": "stdout",
     "output_type": "stream",
     "text": [
      "Voxelgrid conversion finished. Took: 7.796604871749878 s.\n"
     ]
    },
    {
     "name": "stderr",
     "output_type": "stream",
     "text": [
      " 33%|████████████████████████████████████████████████████████████████████████                                                                                                                                                | 1/3 [09:10<17:54, 537.43s/it]"
     ]
    },
    {
     "name": "stdout",
     "output_type": "stream",
     "text": [
      "hausdorff computation started\n"
     ]
    },
    {
     "name": "stderr",
     "output_type": "stream",
     "text": [
      " 33%|████████████████████████████████████████████████████████████████████████                                                                                                                                                | 1/3 [09:11<17:54, 537.43s/it]"
     ]
    },
    {
     "name": "stdout",
     "output_type": "stream",
     "text": [
      "hausdorff computation finished. Took: 0.9175193309783936 s.\n",
      "MSDM2 computation started\n",
      "Asking to calculate curvature\n",
      "Asking to calculate curvature\n",
      "Curvature warning: 2 isolated vertices were skipped.\n",
      "Asking to calculate curvature\n",
      "Asking to calculate curvature\n",
      "Curvature warning: 2 isolated vertices were skipped.\n",
      "Asking to calculate curvature\n",
      "Asking to calculate curvature\n",
      "Curvature warning: 2 isolated vertices were skipped.\n"
     ]
    },
    {
     "name": "stderr",
     "output_type": "stream",
     "text": [
      " 33%|████████████████████████████████████████████████████████████████████████                                                                                                                                                | 1/3 [12:30<17:54, 537.43s/it]"
     ]
    },
    {
     "name": "stdout",
     "output_type": "stream",
     "text": [
      "MSDM2 computation finished. Took: 199.32714986801147 s.\n",
      "Sampling points started\n",
      "Sampling points finished. Took: 0.11384010314941406 s.\n"
     ]
    },
    {
     "name": "stderr",
     "output_type": "stream",
     "text": [
      " 33%|████████████████████████████████████████████████████████████████████████                                                                                                                                                | 1/3 [12:31<17:54, 537.43s/it]"
     ]
    },
    {
     "name": "stdout",
     "output_type": "stream",
     "text": [
      "Voxelgrid conversion started\n"
     ]
    },
    {
     "name": "stderr",
     "output_type": "stream",
     "text": [
      " 33%|████████████████████████████████████████████████████████████████████████                                                                                                                                                | 1/3 [12:45<17:54, 537.43s/it]"
     ]
    },
    {
     "name": "stdout",
     "output_type": "stream",
     "text": [
      "Voxelgrid conversion finished. Took: 14.018754482269287 s.\n"
     ]
    },
    {
     "name": "stderr",
     "output_type": "stream",
     "text": [
      " 33%|████████████████████████████████████████████████████████████████████████                                                                                                                                                | 1/3 [12:46<17:54, 537.43s/it]"
     ]
    },
    {
     "name": "stdout",
     "output_type": "stream",
     "text": [
      "hausdorff computation started\n"
     ]
    },
    {
     "name": "stderr",
     "output_type": "stream",
     "text": [
      " 33%|████████████████████████████████████████████████████████████████████████                                                                                                                                                | 1/3 [12:49<17:54, 537.43s/it]"
     ]
    },
    {
     "name": "stdout",
     "output_type": "stream",
     "text": [
      "hausdorff computation finished. Took: 3.1138193607330322 s.\n",
      "MSDM2 computation started\n"
     ]
    },
    {
     "name": "stderr",
     "output_type": "stream",
     "text": [
      " 67%|████████████████████████████████████████████████████████████████████████████████████████████████████████████████████████████████████████████████                                                                        | 2/3 [17:01<08:25, 505.87s/it]"
     ]
    },
    {
     "name": "stdout",
     "output_type": "stream",
     "text": [
      "Asking to calculate curvature\n",
      "Asking to calculate curvature\n",
      "Curvature warning: 122 isolated vertices were skipped.\n",
      "Asking to calculate curvature\n",
      "Asking to calculate curvature\n",
      "Curvature warning: 122 isolated vertices were skipped.\n",
      "Asking to calculate curvature\n",
      "Asking to calculate curvature\n",
      "Curvature warning: 122 isolated vertices were skipped.\n",
      "MSDM2 computation finished. Took: 251.98091554641724 s.\n"
     ]
    },
    {
     "name": "stderr",
     "output_type": "stream",
     "text": [
      " 67%|████████████████████████████████████████████████████████████████████████████████████████████████████████████████████████████████████████████████                                                                        | 2/3 [17:01<08:25, 505.87s/it]"
     ]
    },
    {
     "name": "stdout",
     "output_type": "stream",
     "text": [
      "Marching cube started\n"
     ]
    },
    {
     "name": "stderr",
     "output_type": "stream",
     "text": [
      " 67%|████████████████████████████████████████████████████████████████████████████████████████████████████████████████████████████████████████████████                                                                        | 2/3 [17:03<08:25, 505.87s/it]"
     ]
    },
    {
     "name": "stdout",
     "output_type": "stream",
     "text": [
      "Marching cube finished. Took: 1.2670700550079346 s.\n",
      "Marching cube started\n"
     ]
    },
    {
     "name": "stderr",
     "output_type": "stream",
     "text": [
      " 67%|████████████████████████████████████████████████████████████████████████████████████████████████████████████████████████████████████████████████                                                                        | 2/3 [17:04<08:25, 505.87s/it]"
     ]
    },
    {
     "name": "stdout",
     "output_type": "stream",
     "text": [
      "Marching cube finished. Took: 1.2680165767669678 s.\n"
     ]
    },
    {
     "name": "stderr",
     "output_type": "stream",
     "text": [
      " 67%|████████████████████████████████████████████████████████████████████████████████████████████████████████████████████████████████████████████████                                                                        | 2/3 [17:04<08:25, 505.87s/it]"
     ]
    },
    {
     "name": "stdout",
     "output_type": "stream",
     "text": [
      "Sampling points started\n",
      "Sampling points finished. Took: 0.14198684692382812 s.\n"
     ]
    },
    {
     "name": "stderr",
     "output_type": "stream",
     "text": [
      " 67%|████████████████████████████████████████████████████████████████████████████████████████████████████████████████████████████████████████████████                                                                        | 2/3 [17:05<08:25, 505.87s/it]"
     ]
    },
    {
     "name": "stdout",
     "output_type": "stream",
     "text": [
      "Voxelgrid conversion started\n"
     ]
    },
    {
     "name": "stderr",
     "output_type": "stream",
     "text": [
      " 67%|████████████████████████████████████████████████████████████████████████████████████████████████████████████████████████████████████████████████                                                                        | 2/3 [17:13<08:25, 505.87s/it]"
     ]
    },
    {
     "name": "stdout",
     "output_type": "stream",
     "text": [
      "Voxelgrid conversion finished. Took: 7.950781345367432 s.\n"
     ]
    },
    {
     "name": "stderr",
     "output_type": "stream",
     "text": [
      " 67%|████████████████████████████████████████████████████████████████████████████████████████████████████████████████████████████████████████████████                                                                        | 2/3 [17:14<08:25, 505.87s/it]"
     ]
    },
    {
     "name": "stdout",
     "output_type": "stream",
     "text": [
      "hausdorff computation started\n"
     ]
    },
    {
     "name": "stderr",
     "output_type": "stream",
     "text": [
      " 67%|████████████████████████████████████████████████████████████████████████████████████████████████████████████████████████████████████████████████                                                                        | 2/3 [17:15<08:25, 505.87s/it]"
     ]
    },
    {
     "name": "stdout",
     "output_type": "stream",
     "text": [
      "hausdorff computation finished. Took: 0.8466322422027588 s.\n",
      "MSDM2 computation started\n",
      "Asking to calculate curvature\n",
      "Asking to calculate curvature\n",
      "Asking to calculate curvature\n",
      "Asking to calculate curvature\n",
      "Asking to calculate curvature\n",
      "Asking to calculate curvature\n"
     ]
    },
    {
     "name": "stderr",
     "output_type": "stream",
     "text": [
      " 67%|████████████████████████████████████████████████████████████████████████████████████████████████████████████████████████████████████████████████                                                                        | 2/3 [21:05<08:25, 505.87s/it]"
     ]
    },
    {
     "name": "stdout",
     "output_type": "stream",
     "text": [
      "MSDM2 computation finished. Took: 230.2046856880188 s.\n",
      "Sampling points started\n",
      "Sampling points finished. Took: 0.1117393970489502 s.\n"
     ]
    },
    {
     "name": "stderr",
     "output_type": "stream",
     "text": [
      " 67%|████████████████████████████████████████████████████████████████████████████████████████████████████████████████████████████████████████████████                                                                        | 2/3 [21:06<08:25, 505.87s/it]"
     ]
    },
    {
     "name": "stdout",
     "output_type": "stream",
     "text": [
      "Voxelgrid conversion started\n"
     ]
    },
    {
     "name": "stderr",
     "output_type": "stream",
     "text": [
      " 67%|████████████████████████████████████████████████████████████████████████████████████████████████████████████████████████████████████████████████                                                                        | 2/3 [21:18<08:25, 505.87s/it]"
     ]
    },
    {
     "name": "stdout",
     "output_type": "stream",
     "text": [
      "Voxelgrid conversion finished. Took: 12.435742855072021 s.\n"
     ]
    },
    {
     "name": "stderr",
     "output_type": "stream",
     "text": [
      " 67%|████████████████████████████████████████████████████████████████████████████████████████████████████████████████████████████████████████████████                                                                        | 2/3 [21:19<08:25, 505.87s/it]"
     ]
    },
    {
     "name": "stdout",
     "output_type": "stream",
     "text": [
      "hausdorff computation started\n"
     ]
    },
    {
     "name": "stderr",
     "output_type": "stream",
     "text": [
      " 67%|████████████████████████████████████████████████████████████████████████████████████████████████████████████████████████████████████████████████                                                                        | 2/3 [21:22<08:25, 505.87s/it]"
     ]
    },
    {
     "name": "stdout",
     "output_type": "stream",
     "text": [
      "hausdorff computation finished. Took: 2.7932519912719727 s.\n",
      "MSDM2 computation started\n",
      "Asking to calculate curvature\n"
     ]
    },
    {
     "name": "stderr",
     "output_type": "stream",
     "text": [
      "100%|████████████████████████████████████████████████████████████████████████████████████████████████████████████████████████████████████████████████████████████████████████████████████████████████████████████████████████| 3/3 [25:57<00:00, 519.13s/it]\n"
     ]
    },
    {
     "name": "stdout",
     "output_type": "stream",
     "text": [
      "Asking to calculate curvature\n",
      "Curvature warning: 119 isolated vertices were skipped.\n",
      "Asking to calculate curvature\n",
      "Asking to calculate curvature\n",
      "Curvature warning: 119 isolated vertices were skipped.\n",
      "Asking to calculate curvature\n",
      "Asking to calculate curvature\n",
      "Curvature warning: 119 isolated vertices were skipped.\n",
      "MSDM2 computation finished. Took: 275.169597864151 s.\n",
      "{0: {0: {'l2': tensor(2.6693), 'chamfer_distance': tensor(0.0002, dtype=torch.float64), 'IoU': tensor(0.0187), 'hausdorff': 0.11243977536670702, 'MSDM2': 0.5409039256699597}, 1: {'l2': tensor(2.6693), 'chamfer_distance': tensor(2.9675, dtype=torch.float64), 'IoU': tensor(0.0189), 'hausdorff': 1.6047588456877793, 'MSDM2': 0.6899868815293555}}, 142: {0: {'l2': tensor(4.0132), 'chamfer_distance': tensor(0.0021, dtype=torch.float64), 'IoU': tensor(0.0188), 'hausdorff': 0.29162110165755467, 'MSDM2': 0.565950996774316}, 1: {'l2': tensor(4.0132), 'chamfer_distance': tensor(2.8729, dtype=torch.float64), 'IoU': tensor(0.0193), 'hausdorff': 1.5773053202613287, 'MSDM2': 0.6952469942071449}}, 283: {0: {'l2': tensor(2.3138), 'chamfer_distance': tensor(0.0001, dtype=torch.float64), 'IoU': tensor(0.0846), 'hausdorff': 0.09417484223354418, 'MSDM2': 0.5492801745439677}, 1: {'l2': tensor(2.3138), 'chamfer_distance': tensor(2.9305, dtype=torch.float64), 'IoU': tensor(0.0844), 'hausdorff': 1.5601284267510096, 'MSDM2': 0.6941057727092207}}}\n"
     ]
    },
    {
     "name": "stderr",
     "output_type": "stream",
     "text": [
      "  0%|                                                                                                                                                                                                                                 | 0/3 [00:00<?, ?it/s]"
     ]
    },
    {
     "name": "stdout",
     "output_type": "stream",
     "text": [
      "Marching cube started\n"
     ]
    },
    {
     "name": "stderr",
     "output_type": "stream",
     "text": [
      "  0%|                                                                                                                                                                                                                                 | 0/3 [00:01<?, ?it/s]"
     ]
    },
    {
     "name": "stdout",
     "output_type": "stream",
     "text": [
      "Marching cube finished. Took: 1.255458116531372 s.\n",
      "Marching cube started\n"
     ]
    },
    {
     "name": "stderr",
     "output_type": "stream",
     "text": [
      "  0%|                                                                                                                                                                                                                                 | 0/3 [00:02<?, ?it/s]"
     ]
    },
    {
     "name": "stdout",
     "output_type": "stream",
     "text": [
      "Marching cube finished. Took: 1.2722094058990479 s.\n"
     ]
    },
    {
     "name": "stderr",
     "output_type": "stream",
     "text": [
      "  0%|                                                                                                                                                                                                                                 | 0/3 [00:03<?, ?it/s]"
     ]
    },
    {
     "name": "stdout",
     "output_type": "stream",
     "text": [
      "Sampling points started\n",
      "Sampling points finished. Took: 0.13209843635559082 s.\n"
     ]
    },
    {
     "name": "stderr",
     "output_type": "stream",
     "text": [
      "  0%|                                                                                                                                                                                                                                 | 0/3 [00:04<?, ?it/s]"
     ]
    },
    {
     "name": "stdout",
     "output_type": "stream",
     "text": [
      "Voxelgrid conversion started\n"
     ]
    },
    {
     "name": "stderr",
     "output_type": "stream",
     "text": [
      "  0%|                                                                                                                                                                                                                                 | 0/3 [00:11<?, ?it/s]"
     ]
    },
    {
     "name": "stdout",
     "output_type": "stream",
     "text": [
      "Voxelgrid conversion finished. Took: 7.203815698623657 s.\n"
     ]
    },
    {
     "name": "stderr",
     "output_type": "stream",
     "text": [
      "  0%|                                                                                                                                                                                                                                 | 0/3 [00:12<?, ?it/s]"
     ]
    },
    {
     "name": "stdout",
     "output_type": "stream",
     "text": [
      "hausdorff computation started\n"
     ]
    },
    {
     "name": "stderr",
     "output_type": "stream",
     "text": [
      "  0%|                                                                                                                                                                                                                                 | 0/3 [00:13<?, ?it/s]"
     ]
    }
   ],
   "source": [
    "for tucker_rank in ckpt[(-0.005, 0.005)].keys():\n",
    "    for tt_rank in ckpt[(-0.005, 0.005)][tucker_rank]:\n",
    "        ckpt[(-0.005, 0.005)][tucker_rank][tt_rank]['metrics'] = compute_metrics(\n",
    "            files,\n",
    "            ckpt[(-0.005, 0.005)][tucker_rank][tt_rank]['tensor'],\n",
    "            min_tsdf, max_tsdf,\n",
    "            30000,\n",
    "            [0, len(frames) // 2, len(frames) - 1])\n",
    "        print(ckpt[(-0.005, 0.005)][tucker_rank][tt_rank]['metrics'])"
   ]
  },
  {
   "cell_type": "code",
   "execution_count": 13,
   "id": "cb21fcbf",
   "metadata": {},
   "outputs": [],
   "source": [
    "torch.save(\n",
    "    ckpt,\n",
    "    '../logs/sweeps/tt_tucker_00032_longshort_flying_eagle_low_ranks_fixed.pt')"
   ]
  },
  {
   "cell_type": "code",
   "execution_count": 14,
   "id": "28594234",
   "metadata": {},
   "outputs": [
    {
     "data": {
      "text/plain": [
       "{284: {'tensor': 4D TT-Tucker tensor:\n",
       "  \n",
       "   512 512 512 284\n",
       "    |   |   |   |\n",
       "   10  10  10  10\n",
       "   (0) (1) (2) (3)\n",
       "   / \\ / \\ / \\ / \\\n",
       "  1   10  100 10  1,\n",
       "  'metrics': {0: {0: {'l2': tensor(4.8397),\n",
       "     'chamfer_distance': tensor(0.0048, dtype=torch.float64),\n",
       "     'IoU': tensor(0.0073),\n",
       "     'hausdorff': 0.3112347950137814,\n",
       "     'MSDM2': 0.6552691001841588},\n",
       "    1: {'l2': tensor(4.8397),\n",
       "     'chamfer_distance': tensor(3.0390, dtype=torch.float64),\n",
       "     'IoU': tensor(0.0077),\n",
       "     'hausdorff': 1.607525377553317,\n",
       "     'MSDM2': 0.6756251754252717}},\n",
       "   142: {0: {'l2': tensor(6.4142),\n",
       "     'chamfer_distance': tensor(0.0150, dtype=torch.float64),\n",
       "     'IoU': tensor(0.0076),\n",
       "     'hausdorff': 0.45779607771512226,\n",
       "     'MSDM2': 0.6846021234992558},\n",
       "    1: {'l2': tensor(6.4142),\n",
       "     'chamfer_distance': tensor(2.9270, dtype=torch.float64),\n",
       "     'IoU': tensor(0.0078),\n",
       "     'hausdorff': 1.6080566021101776,\n",
       "     'MSDM2': 0.6925274642850163}},\n",
       "   283: {0: {'l2': tensor(4.7121),\n",
       "     'chamfer_distance': tensor(0.0037, dtype=torch.float64),\n",
       "     'IoU': tensor(0.0113),\n",
       "     'hausdorff': 0.30808855787256906,\n",
       "     'MSDM2': 0.6644430133346445},\n",
       "    1: {'l2': tensor(4.7121),\n",
       "     'chamfer_distance': tensor(3.0037, dtype=torch.float64),\n",
       "     'IoU': tensor(0.0113),\n",
       "     'hausdorff': 1.5636497648494758,\n",
       "     'MSDM2': 0.6670689734774737}}}},\n",
       " 64: {'tensor': 4D TT-Tucker tensor:\n",
       "  \n",
       "   512 512 512 284\n",
       "    |   |   |   |\n",
       "   10  10  10  10\n",
       "   (0) (1) (2) (3)\n",
       "   / \\ / \\ / \\ / \\\n",
       "  1   10  64  10  1,\n",
       "  'metrics': {0: {0: {'l2': tensor(4.8400),\n",
       "     'chamfer_distance': tensor(0.0046, dtype=torch.float64),\n",
       "     'IoU': tensor(0.0074),\n",
       "     'hausdorff': 0.3112272589311034,\n",
       "     'MSDM2': 0.6554162091953973},\n",
       "    1: {'l2': tensor(4.8400),\n",
       "     'chamfer_distance': tensor(3.0440, dtype=torch.float64),\n",
       "     'IoU': tensor(0.0077),\n",
       "     'hausdorff': 1.6074975597714614,\n",
       "     'MSDM2': 0.6758442086594884}},\n",
       "   142: {0: {'l2': tensor(6.4177),\n",
       "     'chamfer_distance': tensor(0.0148, dtype=torch.float64),\n",
       "     'IoU': tensor(0.0075),\n",
       "     'hausdorff': 0.4577967181705591,\n",
       "     'MSDM2': 0.6849711484792961},\n",
       "    1: {'l2': tensor(6.4177),\n",
       "     'chamfer_distance': tensor(2.9347, dtype=torch.float64),\n",
       "     'IoU': tensor(0.0078),\n",
       "     'hausdorff': 1.608054445958221,\n",
       "     'MSDM2': 0.6930964926327843}},\n",
       "   283: {0: {'l2': tensor(4.7127),\n",
       "     'chamfer_distance': tensor(0.0039, dtype=torch.float64),\n",
       "     'IoU': tensor(0.0112),\n",
       "     'hausdorff': 0.3080853741247951,\n",
       "     'MSDM2': 0.6642708901282488},\n",
       "    1: {'l2': tensor(4.7127),\n",
       "     'chamfer_distance': tensor(2.9992, dtype=torch.float64),\n",
       "     'IoU': tensor(0.0112),\n",
       "     'hausdorff': 1.5636174874409865,\n",
       "     'MSDM2': 0.6668272802380932}}}},\n",
       " 10: {'tensor': 4D TT-Tucker tensor:\n",
       "  \n",
       "   512 512 512 284\n",
       "    |   |   |   |\n",
       "   10  10  10  10\n",
       "   (0) (1) (2) (3)\n",
       "   / \\ / \\ / \\ / \\\n",
       "  1   10  10  10  1,\n",
       "  'metrics': {0: {0: {'l2': tensor(5.0581),\n",
       "     'chamfer_distance': tensor(0.0058, dtype=torch.float64),\n",
       "     'IoU': tensor(0.0070),\n",
       "     'hausdorff': 0.31340223819962865,\n",
       "     'MSDM2': 0.6611354190472213},\n",
       "    1: {'l2': tensor(5.0581),\n",
       "     'chamfer_distance': tensor(3.0572, dtype=torch.float64),\n",
       "     'IoU': tensor(0.0072),\n",
       "     'hausdorff': 1.6073380484783506,\n",
       "     'MSDM2': 0.6793585041965506}},\n",
       "   142: {0: {'l2': tensor(7.2206),\n",
       "     'chamfer_distance': tensor(0.0169, dtype=torch.float64),\n",
       "     'IoU': tensor(0.0066),\n",
       "     'hausdorff': 0.46724749671507243,\n",
       "     'MSDM2': 0.7255041639030344},\n",
       "    1: {'l2': tensor(7.2206),\n",
       "     'chamfer_distance': tensor(2.9380, dtype=torch.float64),\n",
       "     'IoU': tensor(0.0065),\n",
       "     'hausdorff': 1.6080583027143178,\n",
       "     'MSDM2': 0.6894033523877964}},\n",
       "   283: {0: {'l2': tensor(5.0346),\n",
       "     'chamfer_distance': tensor(0.0052, dtype=torch.float64),\n",
       "     'IoU': tensor(0.0078),\n",
       "     'hausdorff': 0.3096965010047401,\n",
       "     'MSDM2': 0.6693848045265318},\n",
       "    1: {'l2': tensor(5.0346),\n",
       "     'chamfer_distance': tensor(3.0138, dtype=torch.float64),\n",
       "     'IoU': tensor(0.0078),\n",
       "     'hausdorff': 1.5634117411256936,\n",
       "     'MSDM2': 0.671840764367825}}}},\n",
       " 5: {'tensor': 4D TT-Tucker tensor:\n",
       "  \n",
       "   512 512 512 284\n",
       "    |   |   |   |\n",
       "   10  10  10  10\n",
       "   (0) (1) (2) (3)\n",
       "   / \\ / \\ / \\ / \\\n",
       "  1   5   5   5   1,\n",
       "  'metrics': {0: {0: {'l2': tensor(6.1895),\n",
       "     'chamfer_distance': tensor(0.0072, dtype=torch.float64),\n",
       "     'IoU': tensor(0.0072),\n",
       "     'hausdorff': 0.32171116616268614,\n",
       "     'MSDM2': 0.6970279498335028},\n",
       "    1: {'l2': tensor(6.1895),\n",
       "     'chamfer_distance': tensor(3.0934, dtype=torch.float64),\n",
       "     'IoU': tensor(0.0072),\n",
       "     'hausdorff': 1.610631779738677,\n",
       "     'MSDM2': 0.6853626565428269}},\n",
       "   142: {0: {'l2': tensor(8.1345),\n",
       "     'chamfer_distance': tensor(0.0223, dtype=torch.float64),\n",
       "     'IoU': tensor(0.0046),\n",
       "     'hausdorff': 0.4928942911417044,\n",
       "     'MSDM2': 0.751312186242895},\n",
       "    1: {'l2': tensor(8.1345),\n",
       "     'chamfer_distance': tensor(3.0837, dtype=torch.float64),\n",
       "     'IoU': tensor(0.0048),\n",
       "     'hausdorff': 1.752582948055392,\n",
       "     'MSDM2': 0.6801341166930853}},\n",
       "   283: {0: {'l2': tensor(6.2789),\n",
       "     'chamfer_distance': tensor(0.0068, dtype=torch.float64),\n",
       "     'IoU': tensor(0.0084),\n",
       "     'hausdorff': 0.30339967493772996,\n",
       "     'MSDM2': 0.7021295793313689},\n",
       "    1: {'l2': tensor(6.2789),\n",
       "     'chamfer_distance': tensor(3.0505, dtype=torch.float64),\n",
       "     'IoU': tensor(0.0084),\n",
       "     'hausdorff': 1.5674022163067776,\n",
       "     'MSDM2': 0.6610640880674422}}}},\n",
       " 4: {'tensor': 4D TT-Tucker tensor:\n",
       "  \n",
       "   512 512 512 284\n",
       "    |   |   |   |\n",
       "   10  10  10  10\n",
       "   (0) (1) (2) (3)\n",
       "   / \\ / \\ / \\ / \\\n",
       "  1   4   4   4   1,\n",
       "  'metrics': {0: {0: {'l2': tensor(6.3594),\n",
       "     'chamfer_distance': tensor(0.0092, dtype=torch.float64),\n",
       "     'IoU': tensor(0.0067),\n",
       "     'hausdorff': 0.3226828092979294,\n",
       "     'MSDM2': 0.6976678261721159},\n",
       "    1: {'l2': tensor(6.3594),\n",
       "     'chamfer_distance': tensor(3.1506, dtype=torch.float64),\n",
       "     'IoU': tensor(0.0069),\n",
       "     'hausdorff': 1.6581736096715929,\n",
       "     'MSDM2': 0.686132580832086}},\n",
       "   142: {0: {'l2': tensor(8.2008),\n",
       "     'chamfer_distance': tensor(0.0225, dtype=torch.float64),\n",
       "     'IoU': tensor(0.0043),\n",
       "     'hausdorff': 0.49677820662524697,\n",
       "     'MSDM2': 0.7541260154178284},\n",
       "    1: {'l2': tensor(8.2008),\n",
       "     'chamfer_distance': tensor(3.0643, dtype=torch.float64),\n",
       "     'IoU': tensor(0.0044),\n",
       "     'hausdorff': 1.7477576438463267,\n",
       "     'MSDM2': 0.6797606402141091}},\n",
       "   283: {0: {'l2': tensor(6.4444),\n",
       "     'chamfer_distance': tensor(0.0070, dtype=torch.float64),\n",
       "     'IoU': tensor(0.0077),\n",
       "     'hausdorff': 0.30534358797293426,\n",
       "     'MSDM2': 0.7083106190623493},\n",
       "    1: {'l2': tensor(6.4444),\n",
       "     'chamfer_distance': tensor(3.0863, dtype=torch.float64),\n",
       "     'IoU': tensor(0.0078),\n",
       "     'hausdorff': 1.5945645898182585,\n",
       "     'MSDM2': 0.6669551209328478}}}}}"
      ]
     },
     "execution_count": 14,
     "metadata": {},
     "output_type": "execute_result"
    }
   ],
   "source": [
    "ckpt[(-0.005, 0.005)][tucker_rank]"
   ]
  },
  {
   "cell_type": "code",
   "execution_count": 15,
   "id": "80528e34",
   "metadata": {},
   "outputs": [],
   "source": [
    "metrics = {'l2': [], 'chamfer_distance': [], 'IoU': [], 'hausdorff': [], 'MSDM2': []}\n",
    "\n",
    "for tucker_rank in ckpt[(-0.005, 0.005)].keys():\n",
    "    for key in metrics.keys():\n",
    "        metrics[key].append([])\n",
    "    for tt_rank in ckpt[(-0.005, 0.005)][tucker_rank].keys():\n",
    "        for key in metrics.keys():\n",
    "            metrics[key][-1].append(ckpt[(-0.005, 0.005)][tucker_rank][tt_rank]['metrics'][142][0][key])"
   ]
  },
  {
   "cell_type": "code",
   "execution_count": 22,
   "id": "c9aa10d9",
   "metadata": {
    "scrolled": false
   },
   "outputs": [
    {
     "data": {
      "image/png": "[encoded data removed]",
      "text/plain": [
       "<Figure size 576x576 with 1 Axes>"
      ]
     },
     "metadata": {
      "needs_background": "light"
     },
     "output_type": "display_data"
    },
    {
     "data": {
      "image/png": "[encoded data removed]",
      "text/plain": [
       "<Figure size 576x576 with 1 Axes>"
      ]
     },
     "metadata": {
      "needs_background": "light"
     },
     "output_type": "display_data"
    },
    {
     "data": {
      "image/png": "[encoded data removed]",
      "text/plain": [
       "<Figure size 576x576 with 1 Axes>"
      ]
     },
     "metadata": {
      "needs_background": "light"
     },
     "output_type": "display_data"
    },
    {
     "data": {
      "image/png": "[encoded data removed]",
      "text/plain": [
       "<Figure size 576x576 with 1 Axes>"
      ]
     },
     "metadata": {
      "needs_background": "light"
     },
     "output_type": "display_data"
    },
    {
     "data": {
      "image/png": "[encoded data removed]",
      "text/plain": [
       "<Figure size 576x576 with 1 Axes>"
      ]
     },
     "metadata": {
      "needs_background": "light"
     },
     "output_type": "display_data"
    }
   ],
   "source": [
    "for key in metrics.keys():\n",
    "    plt.figure(figsize=(8, 8))\n",
    "    for i, tucker_rank in enumerate(ckpt[(-0.005, 0.005)].keys()):\n",
    "        plt.plot(ckpt[(-0.005, 0.005)][tucker_rank].keys(), metrics[key][i], label=f'Tucker rank: {tucker_rank}')\n",
    "    plt.legend(loc='best', fontsize=20)\n",
    "    plt.xlabel('TT Rank', fontsize=20)\n",
    "    plt.ylabel(key, fontsize=20)\n",
    "    plt.tick_params(axis='both', which='major', labelsize=20)\n",
    "    plt.tick_params(axis='both', which='minor', labelsize=15)\n",
    "    plt.show()"
   ]
  },
  {
   "cell_type": "code",
   "execution_count": 9,
   "id": "5941c963",
   "metadata": {},
   "outputs": [
    {
     "data": {
      "text/plain": [
       "{0: {'l2': tensor(2.4450),\n",
       "  'chamfer_distance': tensor(0.0003, dtype=torch.float64),\n",
       "  'IoU': tensor(0.1517),\n",
       "  'hausdorff': 0.14967291510373068,\n",
       "  'MSDM2': 0.4830676574872463},\n",
       " 1: {'l2': tensor(2.4450),\n",
       "  'chamfer_distance': tensor(2.8520, dtype=torch.float64),\n",
       "  'IoU': tensor(0.1675),\n",
       "  'hausdorff': 1.5703948261158056,\n",
       "  'MSDM2': 0.6856523314933698}}"
      ]
     },
     "execution_count": 9,
     "metadata": {},
     "output_type": "execute_result"
    }
   ],
   "source": [
    "ckpt[(-0.005, 0.005)][100][284]['metrics'][142]"
   ]
  },
  {
   "cell_type": "code",
   "execution_count": 10,
   "id": "d2f7e69e",
   "metadata": {},
   "outputs": [
    {
     "data": {
      "text/plain": [
       "{0: {'l2': tensor(8.1138),\n",
       "  'chamfer_distance': tensor(0.0191, dtype=torch.float64),\n",
       "  'IoU': tensor(0.0064),\n",
       "  'hausdorff': 0.49472183789141283,\n",
       "  'MSDM2': 0.7244810918461465},\n",
       " 1: {'l2': tensor(8.1138),\n",
       "  'chamfer_distance': tensor(2.8482, dtype=torch.float64),\n",
       "  'IoU': tensor(0.0064),\n",
       "  'hausdorff': 1.5776987455238338,\n",
       "  'MSDM2': 0.698663546939093}}"
      ]
     },
     "execution_count": 10,
     "metadata": {},
     "output_type": "execute_result"
    }
   ],
   "source": [
    "ckpt[(-0.005, 0.005)][100][4]['metrics'][142]"
   ]
  },
  {
   "cell_type": "code",
   "execution_count": 23,
   "id": "42fa251c",
   "metadata": {},
   "outputs": [],
   "source": [
    "sdf = torch.load(\n",
    "    '/scratch2/data/cape_release/meshes/00032/longshort_flying_eagle/posed/sdf_watertight_longshort_flying_eagle.000001.pt')"
   ]
  },
  {
   "cell_type": "code",
   "execution_count": 54,
   "id": "cad2d9f5",
   "metadata": {},
   "outputs": [],
   "source": [
    "import trimesh\n",
    "mesh = trimesh.load(\n",
    "    '/scratch2/data/cape_release/meshes/00032/longshort_flying_eagle/posed/watertight_longshort_flying_eagle.000001.obj')"
   ]
  },
  {
   "cell_type": "code",
   "execution_count": 43,
   "id": "46147573",
   "metadata": {},
   "outputs": [
    {
     "name": "stdout",
     "output_type": "stream",
     "text": [
      "Marching cube started\n",
      "Marching cube finished. Took: 1.2690396308898926 s.\n"
     ]
    }
   ],
   "source": [
    "import skimage\n",
    "import tqdm\n",
    "import time\n",
    "\n",
    "res = torch.tensor([512] * 3)\n",
    "coords = torch.tensor(sdf['coords'])\n",
    "\n",
    "tqdm.tqdm.write('Marching cube started')\n",
    "t0 = time.time()\n",
    "verts, faces, _, _ = skimage.measure.marching_cubes(\n",
    "    sdf['sdf'].numpy(),\n",
    "    level=0.,\n",
    "    spacing=(coords[3:] - coords[:3]) / res)\n",
    "verts = torch.tensor(verts.copy())\n",
    "faces = torch.tensor(faces.copy())\n",
    "tqdm.tqdm.write(f'Marching cube finished. Took: {time.time() - t0} s.')\n",
    "mesh_pred = trimesh.base.Trimesh(vertices=verts, faces=faces)"
   ]
  },
  {
   "cell_type": "code",
   "execution_count": 44,
   "id": "5ff3ed80",
   "metadata": {},
   "outputs": [],
   "source": [
    "mesh_sdf = trimesh.base.Trimesh(vertices=verts, faces=faces)"
   ]
  },
  {
   "cell_type": "code",
   "execution_count": 45,
   "id": "cf3779cb",
   "metadata": {},
   "outputs": [],
   "source": [
    "import kaolin as kal"
   ]
  },
  {
   "cell_type": "code",
   "execution_count": 50,
   "id": "c4ca3ecf",
   "metadata": {},
   "outputs": [
    {
     "name": "stdout",
     "output_type": "stream",
     "text": [
      "MSDM2 computation started\n",
      "MSDM2 computation finished. Took: 323.46882700920105 s.\n",
      "Asking to calculate curvature\n",
      "Asking to calculate curvature\n",
      "Curvature warning: 108 isolated vertices were skipped.\n",
      "Asking to calculate curvature\n",
      "Asking to calculate curvature\n",
      "Curvature warning: 108 isolated vertices were skipped.\n",
      "Asking to calculate curvature\n",
      "Asking to calculate curvature\n",
      "Curvature warning: 108 isolated vertices were skipped.\n"
     ]
    }
   ],
   "source": [
    "num_sample_points = 30000\n",
    "\n",
    "tqdm.tqdm.write('Sampling points started')\n",
    "t0 = time.time()\n",
    "points_gt, _ = trimesh.sample.sample_surface(mesh, num_sample_points)\n",
    "points_pred, _ = trimesh.sample.sample_surface(mesh_sdf, num_sample_points)\n",
    "tqdm.tqdm.write(f'Sampling points finished. Took: {time.time() - t0} s.')\n",
    "\n",
    "points_gt = torch.tensor(points_gt[None]).cuda()\n",
    "points_pred = torch.tensor(points_pred[None]).cuda()\n",
    "\n",
    "chamfer_distance_error = kal.metrics.pointcloud.chamfer_distance(points_gt, points_pred)[0].detach().cpu()\n",
    "del points_gt\n",
    "del points_pred\n",
    "\n",
    "tqdm.tqdm.write('Voxelgrid conversion started')\n",
    "t0 = time.time()\n",
    "vg_pred = kal.ops.conversions.trianglemeshes_to_voxelgrids(verts[None], faces, res.max().item())\n",
    "vg_gt = kal.ops.conversions.trianglemeshes_to_voxelgrids(\n",
    "    torch.tensor(mesh.vertices[None]),\n",
    "    torch.tensor(mesh.faces),\n",
    "    res.max().item())\n",
    "tqdm.tqdm.write(f'Voxelgrid conversion finished. Took: {time.time() - t0} s.')\n",
    "\n",
    "IoU = kal.metrics.voxelgrid.iou(vg_pred, vg_gt)\n",
    "del vg_pred\n",
    "del vg_gt\n",
    "\n",
    "tqdm.tqdm.write('hausdorff computation started')\n",
    "t0 = time.time()\n",
    "hausdorff_dist = hausdorff(torch.tensor(mesh.vertices), torch.tensor(mesh.faces), verts, faces)\n",
    "tqdm.tqdm.write(f'hausdorff computation finished. Took: {time.time() - t0} s.')\n",
    "\n",
    "tqdm.tqdm.write('MSDM2 computation started')\n",
    "t0 = time.time()\n",
    "MSDM2_err = MSDM2(torch.tensor(mesh.vertices), torch.tensor(mesh.faces), verts, faces)\n",
    "tqdm.tqdm.write(f'MSDM2 computation finished. Took: {time.time() - t0} s.')"
   ]
  },
  {
   "cell_type": "code",
   "execution_count": 52,
   "id": "0e9ab2b4",
   "metadata": {},
   "outputs": [
    {
     "data": {
      "text/plain": [
       "{'chamfer_distance': tensor(2.8865, dtype=torch.float64),\n",
       " 'IoU': tensor(0.6830),\n",
       " 'hausdorff': 1.5360478013232362,\n",
       " 'MSDM2': 0.7120992443275281}"
      ]
     },
     "execution_count": 52,
     "metadata": {},
     "output_type": "execute_result"
    }
   ],
   "source": [
    "{\n",
    "    'chamfer_distance': chamfer_distance_error,\n",
    "    'IoU': IoU[0],\n",
    "    'hausdorff': hausdorff_dist,\n",
    "    'MSDM2': MSDM2_err}"
   ]
  },
  {
   "cell_type": "code",
   "execution_count": 59,
   "id": "d2a5df3f",
   "metadata": {},
   "outputs": [],
   "source": [
    "obj = trimesh.exchange.obj.export_obj(mesh_sdf, include_texture=False)\n",
    "with open('./mesh_sdf.obj', 'w') as f:\n",
    "    f.write(obj)\n",
    "\n",
    "obj = trimesh.exchange.obj.export_obj(mesh, include_texture=False)\n",
    "with open('./mesh.obj', 'w') as f:\n",
    "    f.write(obj)"
   ]
  },
  {
   "cell_type": "code",
   "execution_count": 55,
   "id": "e698aa18",
   "metadata": {},
   "outputs": [
    {
     "data": {
      "text/plain": [
       "<trimesh.Trimesh(vertices.shape=(154073, 3), faces.shape=(308834, 3))>"
      ]
     },
     "execution_count": 55,
     "metadata": {},
     "output_type": "execute_result"
    }
   ],
   "source": [
    "mesh"
   ]
  },
  {
   "cell_type": "code",
   "execution_count": 56,
   "id": "270aeaee",
   "metadata": {},
   "outputs": [
    {
     "data": {
      "text/plain": [
       "<trimesh.Trimesh(vertices.shape=(223970, 3), faces.shape=(447956, 3))>"
      ]
     },
     "execution_count": 56,
     "metadata": {},
     "output_type": "execute_result"
    }
   ],
   "source": [
    "mesh_sdf"
   ]
  },
  {
   "cell_type": "code",
   "execution_count": 68,
   "id": "c8a5a775",
   "metadata": {},
   "outputs": [],
   "source": [
    "rec = ckpt[(-0.005, 0.005)][20][4]['tensor'][..., 0].torch()"
   ]
  },
  {
   "cell_type": "code",
   "execution_count": 69,
   "id": "99e937c7",
   "metadata": {},
   "outputs": [
    {
     "name": "stdout",
     "output_type": "stream",
     "text": [
      "Marching cube started\n",
      "Marching cube finished. Took: 1.2451372146606445 s.\n"
     ]
    }
   ],
   "source": [
    "import skimage\n",
    "import tqdm\n",
    "import time\n",
    "\n",
    "res = torch.tensor([512] * 3)\n",
    "coords = torch.tensor(sdf['coords'])\n",
    "\n",
    "tqdm.tqdm.write('Marching cube started')\n",
    "t0 = time.time()\n",
    "verts, faces, _, _ = skimage.measure.marching_cubes(\n",
    "    rec.numpy(),\n",
    "    level=0.,\n",
    "    spacing=(coords[3:] - coords[:3]) / res)\n",
    "verts = torch.tensor(verts.copy())\n",
    "faces = torch.tensor(faces.copy())\n",
    "tqdm.tqdm.write(f'Marching cube finished. Took: {time.time() - t0} s.')\n",
    "mesh_pred = trimesh.base.Trimesh(vertices=verts, faces=faces)"
   ]
  },
  {
   "cell_type": "code",
   "execution_count": 70,
   "id": "a8b8e852",
   "metadata": {},
   "outputs": [],
   "source": [
    "obj = trimesh.exchange.obj.export_obj(mesh_pred, include_texture=False)\n",
    "with open('./mesh_pred2.obj', 'w') as f:\n",
    "    f.write(obj)"
   ]
  },
  {
   "cell_type": "code",
   "execution_count": null,
   "id": "5ab1ee1a",
   "metadata": {},
   "outputs": [],
   "source": []
  }
 ],
 "metadata": {
  "kernelspec": {
   "display_name": "Python 3 (ipykernel)",
   "language": "python",
   "name": "python3"
  },
  "language_info": {
   "codemirror_mode": {
    "name": "ipython",
    "version": 3
   },
   "file_extension": ".py",
   "mimetype": "text/x-python",
   "name": "python",
   "nbconvert_exporter": "python",
   "pygments_lexer": "ipython3",
   "version": "3.10.4"
  }
 },
 "nbformat": 4,
 "nbformat_minor": 5
}
