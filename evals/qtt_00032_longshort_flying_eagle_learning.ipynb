{
 "cells": [
  {
   "cell_type": "code",
   "execution_count": 1,
   "id": "89b1a122",
   "metadata": {},
   "outputs": [],
   "source": [
    "%load_ext autoreload\n",
    "%autoreload 1\n",
    "\n",
    "import sys\n",
    "sys.path.append('..')\n",
    "import os\n",
    "import skimage\n",
    "import time\n",
    "import kaolin as kal\n",
    "import tntorch as tn\n",
    "import torch\n",
    "import trimesh\n",
    "import tqdm\n",
    "import os.path as osp\n",
    "import matplotlib.pyplot as plt\n",
    "from t4dt.metrics import compute_metrics, hausdorff, MSDM2\n",
    "from t4dt.utils import sdf2mesh, get_3dtensors_patches\n",
    "from t4dt.t4dt import reduce_tucker, get_qtt_frame, qtt2tensor3d"
   ]
  },
  {
   "cell_type": "code",
   "execution_count": 2,
   "id": "c374c5a1",
   "metadata": {},
   "outputs": [],
   "source": [
    "ckpt = torch.load('../logs/sweeps/qtt_00032_longshort_flying_eagle_high_ranks_high_thr.pt')"
   ]
  },
  {
   "cell_type": "code",
   "execution_count": 3,
   "id": "03de6f48",
   "metadata": {},
   "outputs": [],
   "source": [
    "scene = ckpt[(-0.05,0.05)][400]['compressed_scene']"
   ]
  },
  {
   "cell_type": "code",
   "execution_count": 16,
   "id": "ed8941f8",
   "metadata": {},
   "outputs": [],
   "source": [
    "def invert(sdf, clamp_value):\n",
    "    df = sdf.abs()\n",
    "    sign = torch.sign(sdf)\n",
    "    sign[sdf == 0] = 1\n",
    "    return sign * torch.exp(-df.clamp_max(clamp_value))\n",
    "\n",
    "def invert_back(inv):\n",
    "    sign = torch.sign(inv)\n",
    "    rec = -torch.log(torch.abs(inv))\n",
    "    rec[~torch.isfinite(rec)] = 0\n",
    "    return sign * rec"
   ]
  },
  {
   "cell_type": "code",
   "execution_count": 5,
   "id": "0cc23ce8",
   "metadata": {},
   "outputs": [],
   "source": [
    "max_rank = 400\n",
    "lrs = scene.clone()\n",
    "rmax = 800\n",
    "ranks_tt = scene.ranks_tt.clone()\n",
    "ranks_tt[4::4] = torch.where(ranks_tt[4::4] < rmax, ranks_tt[4::4], rmax)\n",
    "ranks_tt[3::4] = torch.where(ranks_tt[3::4] < rmax, ranks_tt[3::4], rmax)\n",
    "lrs.round_tt(rmax=ranks_tt[1:-1])\n",
    "\n",
    "frame0_qtt = get_qtt_frame(lrs, 0)"
   ]
  },
  {
   "cell_type": "code",
   "execution_count": 6,
   "id": "4e8fc52f",
   "metadata": {},
   "outputs": [],
   "source": [
    "data_dir = '/scratch2/data/cape_release/'\n",
    "model = '00032'\n",
    "scene = 'longshort_flying_eagle'\n",
    "frames = []\n",
    "for frame in sorted(os.listdir(osp.join(data_dir, 'meshes', model, scene, 'posed'))):\n",
    "    if frame.startswith('sdf'):\n",
    "        frames.append(frame)\n",
    "        \n",
    "folder = osp.join(data_dir, 'meshes', model, scene, 'posed')\n",
    "files = [(osp.join(folder, frame), osp.join(folder, frame[4:-2] + 'obj'))\n",
    "            for frame in frames]\n",
    "sdf0 = torch.load(files[0][0])\n",
    "coords = torch.tensor(\n",
    "    torch.load('/scratch2/data/cape_release/meshes/00032/longshort_flying_eagle/coords.pt')['coords'])"
   ]
  },
  {
   "cell_type": "code",
   "execution_count": 12,
   "id": "50bcf878",
   "metadata": {},
   "outputs": [],
   "source": [
    "# NOTE: ideas\n",
    "# 1. standartization входов и выходов\n",
    "# 2. обрезка после cnn\n",
    "# 3. границы - проверить значения\n",
    "# 4. мб выкинуть бн\n",
    "# 5. radam\n",
    "# 6. сколько артифактов попадает в receptive field?\n",
    "# 7. сравнить с блюром\n",
    "# 8. positional encoding input for cnn?\n",
    "# 9. siren?"
   ]
  },
  {
   "cell_type": "code",
   "execution_count": 14,
   "id": "d2bb4864",
   "metadata": {},
   "outputs": [],
   "source": [
    "# NOTE: slow near boundary voxels search\n",
    "\n",
    "# result = []\n",
    "\n",
    "# offsets = torch.tensor([\n",
    "#    [-1, -1, -1],\n",
    "#    [-1, -1,  0],\n",
    "#    [-1, -1,  1],\n",
    "#    [-1,  0, -1],\n",
    "#    [-1,  0,  0],\n",
    "#    [-1,  0,  1],\n",
    "#    [-1,  1, -1],\n",
    "#    [-1,  1,  0],\n",
    "#    [-1,  1,  1],\n",
    "#    [ 0, -1, -1],\n",
    "#    [ 0, -1,  0],\n",
    "#    [ 0, -1,  1],\n",
    "#    [ 0,  0, -1],\n",
    "#    [ 0,  0,  0],\n",
    "#    [ 0,  0,  1],\n",
    "#    [ 0,  1, -1],\n",
    "#    [ 0,  1,  0],\n",
    "#    [ 0,  1,  1],\n",
    "#    [ 1, -1, -1],\n",
    "#    [ 1, -1,  0],\n",
    "#    [ 1, -1,  1],\n",
    "#    [ 1,  0, -1],\n",
    "#    [ 1,  0,  0],\n",
    "#    [ 1,  0,  1],\n",
    "#    [ 1,  1, -1],\n",
    "#    [ 1,  1,  0],\n",
    "#    [ 1,  1,  1]])\n",
    "\n",
    "# for i in range(512):\n",
    "#     for j in range(512):\n",
    "#         for k in range(512):\n",
    "#             p = torch.tensor([i, j, k])\n",
    "#             candidates = p + offsets\n",
    "#             candidates.clamp_min_(0)\n",
    "#             candidates.clamp_max_(511)\n",
    "#             signs = torch.sign(sdf0['sdf'][candidates[:, 0], candidates[:, 1], candidates[:, 2]])\n",
    "#             if torch.any(signs != torch.sign(sdf0['sdf'][p[0], p[1], p[2]])):\n",
    "#                 result.append(p)"
   ]
  },
  {
   "cell_type": "code",
   "execution_count": 7,
   "id": "31552a30",
   "metadata": {},
   "outputs": [
    {
     "name": "stdout",
     "output_type": "stream",
     "text": [
      "make the cores trainable\n"
     ]
    }
   ],
   "source": [
    "for core in frame0_qtt.cores:\n",
    "    core.requires_grad_()\n",
    "print('make the cores trainable')"
   ]
  },
  {
   "cell_type": "code",
   "execution_count": 8,
   "id": "fd019ca8",
   "metadata": {},
   "outputs": [],
   "source": [
    "import torch.nn as nn\n",
    "import torch.nn.functional as F\n",
    "\n",
    "\n",
    "class CNN(nn.Module):\n",
    "    def __init__(self):\n",
    "        super().__init__()\n",
    "        self.conv1 = nn.Conv3d(1, 6, 5)\n",
    "        self.conv2 = nn.Conv3d(6, 16, 5)\n",
    "        self.conv3 = nn.Conv3d(16, 1, 5)\n",
    "        self.bn1 = torch.nn.BatchNorm3d(1)\n",
    "        self.gelu = torch.nn.GELU()\n",
    "        self.rec_field = 13\n",
    "\n",
    "    def forward(self, x):\n",
    "        x = self.bn1(x)\n",
    "        x = self.gelu(self.conv1(x))\n",
    "        x = self.gelu(self.conv2(x))\n",
    "        x = self.conv3(x)\n",
    "        return x\n",
    "\n",
    "\n",
    "net = CNN()"
   ]
  },
  {
   "cell_type": "code",
   "execution_count": 9,
   "id": "73b45227",
   "metadata": {},
   "outputs": [],
   "source": [
    "res = net(torch.rand((1, 1, 13, 13, 13)))"
   ]
  },
  {
   "cell_type": "code",
   "execution_count": 10,
   "id": "33e0afaa",
   "metadata": {},
   "outputs": [],
   "source": [
    "idxs = torch.load(\n",
    "    '/scratch2/data/cape_release/meshes/00032/longshort_flying_eagle/near_surface_voxel_idxs_cross.pt')"
   ]
  },
  {
   "cell_type": "code",
   "execution_count": 11,
   "id": "d38f4899",
   "metadata": {},
   "outputs": [],
   "source": [
    "MIN_TSDF = -0.05\n",
    "MAX_TSDF = 0.05\n",
    "NUM_EPOCHS = 100\n",
    "NUM_SAMPLES = 5000\n",
    "RES = 512\n",
    "\n",
    "optimizer = torch.optim.SGD(frame0_qtt.cores + list(net.parameters()), lr=1e-3)\n",
    "gt_sdf = sdf0['sdf']"
   ]
  },
  {
   "cell_type": "code",
   "execution_count": 29,
   "id": "d99d9c36",
   "metadata": {
    "scrolled": true
   },
   "outputs": [
    {
     "name": "stdout",
     "output_type": "stream",
     "text": [
      "Batch: 0, loss: 1.3781309127807617\n",
      "Batch: 5000, loss: 1.3931143283843994\n",
      "Batch: 15000, loss: 1.3875826597213745\n",
      "Batch: 20000, loss: 1.4073865413665771\n",
      "Batch: 25000, loss: 1.32358717918396\n",
      "Batch: 30000, loss: 1.285507082939148\n",
      "Batch: 35000, loss: 1.423962116241455\n",
      "Batch: 40000, loss: 1.3753794431686401\n",
      "Batch: 45000, loss: 1.414846420288086\n",
      "Batch: 50000, loss: 1.4188364744186401\n",
      "Batch: 55000, loss: 1.3863054513931274\n",
      "Batch: 60000, loss: 1.3700129985809326\n",
      "Batch: 65000, loss: 1.4689780473709106\n",
      "Batch: 70000, loss: 1.427836298942566\n",
      "Batch: 75000, loss: 1.3767499923706055\n",
      "Batch: 80000, loss: 1.4170403480529785\n",
      "Batch: 85000, loss: 1.3882029056549072\n",
      "Batch: 90000, loss: 1.4170283079147339\n",
      "Batch: 95000, loss: 1.3594329357147217\n",
      "Batch: 100000, loss: 1.4054861068725586\n",
      "Batch: 105000, loss: 1.3923677206039429\n",
      "Batch: 110000, loss: 1.4077253341674805\n",
      "Batch: 115000, loss: 1.3883569240570068\n",
      "Batch: 120000, loss: 1.3901290893554688\n",
      "Batch: 125000, loss: 1.3951390981674194\n",
      "Batch: 130000, loss: 1.3770514726638794\n",
      "Batch: 135000, loss: 1.3828842639923096\n",
      "Batch: 140000, loss: 1.3931686878204346\n",
      "Batch: 145000, loss: 1.391474962234497\n",
      "Batch: 150000, loss: 1.389865517616272\n",
      "Batch: 155000, loss: 1.4182475805282593\n",
      "Batch: 160000, loss: 1.4010497331619263\n",
      "Batch: 165000, loss: 1.3898385763168335\n",
      "Batch: 170000, loss: 1.3739380836486816\n",
      "Batch: 175000, loss: 1.3939990997314453\n",
      "Batch: 180000, loss: 1.410499930381775\n",
      "Batch: 185000, loss: 1.3962551355361938\n",
      "Batch: 190000, loss: 1.3866008520126343\n",
      "Batch: 195000, loss: 1.4356523752212524\n",
      "Batch: 200000, loss: 1.442073941230774\n",
      "Batch: 205000, loss: 1.4676103591918945\n",
      "Batch: 210000, loss: 1.4181462526321411\n",
      "Batch: 215000, loss: 1.4128966331481934\n",
      "Batch: 220000, loss: 1.422258734703064\n",
      "Batch: 225000, loss: 1.4322550296783447\n",
      "Batch: 230000, loss: 1.408665418624878\n",
      "Batch: 235000, loss: 1.4442472457885742\n",
      "Batch: 240000, loss: 1.1934795379638672\n",
      "Batch: 245000, loss: 1.3842920064926147\n",
      "Batch: 250000, loss: 1.3971372842788696\n",
      "Batch: 255000, loss: 1.3943018913269043\n",
      "Batch: 260000, loss: 1.3995929956436157\n",
      "Batch: 265000, loss: 1.400484561920166\n",
      "Batch: 270000, loss: 1.3404059410095215\n",
      "Epoch: 0, loss: 1.395132303237915\n",
      "Batch: 0, loss: 1.3914337158203125\n",
      "Batch: 5000, loss: 1.399143099784851\n",
      "Batch: 10000, loss: 1.4130982160568237\n",
      "Batch: 15000, loss: 1.3948949575424194\n",
      "Batch: 20000, loss: 1.4081075191497803\n",
      "Batch: 25000, loss: 1.3225817680358887\n",
      "Batch: 30000, loss: 1.284786581993103\n",
      "Batch: 35000, loss: 1.4315582513809204\n",
      "Batch: 40000, loss: 1.3813594579696655\n",
      "Batch: 45000, loss: 1.4214030504226685\n",
      "Batch: 50000, loss: 1.4284493923187256\n",
      "Batch: 55000, loss: 1.3971503973007202\n",
      "Batch: 60000, loss: 1.3760532140731812\n",
      "Batch: 65000, loss: 1.4808647632598877\n",
      "Batch: 70000, loss: 1.4348101615905762\n",
      "Batch: 75000, loss: 1.3979144096374512\n",
      "Batch: 80000, loss: 1.4259991645812988\n",
      "Batch: 85000, loss: 1.3857823610305786\n",
      "Batch: 90000, loss: 1.4167606830596924\n",
      "Batch: 95000, loss: 1.3693394660949707\n",
      "Batch: 100000, loss: 1.4108611345291138\n",
      "Batch: 105000, loss: 1.4072613716125488\n",
      "Batch: 110000, loss: 1.4109686613082886\n",
      "Batch: 115000, loss: 1.388269066810608\n",
      "Batch: 120000, loss: 1.3905853033065796\n",
      "Batch: 125000, loss: 1.3954808712005615\n",
      "Batch: 130000, loss: 1.382485032081604\n",
      "Batch: 135000, loss: 1.395658016204834\n",
      "Batch: 140000, loss: 1.403057336807251\n",
      "Batch: 145000, loss: 1.3906630277633667\n",
      "Batch: 150000, loss: 1.394602656364441\n",
      "Batch: 155000, loss: 1.4204479455947876\n",
      "Batch: 160000, loss: 1.402741551399231\n",
      "Batch: 165000, loss: 1.3920475244522095\n",
      "Batch: 170000, loss: 1.3801381587982178\n",
      "Batch: 175000, loss: 1.3951001167297363\n",
      "Batch: 180000, loss: 1.4193978309631348\n",
      "Batch: 185000, loss: 1.4123504161834717\n",
      "Batch: 190000, loss: 1.386441946029663\n",
      "Batch: 195000, loss: 1.4389814138412476\n",
      "Batch: 200000, loss: 1.441925048828125\n",
      "Batch: 205000, loss: 1.4724937677383423\n",
      "Batch: 210000, loss: 1.426501750946045\n",
      "Batch: 215000, loss: 1.4169529676437378\n",
      "Batch: 220000, loss: 1.4319779872894287\n",
      "Batch: 225000, loss: 1.4448747634887695\n",
      "Batch: 230000, loss: 1.4067684412002563\n",
      "Batch: 235000, loss: 1.445211410522461\n",
      "Batch: 240000, loss: 1.1983141899108887\n",
      "Batch: 245000, loss: 1.3936023712158203\n",
      "Batch: 250000, loss: 1.397142767906189\n",
      "Batch: 255000, loss: 1.3972786664962769\n",
      "Batch: 260000, loss: 1.3985282182693481\n",
      "Batch: 265000, loss: 1.3966169357299805\n",
      "Batch: 270000, loss: 1.4032258987426758\n",
      "Epoch: 1, loss: 1.4015051126480103\n",
      "Batch: 0, loss: 1.3827265501022339\n",
      "Batch: 5000, loss: 1.389900803565979\n",
      "Batch: 10000, loss: 1.4051874876022339\n",
      "Batch: 15000, loss: 1.4018453359603882\n",
      "Batch: 20000, loss: 1.4061470031738281\n",
      "Batch: 25000, loss: 1.3163139820098877\n",
      "Batch: 30000, loss: 1.2868711948394775\n",
      "Batch: 35000, loss: 1.4337238073349\n",
      "Batch: 45000, loss: 1.4229083061218262\n",
      "Batch: 50000, loss: 1.4288454055786133\n",
      "Batch: 55000, loss: 1.397133231163025\n",
      "Batch: 60000, loss: 1.3820496797561646\n",
      "Batch: 65000, loss: 1.4802031517028809\n",
      "Batch: 70000, loss: 1.4288562536239624\n",
      "Batch: 75000, loss: 1.3990064859390259\n",
      "Batch: 80000, loss: 1.4227482080459595\n",
      "Batch: 85000, loss: 1.384993314743042\n",
      "Batch: 90000, loss: 1.4113662242889404\n",
      "Batch: 95000, loss: 1.3664934635162354\n",
      "Batch: 100000, loss: 1.405275583267212\n",
      "Batch: 105000, loss: 1.4111977815628052\n",
      "Batch: 110000, loss: 1.4134137630462646\n"
     ]
    },
    {
     "ename": "KeyboardInterrupt",
     "evalue": "",
     "output_type": "error",
     "traceback": [
      "\u001b[0;31m---------------------------------------------------------------------------\u001b[0m",
      "\u001b[0;31mKeyboardInterrupt\u001b[0m                         Traceback (most recent call last)",
      "Input \u001b[0;32mIn [29]\u001b[0m, in \u001b[0;36m<cell line: 3>\u001b[0;34m()\u001b[0m\n\u001b[1;32m     17\u001b[0m clamped_gt \u001b[38;5;241m=\u001b[39m clamped_gt\u001b[38;5;241m.\u001b[39mclamp_max(MAX_TSDF)\u001b[38;5;241m.\u001b[39mclamp_min(MIN_TSDF)\n\u001b[1;32m     18\u001b[0m loss \u001b[38;5;241m=\u001b[39m ((invert(clamped_pred, MAX_TSDF) \u001b[38;5;241m-\u001b[39m invert(clamped_gt, MAX_TSDF))\u001b[38;5;241m*\u001b[39m\u001b[38;5;241m*\u001b[39m\u001b[38;5;241m2\u001b[39m)\u001b[38;5;241m.\u001b[39mmean()\n\u001b[0;32m---> 19\u001b[0m \u001b[43mloss\u001b[49m\u001b[38;5;241;43m.\u001b[39;49m\u001b[43mbackward\u001b[49m\u001b[43m(\u001b[49m\u001b[43m)\u001b[49m\n\u001b[1;32m     20\u001b[0m epoch_loss \u001b[38;5;241m+\u001b[39m\u001b[38;5;241m=\u001b[39m loss\n\u001b[1;32m     21\u001b[0m num_batches \u001b[38;5;241m+\u001b[39m\u001b[38;5;241m=\u001b[39m \u001b[38;5;241m1\u001b[39m\n",
      "File \u001b[0;32m/scratch2/pyttgp/lib/python3.10/site-packages/torch/_tensor.py:363\u001b[0m, in \u001b[0;36mTensor.backward\u001b[0;34m(self, gradient, retain_graph, create_graph, inputs)\u001b[0m\n\u001b[1;32m    354\u001b[0m \u001b[38;5;28;01mif\u001b[39;00m has_torch_function_unary(\u001b[38;5;28mself\u001b[39m):\n\u001b[1;32m    355\u001b[0m     \u001b[38;5;28;01mreturn\u001b[39;00m handle_torch_function(\n\u001b[1;32m    356\u001b[0m         Tensor\u001b[38;5;241m.\u001b[39mbackward,\n\u001b[1;32m    357\u001b[0m         (\u001b[38;5;28mself\u001b[39m,),\n\u001b[0;32m   (...)\u001b[0m\n\u001b[1;32m    361\u001b[0m         create_graph\u001b[38;5;241m=\u001b[39mcreate_graph,\n\u001b[1;32m    362\u001b[0m         inputs\u001b[38;5;241m=\u001b[39minputs)\n\u001b[0;32m--> 363\u001b[0m \u001b[43mtorch\u001b[49m\u001b[38;5;241;43m.\u001b[39;49m\u001b[43mautograd\u001b[49m\u001b[38;5;241;43m.\u001b[39;49m\u001b[43mbackward\u001b[49m\u001b[43m(\u001b[49m\u001b[38;5;28;43mself\u001b[39;49m\u001b[43m,\u001b[49m\u001b[43m \u001b[49m\u001b[43mgradient\u001b[49m\u001b[43m,\u001b[49m\u001b[43m \u001b[49m\u001b[43mretain_graph\u001b[49m\u001b[43m,\u001b[49m\u001b[43m \u001b[49m\u001b[43mcreate_graph\u001b[49m\u001b[43m,\u001b[49m\u001b[43m \u001b[49m\u001b[43minputs\u001b[49m\u001b[38;5;241;43m=\u001b[39;49m\u001b[43minputs\u001b[49m\u001b[43m)\u001b[49m\n",
      "File \u001b[0;32m/scratch2/pyttgp/lib/python3.10/site-packages/torch/autograd/__init__.py:173\u001b[0m, in \u001b[0;36mbackward\u001b[0;34m(tensors, grad_tensors, retain_graph, create_graph, grad_variables, inputs)\u001b[0m\n\u001b[1;32m    168\u001b[0m     retain_graph \u001b[38;5;241m=\u001b[39m create_graph\n\u001b[1;32m    170\u001b[0m \u001b[38;5;66;03m# The reason we repeat same the comment below is that\u001b[39;00m\n\u001b[1;32m    171\u001b[0m \u001b[38;5;66;03m# some Python versions print out the first line of a multi-line function\u001b[39;00m\n\u001b[1;32m    172\u001b[0m \u001b[38;5;66;03m# calls in the traceback and some print out the last line\u001b[39;00m\n\u001b[0;32m--> 173\u001b[0m \u001b[43mVariable\u001b[49m\u001b[38;5;241;43m.\u001b[39;49m\u001b[43m_execution_engine\u001b[49m\u001b[38;5;241;43m.\u001b[39;49m\u001b[43mrun_backward\u001b[49m\u001b[43m(\u001b[49m\u001b[43m  \u001b[49m\u001b[38;5;66;43;03m# Calls into the C++ engine to run the backward pass\u001b[39;49;00m\n\u001b[1;32m    174\u001b[0m \u001b[43m    \u001b[49m\u001b[43mtensors\u001b[49m\u001b[43m,\u001b[49m\u001b[43m \u001b[49m\u001b[43mgrad_tensors_\u001b[49m\u001b[43m,\u001b[49m\u001b[43m \u001b[49m\u001b[43mretain_graph\u001b[49m\u001b[43m,\u001b[49m\u001b[43m \u001b[49m\u001b[43mcreate_graph\u001b[49m\u001b[43m,\u001b[49m\u001b[43m \u001b[49m\u001b[43minputs\u001b[49m\u001b[43m,\u001b[49m\n\u001b[1;32m    175\u001b[0m \u001b[43m    \u001b[49m\u001b[43mallow_unreachable\u001b[49m\u001b[38;5;241;43m=\u001b[39;49m\u001b[38;5;28;43;01mTrue\u001b[39;49;00m\u001b[43m,\u001b[49m\u001b[43m \u001b[49m\u001b[43maccumulate_grad\u001b[49m\u001b[38;5;241;43m=\u001b[39;49m\u001b[38;5;28;43;01mTrue\u001b[39;49;00m\u001b[43m)\u001b[49m\n",
      "\u001b[0;31mKeyboardInterrupt\u001b[0m: "
     ]
    }
   ],
   "source": [
    "net.cuda()\n",
    "net.train()\n",
    "for i in range(NUM_EPOCHS):\n",
    "    epoch_loss = 0\n",
    "    num_batches = 0\n",
    "    for batch_start in range(0, idxs[frames[0]].shape[0], NUM_SAMPLES):\n",
    "        optimizer.zero_grad()\n",
    "        reconstruction = qtt2tensor3d(frame0_qtt.torch())\n",
    "        local_idxs = idxs[frames[0]][batch_start:batch_start + NUM_SAMPLES]\n",
    "        patches = get_3dtensors_patches(\n",
    "            reconstruction.clamp_max(MAX_TSDF).clamp_min(MIN_TSDF),\n",
    "            net.rec_field,\n",
    "            local_idxs)[:, None].cuda()\n",
    "        predicted_voxels = net(patches).reshape(-1)\n",
    "        clamped_pred = predicted_voxels.clamp_max(MAX_TSDF).clamp_min(MIN_TSDF)\n",
    "        clamped_gt = gt_sdf[local_idxs[:, 0], local_idxs[:, 1], local_idxs[:, 2]].cuda()\n",
    "        clamped_gt = clamped_gt.clamp_max(MAX_TSDF).clamp_min(MIN_TSDF)\n",
    "        loss = ((invert(clamped_pred, MAX_TSDF) - invert(clamped_gt, MAX_TSDF))**2).mean()\n",
    "        loss.backward()\n",
    "        epoch_loss += loss\n",
    "        num_batches += 1\n",
    "        print(f'Batch: {batch_start}, loss: {torch.sqrt(loss).item()}')\n",
    "    print(f'Epoch: {i}, loss: {torch.sqrt(epoch_loss / num_batches).item()}')\n",
    "    optimizer.step()"
   ]
  },
  {
   "cell_type": "code",
   "execution_count": null,
   "id": "8a2c5d92",
   "metadata": {},
   "outputs": [],
   "source": []
  },
  {
   "cell_type": "code",
   "execution_count": 36,
   "id": "b2946817",
   "metadata": {},
   "outputs": [
    {
     "data": {
      "text/plain": [
       "tensor(0.4947, grad_fn=<SqrtBackward0>)"
      ]
     },
     "execution_count": 36,
     "metadata": {},
     "output_type": "execute_result"
    }
   ],
   "source": [
    "torch.sqrt(((reconstruction - gt_sdf)**2).mean())"
   ]
  },
  {
   "cell_type": "code",
   "execution_count": 30,
   "id": "03dcc397",
   "metadata": {},
   "outputs": [],
   "source": [
    "# torch.save(net.state_dict(), '../logs/CNN_qtt_00032_fling_eagle_learning_frame0_inv.pt')"
   ]
  },
  {
   "cell_type": "code",
   "execution_count": 10,
   "id": "df90ddef",
   "metadata": {},
   "outputs": [
    {
     "data": {
      "text/plain": [
       "<All keys matched successfully>"
      ]
     },
     "execution_count": 10,
     "metadata": {},
     "output_type": "execute_result"
    }
   ],
   "source": [
    "state_dict = torch.load('../logs/CNN_qtt_00032_fling_eagle_learning_frame0.pt')\n",
    "net.load_state_dict(state_dict)"
   ]
  },
  {
   "cell_type": "code",
   "execution_count": 31,
   "id": "a5cf895d",
   "metadata": {},
   "outputs": [],
   "source": [
    "patch = get_3dtensors_patches(qtt2tensor3d(frame0_qtt.torch()), 512 + 13, torch.tensor([[255, 255, 255]]))\n",
    "net.cpu()\n",
    "with torch.no_grad():\n",
    "    predicted_voxels = net(patch[:, None])"
   ]
  },
  {
   "cell_type": "code",
   "execution_count": 32,
   "id": "2661e04c",
   "metadata": {},
   "outputs": [],
   "source": [
    "coords = torch.tensor(\n",
    "    torch.load('/scratch2/data/cape_release/meshes/00032/longshort_flying_eagle/coords.pt')['coords'])\n",
    "mesh = sdf2mesh(invert_back(predicted_voxels[0, 0, 10:-10, 10:-10, 10:-10]), coords)\n",
    "obj = trimesh.exchange.obj.export_obj(mesh, include_texture=False)\n",
    "with open('./mesh_sdf.obj', 'w') as f:\n",
    "    f.write(obj)"
   ]
  },
  {
   "cell_type": "code",
   "execution_count": 55,
   "id": "0ef79ca3",
   "metadata": {},
   "outputs": [],
   "source": [
    "coords = torch.tensor(\n",
    "    torch.load('/scratch2/data/cape_release/meshes/00032/longshort_flying_eagle/coords.pt')['coords'])\n",
    "mesh = sdf2mesh(predicted_voxels[0, 0, 10:-10, 10:-10, 10:-10] * (2 * 0.05), coords)\n",
    "obj = trimesh.exchange.obj.export_obj(mesh, include_texture=False)\n",
    "with open('./mesh_sdf.obj', 'w') as f:\n",
    "    f.write(obj)"
   ]
  },
  {
   "cell_type": "code",
   "execution_count": 57,
   "id": "b640e432",
   "metadata": {},
   "outputs": [],
   "source": [
    "coords = torch.tensor(\n",
    "    torch.load('/scratch2/data/cape_release/meshes/00032/longshort_flying_eagle/coords.pt')['coords'])\n",
    "mesh = sdf2mesh(reconstruction, coords)\n",
    "obj = trimesh.exchange.obj.export_obj(mesh, include_texture=False)\n",
    "with open('./mesh_sdf.obj', 'w') as f:\n",
    "    f.write(obj)"
   ]
  },
  {
   "cell_type": "code",
   "execution_count": null,
   "id": "5dbf0c27",
   "metadata": {},
   "outputs": [],
   "source": []
  }
 ],
 "metadata": {
  "kernelspec": {
   "display_name": "Python 3 (ipykernel)",
   "language": "python",
   "name": "python3"
  },
  "language_info": {
   "codemirror_mode": {
    "name": "ipython",
    "version": 3
   },
   "file_extension": ".py",
   "mimetype": "text/x-python",
   "name": "python",
   "nbconvert_exporter": "python",
   "pygments_lexer": "ipython3",
   "version": "3.10.4"
  }
 },
 "nbformat": 4,
 "nbformat_minor": 5
}
