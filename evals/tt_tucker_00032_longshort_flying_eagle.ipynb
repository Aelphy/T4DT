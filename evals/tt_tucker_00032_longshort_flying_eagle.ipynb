{
 "cells": [
  {
   "cell_type": "code",
   "execution_count": 5,
   "metadata": {},
   "outputs": [],
   "source": [
    "import tntorch as tn\n",
    "import torch\n",
    "import kaolin as kal\n",
    "import numpy as np\n",
    "import matplotlib.pyplot as plt\n",
    "torch.set_default_dtype(torch.float64)"
   ]
  },
  {
   "cell_type": "code",
   "execution_count": 2,
   "metadata": {},
   "outputs": [],
   "source": [
    "scene = torch.load('../logs/tucker_r40_00032_longshort_flying_eagle.pt')"
   ]
  },
  {
   "cell_type": "code",
   "execution_count": 3,
   "metadata": {},
   "outputs": [],
   "source": [
    "def reduce_tucker(ts, eps, rmax, algorithm):\n",
    "    d = dict()\n",
    "    for i, elem in enumerate(ts):\n",
    "        climb = 0  # For going up the tree\n",
    "        while climb in d:\n",
    "            elem = tn.round_tucker(tn.cat([d[climb], elem], dim=-1), eps=eps, rmax=rmax, algorithm=algorithm)\n",
    "            d.pop(climb)\n",
    "            climb += 1\n",
    "        d[climb] = elem\n",
    "    keys = list(d.keys())\n",
    "    result = d[keys[0]]\n",
    "    for key in keys[1:]:\n",
    "        result = tn.round_tucker(tn.cat([result, d[key]], dim=-1), eps=eps, rmax=rmax, algorithm=algorithm)\n",
    "    return result"
   ]
  },
  {
   "cell_type": "code",
   "execution_count": 6,
   "metadata": {},
   "outputs": [],
   "source": [
    "rmax = 80\n",
    "EPS = 1e-8\n",
    "MIN_TSDF = -0.05\n",
    "MAX_TSDF = 0.05\n",
    "tt_tucker = reduce_tucker([t[..., None].to(torch.float64) for t in scene], EPS, rmax, 'svd')"
   ]
  },
  {
   "cell_type": "code",
   "execution_count": 7,
   "metadata": {},
   "outputs": [
    {
     "data": {
      "text/plain": [
       "4D TT-Tucker tensor:\n",
       "\n",
       " 512 512 512 284\n",
       "  |   |   |   |\n",
       " 80  80  80  80\n",
       " (0) (1) (2) (3)\n",
       " / \\ / \\ / \\ / \\\n",
       "1   160 640080  1"
      ]
     },
     "execution_count": 7,
     "metadata": {},
     "output_type": "execute_result"
    }
   ],
   "source": [
    "tt_tucker"
   ]
  },
  {
   "cell_type": "code",
   "execution_count": 11,
   "metadata": {},
   "outputs": [
    {
     "data": {
      "text/plain": [
       "tensor(2.2838)"
      ]
     },
     "execution_count": 11,
     "metadata": {},
     "output_type": "execute_result"
    }
   ],
   "source": [
    "torch.norm(\n",
    "    tt_tucker[..., 0].torch().clamp_min(MIN_TSDF).clamp_max(MAX_TSDF) -\n",
    "    scene[0].torch().clamp_min(MIN_TSDF).clamp_max(MAX_TSDF))"
   ]
  },
  {
   "cell_type": "code",
   "execution_count": 8,
   "metadata": {},
   "outputs": [
    {
     "data": {
      "text/plain": [
       "tensor([   1,  160, 6400,   80,    1])"
      ]
     },
     "execution_count": 8,
     "metadata": {},
     "output_type": "execute_result"
    }
   ],
   "source": [
    "tt_tucker.ranks_tt"
   ]
  },
  {
   "cell_type": "code",
   "execution_count": 13,
   "metadata": {},
   "outputs": [],
   "source": [
    "truncated = tt_tucker.round_tt(rmax=512)"
   ]
  },
  {
   "cell_type": "code",
   "execution_count": 18,
   "metadata": {},
   "outputs": [
    {
     "data": {
      "text/plain": [
       "tensor([  1,  80, 512,  80,   1])"
      ]
     },
     "execution_count": 18,
     "metadata": {},
     "output_type": "execute_result"
    }
   ],
   "source": [
    "tt_tucker.ranks_tt"
   ]
  },
  {
   "cell_type": "code",
   "execution_count": 20,
   "metadata": {},
   "outputs": [
    {
     "data": {
      "text/plain": [
       "tensor(2.9335)"
      ]
     },
     "execution_count": 20,
     "metadata": {},
     "output_type": "execute_result"
    }
   ],
   "source": [
    "torch.norm(\n",
    "    tt_tucker[..., 0].torch().clamp_min(MIN_TSDF).clamp_max(MAX_TSDF) -\n",
    "    scene[0].torch().clamp_min(MIN_TSDF).clamp_max(MAX_TSDF))"
   ]
  },
  {
   "cell_type": "code",
   "execution_count": 149,
   "metadata": {},
   "outputs": [],
   "source": [
    "# torch.save(tt_tucker, '../logs/tt_tucker_r40_00032_longshort_flying_eagle.pt')"
   ]
  },
  {
   "cell_type": "code",
   "execution_count": 146,
   "metadata": {},
   "outputs": [
    {
     "data": {
      "text/plain": [
       "4D TT-Tucker tensor:\n",
       "\n",
       " 512 512 512 284\n",
       "  |   |   |   |\n",
       " 80  80  80  80\n",
       " (0) (1) (2) (3)\n",
       " / \\ / \\ / \\ / \\\n",
       "1   160 640080  1"
      ]
     },
     "execution_count": 146,
     "metadata": {},
     "output_type": "execute_result"
    }
   ],
   "source": [
    "tt_tucker"
   ]
  },
  {
   "cell_type": "code",
   "execution_count": 147,
   "metadata": {},
   "outputs": [
    {
     "data": {
      "text/plain": [
       "(tensor([80, 80, 80, 80]), tensor([   1,  160, 6400,   80,    1]))"
      ]
     },
     "execution_count": 147,
     "metadata": {},
     "output_type": "execute_result"
    }
   ],
   "source": [
    "tt_tucker.ranks_tucker, tt_tucker.ranks_tt"
   ]
  },
  {
   "cell_type": "code",
   "execution_count": 145,
   "metadata": {},
   "outputs": [
    {
     "data": {
      "text/plain": [
       "tensor(0.0021)"
      ]
     },
     "execution_count": 145,
     "metadata": {},
     "output_type": "execute_result"
    }
   ],
   "source": [
    "torch.norm(tt_tucker[..., 0].torch() - scene[0].torch()) / torch.norm(scene[0].torch())"
   ]
  },
  {
   "cell_type": "code",
   "execution_count": 73,
   "metadata": {},
   "outputs": [
    {
     "data": {
      "text/plain": [
       "tensor(58546.0647)"
      ]
     },
     "execution_count": 73,
     "metadata": {},
     "output_type": "execute_result"
    }
   ],
   "source": [
    "torch.norm(tt_tucker[..., 1].torch() - scene[1].torch())"
   ]
  },
  {
   "cell_type": "code",
   "execution_count": 148,
   "metadata": {},
   "outputs": [
    {
     "data": {
      "text/plain": [
       "tensor(0.0032)"
      ]
     },
     "execution_count": 148,
     "metadata": {},
     "output_type": "execute_result"
    }
   ],
   "source": [
    "tt_tucker.numcoef() / tt_tucker.numel()"
   ]
  },
  {
   "cell_type": "code",
   "execution_count": 139,
   "metadata": {},
   "outputs": [
    {
     "data": {
      "image/png": "[encoded data removed]",
      "text/plain": [
       "<Figure size 432x288 with 1 Axes>"
      ]
     },
     "metadata": {
      "needs_background": "light"
     },
     "output_type": "display_data"
    }
   ],
   "source": [
    "plt.figure()\n",
    "plt.plot([torch.norm(s.torch() - scene[0].torch()) / torch.norm(scene[0].torch()) for s in scene])\n",
    "plt.yscale('log')\n",
    "plt.show()"
   ]
  },
  {
   "cell_type": "code",
   "execution_count": 101,
   "metadata": {},
   "outputs": [],
   "source": []
  },
  {
   "cell_type": "code",
   "execution_count": 1,
   "metadata": {},
   "outputs": [],
   "source": [
    "# fname = '/scratch2/data/cape_release/meshes/00032/longshort_flying_eagle/posed/watertight_longshort_flying_eagle.000088.obj'\n",
    "\n",
    "# mesh = kal.io.obj.import_mesh(fname)"
   ]
  },
  {
   "cell_type": "code",
   "execution_count": 127,
   "metadata": {},
   "outputs": [],
   "source": [
    "MIN_TSDF = -0.05\n",
    "MAX_TSDF = 0.05\n",
    "t = tn.Tensor(sdf_field['sdf'].clamp_min(MIN_TSDF).clamp_max(MAX_TSDF), ranks_tucker=40)"
   ]
  },
  {
   "cell_type": "code",
   "execution_count": 128,
   "metadata": {},
   "outputs": [
    {
     "data": {
      "text/plain": [
       "tensor(0.0054)"
      ]
     },
     "execution_count": 128,
     "metadata": {},
     "output_type": "execute_result"
    }
   ],
   "source": [
    "torch.norm(t.torch() - sdf_field['sdf'].clamp_min(MIN_TSDF).clamp_max(MAX_TSDF)) / torch.norm(sdf_field['sdf'].clamp_min(MIN_TSDF).clamp_max(MAX_TSDF))"
   ]
  },
  {
   "cell_type": "code",
   "execution_count": null,
   "metadata": {},
   "outputs": [],
   "source": [
    "# mesh_pred = trimesh.base.Trimesh(vertices=verts, faces=faces)\n",
    "\n",
    "# obj = trimesh.exchange.export.export_obj(mesh_pred, include_texture=False)\n",
    "# with open('mesh.obj', 'w') as f:\n",
    "#     f.write(obj)"
   ]
  },
  {
   "cell_type": "code",
   "execution_count": null,
   "metadata": {},
   "outputs": [],
   "source": []
  }
 ],
 "metadata": {
  "kernelspec": {
   "display_name": "Python 3 (ipykernel)",
   "language": "python",
   "name": "python3"
  },
  "language_info": {
   "codemirror_mode": {
    "name": "ipython",
    "version": 3
   },
   "file_extension": ".py",
   "mimetype": "text/x-python",
   "name": "python",
   "nbconvert_exporter": "python",
   "pygments_lexer": "ipython3",
   "version": "3.10.4"
  }
 },
 "nbformat": 4,
 "nbformat_minor": 2
}
